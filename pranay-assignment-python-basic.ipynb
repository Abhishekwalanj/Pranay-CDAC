{
 "cells": [
  {
   "cell_type": "code",
   "execution_count": 136,
   "metadata": {},
   "outputs": [
    {
     "name": "stdout",
     "output_type": "stream",
     "text": [
      "not all number are different\n"
     ]
    }
   ],
   "source": [
    "# 1. Write a Python function that takes a sequence of numbers and determines whether all the numbers \n",
    "# are different from each other.\n",
    "\n",
    "def numSeq(*data):\n",
    "    'Enter sequence of nunbers'   \n",
    "        \n",
    "    if len(data)==len(set(data)):\n",
    "            print(\"all number are different\")\n",
    "    else:\n",
    "            print(\"not all number are different\")\n",
    "        \n",
    "numSeq(10,10,30)\n",
    "\n"
   ]
  },
  {
   "cell_type": "code",
   "execution_count": 24,
   "metadata": {
    "scrolled": false
   },
   "outputs": [
    {
     "name": "stdout",
     "output_type": "stream",
     "text": [
      "('a', 'e', 'i', 'o', 'u')\n",
      "('a', 'e', 'i', 'u', 'o')\n",
      "('a', 'e', 'o', 'i', 'u')\n",
      "('a', 'e', 'o', 'u', 'i')\n",
      "('a', 'e', 'u', 'i', 'o')\n",
      "('a', 'e', 'u', 'o', 'i')\n",
      "('a', 'i', 'e', 'o', 'u')\n",
      "('a', 'i', 'e', 'u', 'o')\n",
      "('a', 'i', 'o', 'e', 'u')\n",
      "('a', 'i', 'o', 'u', 'e')\n",
      "('a', 'i', 'u', 'e', 'o')\n",
      "('a', 'i', 'u', 'o', 'e')\n",
      "('a', 'o', 'e', 'i', 'u')\n",
      "('a', 'o', 'e', 'u', 'i')\n",
      "('a', 'o', 'i', 'e', 'u')\n",
      "('a', 'o', 'i', 'u', 'e')\n",
      "('a', 'o', 'u', 'e', 'i')\n",
      "('a', 'o', 'u', 'i', 'e')\n",
      "('a', 'u', 'e', 'i', 'o')\n",
      "('a', 'u', 'e', 'o', 'i')\n",
      "('a', 'u', 'i', 'e', 'o')\n",
      "('a', 'u', 'i', 'o', 'e')\n",
      "('a', 'u', 'o', 'e', 'i')\n",
      "('a', 'u', 'o', 'i', 'e')\n",
      "('e', 'a', 'i', 'o', 'u')\n",
      "('e', 'a', 'i', 'u', 'o')\n",
      "('e', 'a', 'o', 'i', 'u')\n",
      "('e', 'a', 'o', 'u', 'i')\n",
      "('e', 'a', 'u', 'i', 'o')\n",
      "('e', 'a', 'u', 'o', 'i')\n",
      "('e', 'i', 'a', 'o', 'u')\n",
      "('e', 'i', 'a', 'u', 'o')\n",
      "('e', 'i', 'o', 'a', 'u')\n",
      "('e', 'i', 'o', 'u', 'a')\n",
      "('e', 'i', 'u', 'a', 'o')\n",
      "('e', 'i', 'u', 'o', 'a')\n",
      "('e', 'o', 'a', 'i', 'u')\n",
      "('e', 'o', 'a', 'u', 'i')\n",
      "('e', 'o', 'i', 'a', 'u')\n",
      "('e', 'o', 'i', 'u', 'a')\n",
      "('e', 'o', 'u', 'a', 'i')\n",
      "('e', 'o', 'u', 'i', 'a')\n",
      "('e', 'u', 'a', 'i', 'o')\n",
      "('e', 'u', 'a', 'o', 'i')\n",
      "('e', 'u', 'i', 'a', 'o')\n",
      "('e', 'u', 'i', 'o', 'a')\n",
      "('e', 'u', 'o', 'a', 'i')\n",
      "('e', 'u', 'o', 'i', 'a')\n",
      "('i', 'a', 'e', 'o', 'u')\n",
      "('i', 'a', 'e', 'u', 'o')\n",
      "('i', 'a', 'o', 'e', 'u')\n",
      "('i', 'a', 'o', 'u', 'e')\n",
      "('i', 'a', 'u', 'e', 'o')\n",
      "('i', 'a', 'u', 'o', 'e')\n",
      "('i', 'e', 'a', 'o', 'u')\n",
      "('i', 'e', 'a', 'u', 'o')\n",
      "('i', 'e', 'o', 'a', 'u')\n",
      "('i', 'e', 'o', 'u', 'a')\n",
      "('i', 'e', 'u', 'a', 'o')\n",
      "('i', 'e', 'u', 'o', 'a')\n",
      "('i', 'o', 'a', 'e', 'u')\n",
      "('i', 'o', 'a', 'u', 'e')\n",
      "('i', 'o', 'e', 'a', 'u')\n",
      "('i', 'o', 'e', 'u', 'a')\n",
      "('i', 'o', 'u', 'a', 'e')\n",
      "('i', 'o', 'u', 'e', 'a')\n",
      "('i', 'u', 'a', 'e', 'o')\n",
      "('i', 'u', 'a', 'o', 'e')\n",
      "('i', 'u', 'e', 'a', 'o')\n",
      "('i', 'u', 'e', 'o', 'a')\n",
      "('i', 'u', 'o', 'a', 'e')\n",
      "('i', 'u', 'o', 'e', 'a')\n",
      "('o', 'a', 'e', 'i', 'u')\n",
      "('o', 'a', 'e', 'u', 'i')\n",
      "('o', 'a', 'i', 'e', 'u')\n",
      "('o', 'a', 'i', 'u', 'e')\n",
      "('o', 'a', 'u', 'e', 'i')\n",
      "('o', 'a', 'u', 'i', 'e')\n",
      "('o', 'e', 'a', 'i', 'u')\n",
      "('o', 'e', 'a', 'u', 'i')\n",
      "('o', 'e', 'i', 'a', 'u')\n",
      "('o', 'e', 'i', 'u', 'a')\n",
      "('o', 'e', 'u', 'a', 'i')\n",
      "('o', 'e', 'u', 'i', 'a')\n",
      "('o', 'i', 'a', 'e', 'u')\n",
      "('o', 'i', 'a', 'u', 'e')\n",
      "('o', 'i', 'e', 'a', 'u')\n",
      "('o', 'i', 'e', 'u', 'a')\n",
      "('o', 'i', 'u', 'a', 'e')\n",
      "('o', 'i', 'u', 'e', 'a')\n",
      "('o', 'u', 'a', 'e', 'i')\n",
      "('o', 'u', 'a', 'i', 'e')\n",
      "('o', 'u', 'e', 'a', 'i')\n",
      "('o', 'u', 'e', 'i', 'a')\n",
      "('o', 'u', 'i', 'a', 'e')\n",
      "('o', 'u', 'i', 'e', 'a')\n",
      "('u', 'a', 'e', 'i', 'o')\n",
      "('u', 'a', 'e', 'o', 'i')\n",
      "('u', 'a', 'i', 'e', 'o')\n",
      "('u', 'a', 'i', 'o', 'e')\n",
      "('u', 'a', 'o', 'e', 'i')\n",
      "('u', 'a', 'o', 'i', 'e')\n",
      "('u', 'e', 'a', 'i', 'o')\n",
      "('u', 'e', 'a', 'o', 'i')\n",
      "('u', 'e', 'i', 'a', 'o')\n",
      "('u', 'e', 'i', 'o', 'a')\n",
      "('u', 'e', 'o', 'a', 'i')\n",
      "('u', 'e', 'o', 'i', 'a')\n",
      "('u', 'i', 'a', 'e', 'o')\n",
      "('u', 'i', 'a', 'o', 'e')\n",
      "('u', 'i', 'e', 'a', 'o')\n",
      "('u', 'i', 'e', 'o', 'a')\n",
      "('u', 'i', 'o', 'a', 'e')\n",
      "('u', 'i', 'o', 'e', 'a')\n",
      "('u', 'o', 'a', 'e', 'i')\n",
      "('u', 'o', 'a', 'i', 'e')\n",
      "('u', 'o', 'e', 'a', 'i')\n",
      "('u', 'o', 'e', 'i', 'a')\n",
      "('u', 'o', 'i', 'a', 'e')\n",
      "('u', 'o', 'i', 'e', 'a')\n"
     ]
    }
   ],
   "source": [
    "# 2. Write a Python program to create all possible strings by using a,e,i,o,u. Use the characters exactly once.\n",
    "\n",
    "from itertools import permutations\n",
    "l=permutations(['a','e','i','o','u'])\n",
    "for i in list(l):\n",
    "    print(i)\n"
   ]
  },
  {
   "cell_type": "code",
   "execution_count": 37,
   "metadata": {},
   "outputs": [
    {
     "name": "stdout",
     "output_type": "stream",
     "text": [
      "[1, 2, 4, 5, 7, 8, 10]\n"
     ]
    }
   ],
   "source": [
    "# 3. Write a Python program to remove and print every third number from a list of numbers until the list becomes empty.\n",
    "\n",
    "num=[1,2,3,4,5,6,7,8,9,10]\n",
    "k=3\n",
    "del num[k-1::k]\n",
    "print(num)"
   ]
  },
  {
   "cell_type": "code",
   "execution_count": null,
   "metadata": {},
   "outputs": [],
   "source": [
    "# 4. Write a Python program to find unique triplets whose three elements gives the sum of zero from an array of n integers.\n",
    "\n"
   ]
  },
  {
   "cell_type": "code",
   "execution_count": 44,
   "metadata": {},
   "outputs": [
    {
     "name": "stdout",
     "output_type": "stream",
     "text": [
      "[1 2 3]\n",
      "[1 3 2]\n",
      "[2 1 3]\n",
      "[2 3 1]\n",
      "[3 1 2]\n",
      "[3 2 1]\n"
     ]
    }
   ],
   "source": [
    "# 5. Write a Python program to create the combinations of 3 digit combo.\n",
    "num=[1,2,3]\n",
    "\n",
    "for i in range(0,3):\n",
    "    for j in range(0,3):\n",
    "        for k in range(0,3):\n",
    "            if(i!=j and j!=k and k!=i):\n",
    "                print(\"[{} {} {}]\".format(num[i],num[j],num[k]))\n",
    "\n"
   ]
  },
  {
   "cell_type": "code",
   "execution_count": 111,
   "metadata": {},
   "outputs": [
    {
     "name": "stdout",
     "output_type": "stream",
     "text": [
      "{'love', 'prem', 'drive', 'car', 'dance', 'is', 'stupid', 'to', 'i', 'sing', 'my', 'this', 'me', 'and', 'hello', 'very'}\n",
      "love 1\n",
      "prem 1\n",
      "drive 1\n",
      "car 1\n",
      "dance 1\n",
      "is 3\n",
      "stupid 1\n",
      "to 1\n",
      "i 1\n",
      "sing 1\n",
      "my 1\n",
      "this 1\n",
      "me 3\n",
      "and 5\n",
      "hello 1\n",
      "very 1\n"
     ]
    }
   ],
   "source": [
    "# 6. Write a Python program to print a long text, convert the string to a list and print all the words and their frequencies.\n",
    "\n",
    "stra=\"hello this is me and me is prem and i love to sing and dance and drive my car and me is very stupid\"\n",
    "\n",
    "\n",
    "\n",
    "str_set={0}\n",
    "\n",
    "str_list=stra.split()\n",
    "\n",
    "for i in str_list:\n",
    "    str_set.add(i)\n",
    "\n",
    "str_set.remove(0)\n",
    "print(str_set)\n",
    "\n",
    "for i in str_set:\n",
    "    print(i,str_list.count(i))\n",
    "\n",
    "\n",
    "#for i in str_set:\n",
    "#    print(i,str_set.count(i))"
   ]
  },
  {
   "cell_type": "code",
   "execution_count": 130,
   "metadata": {},
   "outputs": [
    {
     "name": "stdout",
     "output_type": "stream",
     "text": [
      "hello this is me and me is prem and i love to sing and dance and drive my car and me is very stupid\n",
      "{'e', 'o', 'p', 'r', 'g', 'i', 'c', 'n', 't', 'l', 'y', 'm', 's', 'v', 'h', 'd', 'u', 'a'}\n",
      "e 9\n",
      "o 3\n",
      "p 2\n",
      "r 4\n",
      "g 1\n",
      "i 8\n",
      "c 2\n",
      "n 7\n",
      "t 3\n",
      "l 3\n",
      "y 2\n",
      "m 5\n",
      "s 6\n",
      "v 3\n",
      "h 2\n",
      "d 8\n",
      "u 1\n",
      "a 7\n"
     ]
    }
   ],
   "source": [
    "# 7. Write a Python program to count the number of each character of a given text of a text file.\n",
    "f=open(\"D:/test.txt\",\"w\")\n",
    "data=\"hello this is me and me is prem and i love to sing and dance and drive my car and me is very stupid\"\n",
    "f.write(data)\n",
    "f.close()\n",
    "\n",
    "f=open(\"D:/test.txt\",\"r\")\n",
    "stra=f.read()\n",
    "\n",
    "print(stra)\n",
    "\n",
    "letters={0}\n",
    "\n",
    "for i in stra:\n",
    "    letters.add(i)\n",
    "\n",
    "letters.remove(0)\n",
    "letters.remove(\" \")\n",
    "print(letters)\n",
    "\n",
    "for i in letters:\n",
    "    print(i,stra.count(i))\n",
    "\n"
   ]
  },
  {
   "cell_type": "code",
   "execution_count": 150,
   "metadata": {},
   "outputs": [
    {
     "name": "stdout",
     "output_type": "stream",
     "text": [
      "President, PM, MPs to take a pay cut to fund govt's efforts to fight Covid-19 - Times of India\n",
      "----------------------------------------------------------------------------------------------------\n",
      "Coronavirus cases cross 4,000 in India, 109 deaths. State-wise numbers here - Livemint\n",
      "----------------------------------------------------------------------------------------------------\n",
      "85 Out of 86 New Covid-19 Cases in Tamil Nadu Related to Tablighi Jamaat, Says State Health Secretary - News18\n",
      "----------------------------------------------------------------------------------------------------\n",
      "India’s efforts to combat COVID-19 have been lauded globally: PM Modi - The Hindu\n",
      "----------------------------------------------------------------------------------------------------\n",
      "COVID-19 Tracker: 83 deaths, 3,577 cases — state wise list of casualties and infections - The Indian Express\n",
      "----------------------------------------------------------------------------------------------------\n",
      "Nobel winner Abhijit Banerjee in Mamata Banerjee’s Covid-19 policy team - Hindustan Times\n",
      "----------------------------------------------------------------------------------------------------\n",
      "Coronavirus | Number of cases doubled in 4.1 days due to Tablighi Jamaat event, says Health Ministry - The Hindu\n",
      "----------------------------------------------------------------------------------------------------\n",
      "From Jagan to Yediyurappa, south CMs warn against communalising COVID-19 - The News Minute\n",
      "----------------------------------------------------------------------------------------------------\n",
      "Haryana Man Uses Bedsheet To Escape From Hospital Isolation, Falls, Dies - NDTV News\n",
      "----------------------------------------------------------------------------------------------------\n",
      "Delhi Police send second notice to Tablighi Jamaat over Markaz event - Hindustan Times\n",
      "----------------------------------------------------------------------------------------------------\n",
      "UK PM Boris Johnson ‘doing well’ in hospital, stays in charge of COVID-19 response - Hindustan Times\n",
      "----------------------------------------------------------------------------------------------------\n",
      "Americans brace for 'hardest, saddest' week of their lives - Times of India\n",
      "----------------------------------------------------------------------------------------------------\n",
      "Coronavirus | This is going to be our 9/11 moment, says doctor as U.S. braces for 'hardest' week - The Hindu\n",
      "----------------------------------------------------------------------------------------------------\n",
      "New coronavirus cases in Spain drop to lowest in over 2 weeks - Livemint\n",
      "----------------------------------------------------------------------------------------------------\n",
      "Prioritize spending on poor, Raghuram Rajan tells Modi - Livemint\n",
      "----------------------------------------------------------------------------------------------------\n",
      "Will you benefit by opting for EMI moratorium? Here's how much it will cost you - Economic Times\n",
      "----------------------------------------------------------------------------------------------------\n",
      "Mukesh Ambani's Net Worth Drops To $48 Billion In 2 Months Amid Coronavirus Crisis - NDTV Profit\n",
      "----------------------------------------------------------------------------------------------------\n",
      "Petrol sales shrink 15.5%, diesel 24% in March as lockdown wipes demand - Moneycontrol.com\n",
      "----------------------------------------------------------------------------------------------------\n",
      "Galaxy S10, Note 10 One UI 2.1 update widely available, grab it now! - SamMobile\n",
      "----------------------------------------------------------------------------------------------------\n",
      "Google Maps Now Shows Public Food, Night Shelters Across 30 Cities - Gadgets 360\n",
      "----------------------------------------------------------------------------------------------------\n",
      "Final Fantasy VII Remake spoiler-free review: Our kind of Cloud gaming - Ars Technica\n",
      "----------------------------------------------------------------------------------------------------\n",
      "Samsung's New Affordable 5G Phone Could Come Soon - NewsDio\n",
      "----------------------------------------------------------------------------------------------------\n",
      "Jaws actor Lee Fierro dies of coronavirus complications - Hindustan Times\n",
      "----------------------------------------------------------------------------------------------------\n",
      "Karim Morani's daughter Zoa Morani admitted to hospital for coronavirus symptoms - India Today\n",
      "----------------------------------------------------------------------------------------------------\n",
      "In Pics: Akshay Kumar, Deepika Padukone, Rajinikanth Take Part in Modi's 9pm, 9 Minutes Initiative - News18\n",
      "----------------------------------------------------------------------------------------------------\n",
      "Shilpa Shetty cheers for 68-year-old mother-in-law during workout, son Viaan joins in. Watch video - Hindustan Times\n",
      "----------------------------------------------------------------------------------------------------\n",
      "\"Caught Sri Lanka Off Guard\": Sachin Tendulkar's Advice To MS Dhoni In 2011 World Cup Final - NDTV Sports\n",
      "----------------------------------------------------------------------------------------------------\n",
      "Steve O'Keefe demands more help for Australian spin bowling | ESPNcricinfo.com - ESPNcricinfo\n",
      "----------------------------------------------------------------------------------------------------\n",
      "Bayern Munich confirm return to first-team training despite ongoing coronavirus crisis - Goal India\n",
      "----------------------------------------------------------------------------------------------------\n",
      "‘They have won the most knockout games’ - Scott Styris on why he prefers CSK over MI - Hindustan Times\n",
      "----------------------------------------------------------------------------------------------------\n",
      "For NASA’s SunRISE solar mission, 6 spacecrafts to make one giant space telescope - The Indian Express\n",
      "----------------------------------------------------------------------------------------------------\n",
      "Coronavirus lockdown can make you want to leave the planet — here's how you can explore Mars, Jupiter or even - Business Insider India\n",
      "----------------------------------------------------------------------------------------------------\n",
      "Coronavirus Lockdown Leads To Reduced Earth’s Seismic Vibrations: Geoscientists - Swarajya\n",
      "----------------------------------------------------------------------------------------------------\n",
      "What is a Pink Supermoon? Catch the biggest, brightest full moon in India on 8 April, 8.05 am IST - Firstpost\n",
      "----------------------------------------------------------------------------------------------------\n",
      "Lockdown Health Tips: Prevent Long Sitting Hours With These Simple Chair Exercises - NDTV News\n",
      "----------------------------------------------------------------------------------------------------\n",
      "Coronavirus prevention: Tips on how to wash your clothes during the pandemic - Times of India\n",
      "----------------------------------------------------------------------------------------------------\n",
      "Anti-malarial Drug to be Tried on 3,000 COVID-19 Patients in Detroit Hospital: US Vice President - The Weather Channel\n",
      "----------------------------------------------------------------------------------------------------\n",
      "Study Led By Dr Kylie Wagstaff Finds Possible Cure For COVID-19 - SheThePeople\n",
      "----------------------------------------------------------------------------------------------------\n"
     ]
    }
   ],
   "source": [
    "# 8. Write a Python program to get the top stories from Google news.\n",
    "\n",
    "import bs4\n",
    "from bs4 import BeautifulSoup as soup\n",
    "from urllib.request import urlopen\n",
    "\n",
    "\n",
    "url=\"https://news.google.com/news/rss\"\n",
    "page=urlopen(url)\n",
    "stories=page.read()\n",
    "page.close()\n",
    "\n",
    "soup_page=soup(stories,\"xml\")\n",
    "news_list=soup_page.findAll(\"item\")\n",
    "\n",
    "for i in news_list:\n",
    "    print(i.title.text)\n",
    "    print(\"-\"*100)"
   ]
  },
  {
   "cell_type": "code",
   "execution_count": 153,
   "metadata": {},
   "outputs": [
    {
     "ename": "AttributeError",
     "evalue": "module 'pip' has no attribute 'get_installed_distributions'",
     "output_type": "error",
     "traceback": [
      "\u001b[1;31m---------------------------------------------------------------------------\u001b[0m",
      "\u001b[1;31mAttributeError\u001b[0m                            Traceback (most recent call last)",
      "\u001b[1;32m<ipython-input-153-1f7a06abc3d2>\u001b[0m in \u001b[0;36m<module>\u001b[1;34m\u001b[0m\n\u001b[0;32m      1\u001b[0m \u001b[1;32mimport\u001b[0m \u001b[0mpip\u001b[0m\u001b[1;33m\u001b[0m\u001b[1;33m\u001b[0m\u001b[0m\n\u001b[1;32m----> 2\u001b[1;33m \u001b[0minstalled_packages\u001b[0m \u001b[1;33m=\u001b[0m \u001b[0mpip\u001b[0m\u001b[1;33m.\u001b[0m\u001b[0mget_installed_distributions\u001b[0m\u001b[1;33m(\u001b[0m\u001b[1;33m)\u001b[0m\u001b[1;33m\u001b[0m\u001b[1;33m\u001b[0m\u001b[0m\n\u001b[0m\u001b[0;32m      3\u001b[0m installed_packages_list = sorted([\"%s==%s\" % (i.key, i.version)\n\u001b[0;32m      4\u001b[0m      for i in installed_packages])\n\u001b[0;32m      5\u001b[0m \u001b[0mprint\u001b[0m\u001b[1;33m(\u001b[0m\u001b[0minstalled_packages_list\u001b[0m\u001b[1;33m)\u001b[0m\u001b[1;33m\u001b[0m\u001b[1;33m\u001b[0m\u001b[0m\n",
      "\u001b[1;31mAttributeError\u001b[0m: module 'pip' has no attribute 'get_installed_distributions'"
     ]
    }
   ],
   "source": []
  },
  {
   "cell_type": "code",
   "execution_count": null,
   "metadata": {},
   "outputs": [],
   "source": []
  },
  {
   "cell_type": "code",
   "execution_count": null,
   "metadata": {},
   "outputs": [],
   "source": []
  },
  {
   "cell_type": "code",
   "execution_count": null,
   "metadata": {},
   "outputs": [],
   "source": []
  },
  {
   "cell_type": "code",
   "execution_count": null,
   "metadata": {},
   "outputs": [],
   "source": []
  },
  {
   "cell_type": "code",
   "execution_count": null,
   "metadata": {},
   "outputs": [],
   "source": []
  },
  {
   "cell_type": "code",
   "execution_count": null,
   "metadata": {},
   "outputs": [],
   "source": []
  },
  {
   "cell_type": "code",
   "execution_count": null,
   "metadata": {},
   "outputs": [],
   "source": []
  },
  {
   "cell_type": "code",
   "execution_count": null,
   "metadata": {},
   "outputs": [],
   "source": []
  }
 ],
 "metadata": {
  "kernelspec": {
   "display_name": "Python 3",
   "language": "python",
   "name": "python3"
  },
  "language_info": {
   "codemirror_mode": {
    "name": "ipython",
    "version": 3
   },
   "file_extension": ".py",
   "mimetype": "text/x-python",
   "name": "python",
   "nbconvert_exporter": "python",
   "pygments_lexer": "ipython3",
   "version": "3.7.6"
  }
 },
 "nbformat": 4,
 "nbformat_minor": 4
}
