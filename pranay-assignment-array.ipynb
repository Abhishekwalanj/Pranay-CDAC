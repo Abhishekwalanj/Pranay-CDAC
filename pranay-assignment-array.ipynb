{
 "cells": [
  {
   "cell_type": "code",
   "execution_count": 5,
   "metadata": {},
   "outputs": [],
   "source": [
    "import numpy as np\n",
    "    "
   ]
  },
  {
   "cell_type": "code",
   "execution_count": 15,
   "metadata": {},
   "outputs": [
    {
     "name": "stdout",
     "output_type": "stream",
     "text": [
      "11\n",
      "12\n",
      "13\n",
      "14\n",
      "15\n"
     ]
    }
   ],
   "source": [
    "# 1. Write a Python program to create an array of 5 integers and display the array items. Access individual\n",
    "# element through indexes.\n",
    "\n",
    "a=np.arange(11,16)\n",
    "a\n",
    "for i in range(0,len(a)):\n",
    "    print(a[i])"
   ]
  },
  {
   "cell_type": "code",
   "execution_count": 32,
   "metadata": {},
   "outputs": [
    {
     "data": {
      "text/plain": [
       "[11, 12, 13, 14, 15, 16]"
      ]
     },
     "execution_count": 32,
     "metadata": {},
     "output_type": "execute_result"
    }
   ],
   "source": [
    "# append new item in array\n",
    "\n",
    "a=([11,12,13,14,15])\n",
    "a\n",
    "a.append(16)\n",
    "a"
   ]
  },
  {
   "cell_type": "code",
   "execution_count": 27,
   "metadata": {},
   "outputs": [
    {
     "data": {
      "text/plain": [
       "[15, 14, 13, 12, 11]"
      ]
     },
     "execution_count": 27,
     "metadata": {},
     "output_type": "execute_result"
    }
   ],
   "source": [
    "# reverse array\n",
    "\n",
    "a=([11,12,13,14,15])\n",
    "a\n",
    "a.reverse()\n",
    "a"
   ]
  },
  {
   "cell_type": "code",
   "execution_count": 36,
   "metadata": {},
   "outputs": [
    {
     "data": {
      "text/plain": [
       "4"
      ]
     },
     "execution_count": 36,
     "metadata": {},
     "output_type": "execute_result"
    }
   ],
   "source": [
    "# get internal length of item in bytes\n",
    "\n",
    "a=np.arange(11,16)\n",
    "a\n",
    "#a.shape\n",
    "a.itemsize"
   ]
  },
  {
   "cell_type": "code",
   "execution_count": 48,
   "metadata": {},
   "outputs": [
    {
     "name": "stdout",
     "output_type": "stream",
     "text": [
      "array:  ['45' '234.36546' 'Hello' 'True']\n",
      "memory address of array:  61635064\n",
      "size of memory:  128\n",
      "len of element 45 :  4\n",
      "len of element 234.36546 :  18\n",
      "len of element Hello :  10\n",
      "len of element True :  8\n"
     ]
    }
   ],
   "source": [
    "# 5. Write a Python program to get the current memory address and the length in elements of the buffer\n",
    "# used to hold an array?s contents and also find the size of the memory buffer in bytes.\n",
    "\n",
    "a=np.array([45,234.36546,\"Hello\",True])\n",
    "print(\"array: \",a)\n",
    "\n",
    "print(\"memory address of array: \",id(a))\n",
    "\n",
    "print(\"size of memory: \",a.itemsize)\n",
    "\n",
    "for i in a:\n",
    "    print(\"len of element\",i,\": \",i.itemsize)"
   ]
  },
  {
   "cell_type": "code",
   "execution_count": 73,
   "metadata": {},
   "outputs": [
    {
     "name": "stdout",
     "output_type": "stream",
     "text": [
      "<class 'numpy.ndarray'>\n",
      "[ 1  3  2  3 12  3  1  3  1  2 12  3  4]\n"
     ]
    },
    {
     "data": {
      "text/plain": [
       "{1, 2, 3, 4, 12}"
      ]
     },
     "execution_count": 73,
     "metadata": {},
     "output_type": "execute_result"
    }
   ],
   "source": [
    "# get the number of occurrences of a specified element in an array.\n",
    "\n",
    "a=np.array([1,3,2,3,12,3,1,3,1,2,12,3,4])\n",
    "print(type(a))\n",
    "print(a)\n",
    "s={0}\n",
    "for i in a:\n",
    "    s.add(i)\n",
    "    \n",
    "s.remove(0)\n",
    "s\n",
    "#a.count_nonzero(2)\n",
    "\n",
    "#for i in s:\n",
    "#    print(i,\"occured\",i.count(),\"times\")\n"
   ]
  },
  {
   "cell_type": "code",
   "execution_count": 9,
   "metadata": {},
   "outputs": [
    {
     "name": "stdout",
     "output_type": "stream",
     "text": [
      "original array: [1 3 5 7 9]\n",
      "appended array [1 3 5 7 9 1 3 5 7 9]\n"
     ]
    }
   ],
   "source": [
    "# 7. Write a Python program to append items from inerrable to the end of the array.\n",
    "\n",
    "import numpy as np\n",
    "\n",
    "a=np.arange(1,10,2)\n",
    "print(\"original array:\",a)\n",
    "a=np.append(a,a)\n",
    "print(\"appended array\",a)"
   ]
  },
  {
   "cell_type": "code",
   "execution_count": 46,
   "metadata": {},
   "outputs": [
    {
     "name": "stdout",
     "output_type": "stream",
     "text": [
      "byte representation of an array: pranay\n"
     ]
    }
   ],
   "source": [
    "# 8. Write a Python program to convert an array to an array of machine values and return the bytes representation.\n",
    "\n",
    "import numpy as np\n",
    "a=np.array([112,114,97,110,97,121])\n",
    "b=''\n",
    "for i in a:\n",
    "    e=i.tobytes()\n",
    "    e=str(e)\n",
    "    b=b+e[2]\n",
    "print(\"byte representation of an array:\",b)"
   ]
  },
  {
   "cell_type": "code",
   "execution_count": 52,
   "metadata": {},
   "outputs": [
    {
     "name": "stdout",
     "output_type": "stream",
     "text": [
      "[ 1  2  3  4  5  6  7  8  9 10]\n"
     ]
    }
   ],
   "source": [
    "# 9. Write a Python program to append items from a specified list.\n",
    "\n",
    "a=np.arange(1,7)\n",
    "ls=[7,8,9,10]\n",
    "a=np.append(a,ls)\n",
    "print(a)"
   ]
  },
  {
   "cell_type": "code",
   "execution_count": 64,
   "metadata": {},
   "outputs": [
    {
     "name": "stdout",
     "output_type": "stream",
     "text": [
      "original array: [1 2 3 4 5]\n",
      "insert 10 in second position: [ 1 10  2  3  4  5]\n"
     ]
    }
   ],
   "source": [
    "# 10. Write a Python program to insert a new item before the second element in an existing array.\n",
    "\n",
    "a=np.arange(1,6)\n",
    "print(\"original array:\",a)\n",
    "a=np.insert(a,1,10)\n",
    "print(\"insert 10 in second position:\",a)"
   ]
  },
  {
   "cell_type": "code",
   "execution_count": 76,
   "metadata": {},
   "outputs": [
    {
     "name": "stdout",
     "output_type": "stream",
     "text": [
      "original array: [1 2 3 4 5]\n",
      "modified array after deleting element 3 at index 2: [1 2 4 5]\n"
     ]
    }
   ],
   "source": [
    "# 11. Write a Python program to remove a specified item using the index from an array.\n",
    "\n",
    "import numpy as np\n",
    "\n",
    "a=np.arange(1,6)\n",
    "print(\"original array:\",a)\n",
    "a=np.delete(a,2)\n",
    "print(\"modified array after deleting element 3 at index 2:\",a)"
   ]
  },
  {
   "cell_type": "code",
   "execution_count": 85,
   "metadata": {},
   "outputs": [
    {
     "name": "stdout",
     "output_type": "stream",
     "text": [
      "Original Array: [ 1  2 54  6  7  9 23 15 54  3  6  7  9  1]\n",
      "Array after deleting 1st occurance of 54 [ 1  2  6  7  9 23 15 54  3  6  7  9  1]\n"
     ]
    }
   ],
   "source": [
    "# 12. Write a Python program to remove the first occurrence of a specified element from an array.\n",
    "\n",
    "a=np.array([1,2,54,6,7,9,23,15,54,3,6,7,9,1])\n",
    "print(\"Original Array:\",a)\n",
    "n=54\n",
    "for i in range(0,len(a)):\n",
    "    if a[i]==n:\n",
    "        a=np.delete(a,i)\n",
    "        break\n",
    "print(\"Array after deleting 1st occurance of\",n,a)"
   ]
  },
  {
   "cell_type": "code",
   "execution_count": 90,
   "metadata": {},
   "outputs": [
    {
     "name": "stdout",
     "output_type": "stream",
     "text": [
      "Original Array: [ 1  2 54  6  7  9 23 15 54  3  6  7  9  1] of type <class 'numpy.ndarray'>\n",
      "Array converted to list: [1, 2, 54, 6, 7, 9, 23, 15, 54, 3, 6, 7, 9, 1]\n"
     ]
    }
   ],
   "source": [
    "# 13. Write a Python program to convert an array to an ordinary list with the same items.\n",
    "\n",
    "a=np.array([1,2,54,6,7,9,23,15,54,3,6,7,9,1])\n",
    "print(\"Original Array:\",a,\"of type\",type(a))\n",
    "ls=[]\n",
    "for i in a:\n",
    "    ls.append(i)\n",
    "print(\"Array converted to list:\",ls)"
   ]
  },
  {
   "cell_type": "code",
   "execution_count": 109,
   "metadata": {},
   "outputs": [
    {
     "name": "stdout",
     "output_type": "stream",
     "text": [
      "Original Array: [ 1  2 54  6  7  9 23 15 54  3  6  7  9  1] of type <class 'numpy.ndarray'>\n",
      "Convert to list [1, 2, 54, 6, 7, 9, 23, 15, 54, 3, 6, 7, 9, 1]\n",
      "Individual element in set {1, 2, 3, 6, 7, 9, 15, 54, 23}\n",
      "True\n"
     ]
    }
   ],
   "source": [
    "# 14. Write a Python program to find whether a given array of integers contains any duplicate element. Return true if any value\n",
    "# appears at least twice in the said array and return false if every element is distinct.\n",
    "\n",
    "a=np.array([1,2,54,6,7,9,23,15,54,3,6,7,9,1])\n",
    "print(\"Original Array:\",a,\"of type\",type(a))\n",
    "s={0}\n",
    "ls=[]\n",
    "for i in a:\n",
    "    ls.append(i)\n",
    "    s.add(i)\n",
    "s.remove(0)\n",
    "print(\"Convert to list\",ls)\n",
    "print(\"Individual element in set\",s)\n",
    "c=0\n",
    "for i in s:\n",
    "    if ls.count(i)>1:\n",
    "        c+=1\n",
    "if c>1:\n",
    "    print(True)\n",
    "else:\n",
    "    print(False)"
   ]
  },
  {
   "cell_type": "code",
   "execution_count": 124,
   "metadata": {},
   "outputs": [
    {
     "name": "stdout",
     "output_type": "stream",
     "text": [
      "Original Array: [ 1  2 54  6  7  9 23 15 54  3  6  7  9  1] of type <class 'numpy.ndarray'>\n",
      "1st Duplicate element is 54\n"
     ]
    }
   ],
   "source": [
    "# 15. Write a Python program to find the first duplicate element in a given array of integers. \n",
    "# Return -1 If there are no such elements.\n",
    "\n",
    "a=np.array([1,2,54,6,7,9,23,15,54,3,6,7,9,1])\n",
    "print(\"Original Array:\",a,\"of type\",type(a))\n",
    "ls=list(a)\n",
    "s=set()\n",
    "c=0\n",
    "for i in a:\n",
    "    if i in s:\n",
    "        c=i\n",
    "        break\n",
    "    else:\n",
    "        s.add(i)\n",
    "\n",
    "if c!=0:\n",
    "    print(\"1st Duplicate element is\",c)\n",
    "else:\n",
    "    print(\"No duplicates. Return -1\")\n"
   ]
  }
 ],
 "metadata": {
  "kernelspec": {
   "display_name": "Python 3",
   "language": "python",
   "name": "python3"
  },
  "language_info": {
   "codemirror_mode": {
    "name": "ipython",
    "version": 3
   },
   "file_extension": ".py",
   "mimetype": "text/x-python",
   "name": "python",
   "nbconvert_exporter": "python",
   "pygments_lexer": "ipython3",
   "version": "3.7.6"
  }
 },
 "nbformat": 4,
 "nbformat_minor": 4
}
