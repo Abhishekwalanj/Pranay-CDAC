{
 "cells": [
  {
   "cell_type": "code",
   "execution_count": 5,
   "metadata": {},
   "outputs": [],
   "source": [
    "import numpy as np\n",
    "    "
   ]
  },
  {
   "cell_type": "code",
   "execution_count": 15,
   "metadata": {},
   "outputs": [
    {
     "name": "stdout",
     "output_type": "stream",
     "text": [
      "11\n",
      "12\n",
      "13\n",
      "14\n",
      "15\n"
     ]
    }
   ],
   "source": [
    "# 1. Write a Python program to create an array of 5 integers and display the array items. Access individual\n",
    "# element through indexes.\n",
    "\n",
    "a=np.arange(11,16)\n",
    "a\n",
    "for i in range(0,len(a)):\n",
    "    print(a[i])"
   ]
  },
  {
   "cell_type": "code",
   "execution_count": 32,
   "metadata": {},
   "outputs": [
    {
     "data": {
      "text/plain": [
       "[11, 12, 13, 14, 15, 16]"
      ]
     },
     "execution_count": 32,
     "metadata": {},
     "output_type": "execute_result"
    }
   ],
   "source": [
    "# append new item in array\n",
    "\n",
    "a=([11,12,13,14,15])\n",
    "a\n",
    "a.append(16)\n",
    "a"
   ]
  },
  {
   "cell_type": "code",
   "execution_count": 27,
   "metadata": {},
   "outputs": [
    {
     "data": {
      "text/plain": [
       "[15, 14, 13, 12, 11]"
      ]
     },
     "execution_count": 27,
     "metadata": {},
     "output_type": "execute_result"
    }
   ],
   "source": [
    "# reverse array\n",
    "\n",
    "a=([11,12,13,14,15])\n",
    "a\n",
    "a.reverse()\n",
    "a"
   ]
  },
  {
   "cell_type": "code",
   "execution_count": 36,
   "metadata": {},
   "outputs": [
    {
     "data": {
      "text/plain": [
       "4"
      ]
     },
     "execution_count": 36,
     "metadata": {},
     "output_type": "execute_result"
    }
   ],
   "source": [
    "# get internal length of item in bytes\n",
    "\n",
    "a=np.arange(11,16)\n",
    "a\n",
    "#a.shape\n",
    "a.itemsize"
   ]
  },
  {
   "cell_type": "code",
   "execution_count": 48,
   "metadata": {},
   "outputs": [
    {
     "name": "stdout",
     "output_type": "stream",
     "text": [
      "array:  ['45' '234.36546' 'Hello' 'True']\n",
      "memory address of array:  61635064\n",
      "size of memory:  128\n",
      "len of element 45 :  4\n",
      "len of element 234.36546 :  18\n",
      "len of element Hello :  10\n",
      "len of element True :  8\n"
     ]
    }
   ],
   "source": [
    "# 5. Write a Python program to get the current memory address and the length in elements of the buffer\n",
    "# used to hold an array?s contents and also find the size of the memory buffer in bytes.\n",
    "\n",
    "a=np.array([45,234.36546,\"Hello\",True])\n",
    "print(\"array: \",a)\n",
    "\n",
    "print(\"memory address of array: \",id(a))\n",
    "\n",
    "print(\"size of memory: \",a.itemsize)\n",
    "\n",
    "for i in a:\n",
    "    print(\"len of element\",i,\": \",i.itemsize)"
   ]
  },
  {
   "cell_type": "code",
   "execution_count": 73,
   "metadata": {},
   "outputs": [
    {
     "name": "stdout",
     "output_type": "stream",
     "text": [
      "<class 'numpy.ndarray'>\n",
      "[ 1  3  2  3 12  3  1  3  1  2 12  3  4]\n"
     ]
    },
    {
     "data": {
      "text/plain": [
       "{1, 2, 3, 4, 12}"
      ]
     },
     "execution_count": 73,
     "metadata": {},
     "output_type": "execute_result"
    }
   ],
   "source": [
    "# get the number of occurrences of a specified element in an array.\n",
    "\n",
    "a=np.array([1,3,2,3,12,3,1,3,1,2,12,3,4])\n",
    "print(type(a))\n",
    "print(a)\n",
    "s={0}\n",
    "for i in a:\n",
    "    s.add(i)\n",
    "    \n",
    "s.remove(0)\n",
    "s\n",
    "\n",
    "\n",
    "\n",
    "#a.count_nonzero(2)\n",
    "\n",
    "#for i in s:\n",
    "#    print(i,\"occured\",i.count(),\"times\")\n"
   ]
  },
  {
   "cell_type": "code",
   "execution_count": 82,
   "metadata": {},
   "outputs": [
    {
     "ename": "SyntaxError",
     "evalue": "invalid syntax (<ipython-input-82-477541deef7d>, line 1)",
     "output_type": "error",
     "traceback": [
      "\u001b[1;36m  File \u001b[1;32m\"<ipython-input-82-477541deef7d>\"\u001b[1;36m, line \u001b[1;32m1\u001b[0m\n\u001b[1;33m    try: if'1'!=1: raise\u001b[0m\n\u001b[1;37m          ^\u001b[0m\n\u001b[1;31mSyntaxError\u001b[0m\u001b[1;31m:\u001b[0m invalid syntax\n"
     ]
    }
   ],
   "source": [
    "\n",
    "        \n",
    "    "
   ]
  }
 ],
 "metadata": {
  "kernelspec": {
   "display_name": "Python 3",
   "language": "python",
   "name": "python3"
  },
  "language_info": {
   "codemirror_mode": {
    "name": "ipython",
    "version": 3
   },
   "file_extension": ".py",
   "mimetype": "text/x-python",
   "name": "python",
   "nbconvert_exporter": "python",
   "pygments_lexer": "ipython3",
   "version": "3.7.6"
  }
 },
 "nbformat": 4,
 "nbformat_minor": 4
}
