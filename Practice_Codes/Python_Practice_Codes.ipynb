{
 "cells": [
  {
   "cell_type": "markdown",
   "metadata": {},
   "source": [
    "# DAY -> 1\n"
   ]
  },
  {
   "cell_type": "code",
   "execution_count": 8,
   "metadata": {},
   "outputs": [
    {
     "name": "stdout",
     "output_type": "stream",
     "text": [
      "2002,2009,2016,2023,2037,2044,2051,2058,2072,2079,2086,2093,2107,2114,2121,2128,2142,2149,2156,2163,2177,2184,2191,2198,2212,2219,2226,2233,2247,2254,2261,2268,2282,2289,2296,2303,2317,2324,2331,2338,2352,2359,2366,2373,2387,2394,2401,2408,2422,2429,2436,2443,2457,2464,2471,2478,2492,2499,2506,2513,2527,2534,2541,2548,2562,2569,2576,2583,2597,2604,2611,2618,2632,2639,2646,2653,2667,2674,2681,2688,2702,2709,2716,2723,2737,2744,2751,2758,2772,2779,2786,2793,2807,2814,2821,2828,2842,2849,2856,2863,2877,2884,2891,2898,2912,2919,2926,2933,2947,2954,2961,2968,2982,2989,2996,3003,3017,3024,3031,3038,3052,3059,3066,3073,3087,3094,3101,3108,3122,3129,3136,3143,3157,3164,3171,3178,3192,3199\n"
     ]
    }
   ],
   "source": [
    "'''\n",
    "Write a program which will find all such numbers which are divisible by 7 but are not a multiple of 5,\n",
    "between 2000 and 3200 (both included). The numbers obtained should be printed in a comma-separated sequence on a single line.\n",
    "'''\n",
    "\n",
    "a=''\n",
    "for i in range(2000,3201):\n",
    "    if i%7==0 and i%5!=0:\n",
    "        a=a+str(i)+','\n",
    "print(a[:-1])"
   ]
  },
  {
   "cell_type": "code",
   "execution_count": 15,
   "metadata": {},
   "outputs": [
    {
     "name": "stdout",
     "output_type": "stream",
     "text": [
      "Enter Range: 8\n",
      "{1: 1, 2: 4, 3: 9, 4: 16, 5: 25, 6: 36, 7: 49, 8: 64}\n"
     ]
    }
   ],
   "source": [
    "'''\n",
    "With a given integral number n, write a program to generate a dictionary that contains (i, i*i) such that is an integral number between 1 and n (both included). and then the program should print the dictionary.\n",
    "Suppose the following input is supplied to the program: 8 Then, the output should be:\n",
    "{1: 1, 2: 4, 3: 9, 4: 16, 5: 25, 6: 36, 7: 49, 8: 64}\n",
    "'''\n",
    "\n",
    "n=int(input(\"Enter Range: \"))\n",
    "dic={}\n",
    "for i in range(1,n+1):\n",
    "    dic.__setitem__(i,i*i)\n",
    "print(dic)"
   ]
  },
  {
   "cell_type": "code",
   "execution_count": 22,
   "metadata": {},
   "outputs": [
    {
     "name": "stdout",
     "output_type": "stream",
     "text": [
      "Hello world\n",
      "Practice makes perfect\n",
      "\n",
      "HELLO WORLD\n",
      "PRACTICE MAKES PERFECT\n"
     ]
    }
   ],
   "source": [
    "'''\n",
    "Write a program that accepts sequence of lines as input and prints the lines after making all characters in the sentence capitalized.\n",
    "Suppose the following input is supplied to the program:\n",
    "Hello world\n",
    "Practice makes perfect\n",
    "Then, the output should be:\n",
    "HELLO WORLD\n",
    "PRACTICE MAKES PERFECT\n",
    "'''\n",
    "lines=[]\n",
    "while True:\n",
    "    l=input()\n",
    "    if l=='':\n",
    "        break\n",
    "    else:        \n",
    "        lines.append(l)\n",
    "for i in lines:\n",
    "    print(i.upper())"
   ]
  },
  {
   "cell_type": "code",
   "execution_count": 23,
   "metadata": {},
   "outputs": [
    {
     "name": "stdout",
     "output_type": "stream",
     "text": [
      "Enter a Number : 456\n",
      "Even\n"
     ]
    }
   ],
   "source": [
    "# Write a program to check wheather number is even or odd using if Else statement…\n",
    "\n",
    "num=int(input(\"Enter a Number : \"))\n",
    "if num%2==0:\n",
    "    print(\"Even\")\n",
    "else:\n",
    "    print(\"Odd\")"
   ]
  },
  {
   "cell_type": "code",
   "execution_count": 24,
   "metadata": {},
   "outputs": [
    {
     "name": "stdout",
     "output_type": "stream",
     "text": [
      "Enter Age : 12\n",
      "You are allowed… Welcome!!\n"
     ]
    }
   ],
   "source": [
    "'''\n",
    "WAP that grants access only to kids aged between 8-12 using  if  else statement\n",
    "Hint:: If aged between 8 to 12 then you are allowed… welcome!! Otherwise Sorry not allowed ..Bye!\n",
    "'''\n",
    "\n",
    "age=int(input(\"Enter Age : \"))\n",
    "if age>=8 and age<=12:\n",
    "    print(\"You are allowed… Welcome!!\")\n",
    "else:\n",
    "    print(\"Sorry not allowed ..Bye!\")"
   ]
  },
  {
   "cell_type": "markdown",
   "metadata": {},
   "source": [
    "# DAY -> 2"
   ]
  },
  {
   "cell_type": "code",
   "execution_count": 1,
   "metadata": {},
   "outputs": [
    {
     "name": "stdout",
     "output_type": "stream",
     "text": [
      "Enter a number: 5\n",
      "1 + 2 + 3 + 4 + 5 = 15\n"
     ]
    }
   ],
   "source": [
    "'''\n",
    "1.Python Program to Read a Number n And Print the Series “1+2+…..+n= “\n",
    "sample:\n",
    "Case 1: Enter a number: 4 -> 1 + 2 + 3 + 4 = 10 \n",
    "Case 2: Enter a number: 5 -> 1 + 2 + 3 + 4 + 5 = 15\n",
    "'''\n",
    "\n",
    "n=int(input(\"Enter a number: \"))\n",
    "a,s='',0\n",
    "for i in range(1,n+1):\n",
    "    s+=i\n",
    "    a=a+str(i)+' + '\n",
    "print(a[:-3],\"=\",s)"
   ]
  },
  {
   "cell_type": "code",
   "execution_count": 3,
   "metadata": {},
   "outputs": [
    {
     "name": "stdout",
     "output_type": "stream",
     "text": [
      "Number of even numbers : 4 Number of odd numbers : 5\n"
     ]
    }
   ],
   "source": [
    "'''\n",
    "Write a Python program to count the number of even and odd numbers from a series of numbers.\n",
    "Sample numbers : numbers = [1, 2, 3, 4, 5, 6, 7, 8, 9]\n",
    "Expected Output :\n",
    "Number of even numbers : 4 Number of odd numbers : 5\n",
    "'''\n",
    "\n",
    "n=[1, 2, 3, 4, 5, 6, 7, 8, 9]\n",
    "e,o=0,0\n",
    "for i in n:\n",
    "    if i%2==0:\n",
    "        e+=1\n",
    "    else:\n",
    "        o+=1\n",
    "print(\"Number of even numbers :\",e,\"Number of odd numbers :\",o)"
   ]
  },
  {
   "cell_type": "code",
   "execution_count": 4,
   "metadata": {},
   "outputs": [
    {
     "name": "stdout",
     "output_type": "stream",
     "text": [
      "Enter a number: 17\n",
      "17 X 1 = 17\n",
      "17 X 2 = 34\n",
      "17 X 3 = 51\n",
      "17 X 4 = 68\n",
      "17 X 5 = 85\n",
      "17 X 6 = 102\n",
      "17 X 7 = 119\n",
      "17 X 8 = 136\n",
      "17 X 9 = 153\n",
      "17 X 10 = 170\n"
     ]
    }
   ],
   "source": [
    "# 3.Write a Python program to create the multiplication table (from 1 to 10) of a number. \n",
    "\n",
    "n=int(input(\"Enter a number: \"))\n",
    "for i in range(1,11):\n",
    "    print(n,'X',i,'=',i*n)"
   ]
  },
  {
   "attachments": {
    "image.png": {
     "image/png": "[encoded data removed]"
    }
   },
   "cell_type": "markdown",
   "metadata": {},
   "source": [
    "Q 4 -> '''Given the triangle of consecutive odd  numbers\n",
    "\n",
    "![image.png](attachment:image.png)\n",
    "\n",
    "Above triangle is given Calculate Sum row wise \n",
    "Example we call function :- row_sum_odd_numbers(2)\n",
    "Result will be=3 + 5 = 8\n",
    "if user give 4 then ur output is 13 + 15 + 17+ 19 = 64\n",
    "'''"
   ]
  },
  {
   "cell_type": "code",
   "execution_count": 107,
   "metadata": {},
   "outputs": [
    {
     "name": "stdout",
     "output_type": "stream",
     "text": [
      "Enter a number: 6\n",
      "      1  \n",
      "     3      5  \n",
      "    7     9     11  \n",
      "   13    15    17    19  \n",
      "  21   23   25   27   29  \n",
      " 31  33  35  37  39  41  \n",
      "\n",
      "Enter Row Number: 5\n",
      "21 + 23 + 25 + 27 + 29  = 125\n"
     ]
    }
   ],
   "source": [
    "def row_sum_odd_numbers(r,d):\n",
    "    s=0\n",
    "    a=''\n",
    "    for i  in d.get(r):\n",
    "        a=a+str(i)+' + '\n",
    "        s+=i\n",
    "    print(a[:-2],\"=\",s)\n",
    "\n",
    "n=int(input(\"Enter a number: \"))\n",
    "a=1\n",
    "d={}\n",
    "for i in range(1,n+1):\n",
    "    ls=[]\n",
    "    for j in range(1,i+1):\n",
    "        print(' '*((n)-(i)),a,end=' ')\n",
    "        ls.append(a)\n",
    "        a+=2\n",
    "    d.__setitem__(i,ls)\n",
    "    print(' ')\n",
    "\n",
    "r=int(input(\"\\nEnter Row Number: \"))\n",
    "row_sum_odd_numbers(r,d)\n"
   ]
  },
  {
   "cell_type": "code",
   "execution_count": 111,
   "metadata": {},
   "outputs": [
    {
     "name": "stdout",
     "output_type": "stream",
     "text": [
      "Enter a number: 5\n",
      " \n",
      "1 \n",
      "22 \n",
      "333 \n",
      "4444 \n",
      "55555 \n"
     ]
    }
   ],
   "source": [
    "'''\n",
    "Write python program to print the pattern given below\n",
    "Note: Take input from user\n",
    "1\n",
    "2 2\n",
    "3 3 3\n",
    "4 4 4 4\n",
    "5 5 5 5 5\n",
    "'''\n",
    "\n",
    "n=int(input(\"Enter a number: \"))\n",
    "for i in range(n+1):\n",
    "    print((str(i))*i,end=' \\n')"
   ]
  },
  {
   "cell_type": "markdown",
   "metadata": {},
   "source": [
    "# DAY -> 3"
   ]
  },
  {
   "cell_type": "code",
   "execution_count": 112,
   "metadata": {},
   "outputs": [
    {
     "name": "stdout",
     "output_type": "stream",
     "text": [
      "Original List: [5, 15, 25, 35, 45, 55, 65, 75, 85, 95]\n",
      "Squared List: [25, 225, 625, 1225, 2025, 3025, 4225, 5625, 7225, 9025]\n"
     ]
    }
   ],
   "source": [
    "# You are given with a list of integer elements. Make a new list which will store square of elements of previous list.\n",
    "\n",
    "ls=[5,15,25,35,45,55,65,75,85,95]\n",
    "print(\"Original List:\",ls)\n",
    "ls1=[]\n",
    "for i in ls:\n",
    "      ls1.append(i**2)\n",
    "print(\"Squared List:\",ls1)"
   ]
  },
  {
   "cell_type": "code",
   "execution_count": 113,
   "metadata": {},
   "outputs": [
    {
     "name": "stdout",
     "output_type": "stream",
     "text": [
      "Original List: [5, 15, 25, 35, 45, 55, 65, 75, 85, 95]\n",
      "Int List:  [1, 2, 3] \n",
      "Float List:  [3.14, 89.75, 34.78] \n",
      "String List:  ['asdf', 'drth', 'irugh']\n"
     ]
    }
   ],
   "source": [
    "# From a list containing ints, strings and floats, make three lists to store them separately. \n",
    "\n",
    "mixLs=[1,2,3,'asdf','drth','irugh',3.14,89.75,34.78]\n",
    "print(\"Original List:\",ls)\n",
    "iLs,fLs,sLs=[],[],[]\n",
    "for i in mixLs:\n",
    "    if isinstance(i,int):\n",
    "        iLs.append(i)\n",
    "    elif isinstance(i,float):\n",
    "        fLs.append(i)\n",
    "    elif isinstance(i,str):\n",
    "        sLs.append(i)\n",
    "print(\"Int List: \",iLs,\"\\nFloat List: \",fLs,\"\\nString List: \",sLs)"
   ]
  },
  {
   "cell_type": "code",
   "execution_count": 132,
   "metadata": {},
   "outputs": [
    {
     "name": "stdout",
     "output_type": "stream",
     "text": [
      "1  \n",
      "1 2  \n",
      "1 2 3  \n",
      "1 2 3 4  \n",
      "1 2 3 4 5  \n"
     ]
    }
   ],
   "source": [
    "'''\n",
    "3.\tPrint the pattern\n",
    "1\n",
    "1 2 \n",
    "1 2 3\n",
    "1 2 3 4\n",
    "1 2 3 4 5\n",
    "'''\n",
    "\n",
    "n=5\n",
    "#int(input(\"Enter a number: \"))\n",
    "for i in range(1,n+1):\n",
    "    a=1\n",
    "    for j in range(1,i+1):\n",
    "        print((str(a)),end=' ')\n",
    "        a+=1\n",
    "    print(' ')"
   ]
  },
  {
   "cell_type": "code",
   "execution_count": 16,
   "metadata": {},
   "outputs": [
    {
     "name": "stdout",
     "output_type": "stream",
     "text": [
      "Matrix 1\n",
      " [[1 2 3]\n",
      " [4 5 6]\n",
      " [7 8 9]] \n",
      "Matrix 2\n",
      " [[11 12 13]\n",
      " [14 15 16]\n",
      " [17 18 19]]\n",
      "Matrix Addition Result\n",
      " [[12 14 16]\n",
      " [18 20 22]\n",
      " [24 26 28]]\n"
     ]
    }
   ],
   "source": [
    "# 4.\tAccept data in two 3*3  matrix and calculate the sum of the matrices.\n",
    "\n",
    "import numpy as np\n",
    "\n",
    "a=np.arange(1,10)\n",
    "b=np.arange(11,20)\n",
    "    \n",
    "print('Matrix 1\\n',a.reshape(3,3),'\\nMatrix 2\\n',b.reshape(3,3))\n",
    "print('Matrix Addition Result\\n',(a+b).reshape(3,3))"
   ]
  },
  {
   "cell_type": "code",
   "execution_count": 29,
   "metadata": {},
   "outputs": [
    {
     "name": "stdout",
     "output_type": "stream",
     "text": [
      "Enter a number: 1634\n",
      "1^4 + 6^4 + 3^4 + 4^4 = 1634\n",
      "narcissistic\n"
     ]
    }
   ],
   "source": [
    "'''\n",
    "5.\tWrite a Python program to check whether a given number is a narcissistic number or not\n",
    "For example, 371 is a narcissistic number; it has three digits, and if we cube each digits  33 + 73 + 13 the sum is 371. Other 3-digit narcissistic numbers are\n",
    "153 = 13 + 53 + 33\n",
    "There are also 4-digit narcissistic numbers, some of which are 1634, 8208, 9474 since\n",
    "1634 = 14+64+34+44\n",
    "'''\n",
    "\n",
    "n=input(\"Enter a number: \")\n",
    "s=0\n",
    "a=''\n",
    "for i in n:\n",
    "    s+=int(i)**(len(n))\n",
    "    a+=i+'^'+str(len(n))+' + '\n",
    "print(a[:-3],'=',s)\n",
    "if str(s)==n:\n",
    "    print(\"narcissistic\")\n",
    "else:\n",
    "    print(\"not narcissistic\")"
   ]
  },
  {
   "cell_type": "markdown",
   "metadata": {},
   "source": [
    "# DAY -> 4"
   ]
  },
  {
   "cell_type": "code",
   "execution_count": 31,
   "metadata": {},
   "outputs": [
    {
     "name": "stdout",
     "output_type": "stream",
     "text": [
      "Enter A: 100\n",
      "Enter B: 150\n",
      "Enter C: 20\n",
      "150\n"
     ]
    }
   ],
   "source": [
    "# 1.\tWrite a function to find max of three numbers.\n",
    "\n",
    "def max3(a,b,c):\n",
    "    ls=[a,b,c]\n",
    "    return max(ls)\n",
    "\n",
    "a,b,c=int(input(\"Enter A: \")),int(input(\"Enter B: \")),int(input(\"Enter C: \"))\n",
    "print(max3(a,b,c))"
   ]
  },
  {
   "cell_type": "code",
   "execution_count": 38,
   "metadata": {},
   "outputs": [
    {
     "name": "stdout",
     "output_type": "stream",
     "text": [
      "No. of variables in Function are: 3\n"
     ]
    }
   ],
   "source": [
    "# 2.\tWrite a Python program to detect the number of local variables declared in a function.\n",
    "\n",
    "def abc():\n",
    "    x = 1\n",
    "    y = 2\n",
    "    str1= \"Pranay\"\n",
    "    print(\"Python Practice Session\")\n",
    "\n",
    "print(\"No. of variables in Function are:\",abc.__code__.co_nlocals)"
   ]
  },
  {
   "cell_type": "code",
   "execution_count": 48,
   "metadata": {},
   "outputs": [
    {
     "name": "stdout",
     "output_type": "stream",
     "text": [
      "55\n"
     ]
    }
   ],
   "source": [
    "# Write a function to calculate the sum of numbers from 0 to 10 Expected output: 55\n",
    "\n",
    "def sumNum(ls):\n",
    "    return sum(ls)\n",
    "\n",
    "print(sumNum([i for i in range(1,11)]))"
   ]
  },
  {
   "cell_type": "code",
   "execution_count": 67,
   "metadata": {},
   "outputs": [
    {
     "name": "stdout",
     "output_type": "stream",
     "text": [
      "Enter Id: \n",
      "Enter Name: Pranay\n",
      "Enter VITA: \n",
      "Id: 1 , Name: Pranay , College: VITA\n"
     ]
    }
   ],
   "source": [
    "'''\n",
    "Create a function showStudent() in such a way that it should accept student id, name, and it’s college name  and if the id and \n",
    "college name is missing in function call it should show it as by default id is 1 and college name  is VITA.\n",
    "'''\n",
    "\n",
    "def showStudent(name,sid=1,clg='VITA'):\n",
    "    print('Id:',sid,', Name:',name,', College:',clg)\n",
    "\n",
    "i,n,c=input(\"Enter Id: \"),input(\"Enter Name: \"),input(\"Enter VITA: \")\n",
    "if i=='' and c=='':\n",
    "    showStudent(n)\n",
    "else:\n",
    "    showStudent(n,i,c)"
   ]
  },
  {
   "cell_type": "code",
   "execution_count": 71,
   "metadata": {},
   "outputs": [
    {
     "name": "stdout",
     "output_type": "stream",
     "text": [
      "Sample List [11, 22, 22, 33, 33, 33, 44, 55, 55, 66]\n",
      "Unique List [11, 22, 33, 44, 55, 66]\n"
     ]
    }
   ],
   "source": [
    "'''\n",
    "5.\tWrite a Python function that takes a list and returns a new list with unique elements of the first list.\n",
    "Sample List : [11,22,22,33,33,33,44,55,55,66]\n",
    "Unique List : [11, 22,33, 44, 55,66]\n",
    "'''\n",
    "def uLs(ls):\n",
    "    return sorted(set(ls))\n",
    "ls=[11,22,22,33,33,33,44,55,55,66]\n",
    "print(\"Sample List\",ls)\n",
    "print(\"Unique List\",uLs(ls))\n"
   ]
  },
  {
   "cell_type": "code",
   "execution_count": 1,
   "metadata": {},
   "outputs": [
    {
     "name": "stdout",
     "output_type": "stream",
     "text": [
      "Enter a number: 5424\n",
      "9\n"
     ]
    }
   ],
   "source": [
    "'''\n",
    "6.\tWrite a program to obtain the sum of the first and last digit of this number 2 user defined functions\n",
    "1st for first digit\n",
    "2nd for last digit\n",
    "Example:\n",
    " Input:  5424\n",
    "Output: 9\n",
    "'''\n",
    "def first(num):\n",
    "    return int(str(num)[0])\n",
    "def last(num):\n",
    "    return int(str(num)[-1])\n",
    "\n",
    "n=int(input(\"Enter a number: \"))\n",
    "print(first(n)+last(n))"
   ]
  },
  {
   "cell_type": "markdown",
   "metadata": {},
   "source": [
    "# DAY -> 5"
   ]
  },
  {
   "cell_type": "code",
   "execution_count": 6,
   "metadata": {},
   "outputs": [
    {
     "name": "stdout",
     "output_type": "stream",
     "text": [
      "[4, 5, 6, 7, 8, 1, 2, 3, 9]\n",
      "[1, 2, 3, 4, 5, 6, 7, 8, 9]\n"
     ]
    }
   ],
   "source": [
    "# 1.\tWrite a Python program to sort a list of elements using the bubble sort Algorithm.\n",
    "\n",
    "b=[4,5,6,7,8,1,2,3,9]\n",
    "print(b)\n",
    "for i in range(0,len(b)):\n",
    "    for j in range(i,len(b)):\n",
    "        if b[i]>b[j]:\n",
    "            b[i],b[j]=b[j],b[i]\n",
    "print(b)"
   ]
  },
  {
   "cell_type": "code",
   "execution_count": 16,
   "metadata": {},
   "outputs": [
    {
     "name": "stdout",
     "output_type": "stream",
     "text": [
      "Enter Element to search: 15\n",
      "Element not found\n",
      "Enter Element to search: 8\n",
      "Element present at index:  4\n"
     ]
    }
   ],
   "source": [
    "# 2.\tWrite a Python program for sequential search (Linear search).\n",
    "\n",
    "def ser(b,n):\n",
    "    r=''\n",
    "    for i in range(0,len(b)):\n",
    "        if b[i]==n:\n",
    "            r=str(i)\n",
    "        else:\n",
    "            continue\n",
    "    if r!='':\n",
    "        print('Element present at index: ',r)\n",
    "    else:\n",
    "        print('Element not found')\n",
    "    \n",
    "            \n",
    "b=[4,5,6,7,8,1,2,3,9]\n",
    "\n",
    "ser(b,int(input(\"Enter Element to search: \")))\n",
    "ser(b,int(input(\"Enter Element to search: \")))\n"
   ]
  },
  {
   "cell_type": "code",
   "execution_count": 17,
   "metadata": {},
   "outputs": [
    {
     "name": "stdout",
     "output_type": "stream",
     "text": [
      "Original [4, 5, 6, 7, 8, 1, 2, 3, 9]\n",
      "Sorted [1, 2, 3, 4, 5, 6, 7, 8, 9]\n",
      "Enter element to search: 8\n",
      "n---> 8\n",
      "Number Found\n"
     ]
    }
   ],
   "source": [
    "# 3.\tWrite a Python program for Binary search.\n",
    "\n",
    "b=[4,5,6,7,8,1,2,3,9]\n",
    "print('Original',b)\n",
    "b=sorted(b)\n",
    "print('Sorted',b)\n",
    "flag=0\n",
    "n=int(input(\"Enter element to search: \"))\n",
    "print('n--->',n)\n",
    "l=0\n",
    "e=len(b)\n",
    "while l<=e:\n",
    "    a=(l+e)//2\n",
    "    if b[a]<n:\n",
    "        l=a+1\n",
    "    elif b[a]>n:\n",
    "        e=a-1\n",
    "    else:\n",
    "        flag=1\n",
    "        break\n",
    "if flag==1:\n",
    "    print('Number Found')\n",
    "else:\n",
    "    print('Not Found')"
   ]
  },
  {
   "cell_type": "code",
   "execution_count": 18,
   "metadata": {},
   "outputs": [
    {
     "name": "stdout",
     "output_type": "stream",
     "text": [
      "['My', 'namw', 'is', 'pranay']\n"
     ]
    }
   ],
   "source": [
    "'''4.\tWrite a python program to concatenate two lists index-wise.\n",
    "List1 = [“M”,”na”,”i”,”lak”]\n",
    "List2 = [“y”,”me”,”s”,”han”]\n",
    "Expected output:\n",
    "[“My”,”name”,”is”,”lakhan”]'''\n",
    "\n",
    "a = ['M','na','i','pra']\n",
    "b = ['y','mw','s','nay']\n",
    "c=[]\n",
    "for i in range(len(a)):\n",
    "    c.append((a[i]+b[i]))\n",
    "print(c)\n"
   ]
  },
  {
   "cell_type": "code",
   "execution_count": 25,
   "metadata": {},
   "outputs": [
    {
     "name": "stdout",
     "output_type": "stream",
     "text": [
      "[47, 64, 37, 76]\n"
     ]
    }
   ],
   "source": [
    "'''5.\tIterate a given list and check if a given element already exists in a dictionary as a key’s value if not delete \n",
    "it from the list.\n",
    "roll_number = [47, 64, 69, 37, 76, 83, 95, 97]\n",
    "sampledict = {“John”:47,”Peter”:64,”Mahi”:37,”Maria”:76}'''\n",
    "\n",
    "roll_number = [47, 64, 69, 37, 76, 83, 95, 97]\n",
    "sampledict = {'John':47,'Peter':64,'Mahi':37,'Maria':76}\n",
    "for i in sampledict.values():\n",
    "    for j in roll_number:\n",
    "        if i!=j:\n",
    "            continue\n",
    "        else:\n",
    "            r1.append(j)\n",
    "print(r1)"
   ]
  },
  {
   "cell_type": "markdown",
   "metadata": {},
   "source": [
    "# DAY -> 6"
   ]
  },
  {
   "cell_type": "code",
   "execution_count": 2,
   "metadata": {},
   "outputs": [
    {
     "name": "stdout",
     "output_type": "stream",
     "text": [
      "Original Dictionary---> {'John': 47, 'Peter': 64, 'Mahi': 37, 'Maria': 76}\n",
      "Swapped Dictionary---> {47: 'John', 64: 'Peter', 37: 'Mahi', 76: 'Maria'}\n"
     ]
    }
   ],
   "source": [
    "# 1.\tPython program to Swap Keys and Values in Dictionary.\n",
    "\n",
    "d = {'John':47,'Peter':64,'Mahi':37,'Maria':76}\n",
    "md={}\n",
    "print(\"Original Dictionary--->\",d)\n",
    "for k,v in d.items():\n",
    "    md.__setitem__(v,k)\n",
    "print(\"Swapped Dictionary--->\",md)"
   ]
  },
  {
   "cell_type": "code",
   "execution_count": 3,
   "metadata": {},
   "outputs": [
    {
     "name": "stdout",
     "output_type": "stream",
     "text": [
      "[40, 50, 60, 70, 80, 10, 20, 30, 90]\n",
      "[10, 20, 30, 40, 50, 60, 70, 80, 90]\n"
     ]
    }
   ],
   "source": [
    "# 2.\tWrite program to implement Selection sort.\n",
    "\n",
    "b=[40,50,60,70,80,10,20,30,90]\n",
    "print(b)\n",
    "a=[]\n",
    "for i in range(len(b)):\n",
    "    min=b[i]\n",
    "    for j in range(i+1,len(b)):\n",
    "        if min > b[j]:\n",
    "            min,b[j]=b[j],min\n",
    "    #print('min-->',min,'j-->',b[j])\n",
    "    a.append(min)    \n",
    "print(a)"
   ]
  },
  {
   "cell_type": "code",
   "execution_count": 4,
   "metadata": {},
   "outputs": [
    {
     "name": "stdout",
     "output_type": "stream",
     "text": [
      "[40, 50, 60, 70, 80, 10, 20, 30, 90]\n",
      "[10, 20, 30, 40, 50, 60, 70, 80, 90]\n"
     ]
    }
   ],
   "source": [
    "# 3.\tWrite program to implement Insertion sort.\n",
    "\n",
    "b=[40,50,60,70,80,10,20,30,90]\n",
    "print(b)\n",
    "for i in range(1,len(b)):\n",
    "    m=b[i]\n",
    "    j=i-1\n",
    "    while j>=0 and m<b[j]:\n",
    "        b[j+1]=b[j]\n",
    "        j-=1\n",
    "    b[j+1]=m \n",
    "print(b)"
   ]
  },
  {
   "cell_type": "code",
   "execution_count": 19,
   "metadata": {},
   "outputs": [
    {
     "name": "stdout",
     "output_type": "stream",
     "text": [
      "['a', 'b', ['c', ['d', 'e', ['f', 'g'], 'k'], 'l'], 'm', 'n']\n",
      "['a', 'b', ['c', ['d', 'e', ['f', 'g', 'h', 'i', 'j'], 'k'], 'l'], 'm', 'n']\n"
     ]
    }
   ],
   "source": [
    "'''4.\tGiven a nested list extend it with adding sub list [\"h\", \"i\", \"j\"] in a such a way that it will look like the \n",
    "following list.\n",
    "Given list: list1 = [\"a\", \"b\", [\"c\", [\"d\", \"e\", [\"f\", \"g\"], \"k\"], \"l\"], \"m\",  \"n\"]\n",
    "Sub List to be added = [\"h\", \"i\", \"j\"]\n",
    "Expected output:-\n",
    "['a', 'b', ['c', ['d', 'e', ['f', 'g', 'h', 'i', 'j'], 'k'], 'l'], 'm', 'n']\n",
    "'''\n",
    "\n",
    "ls=[\"a\", \"b\", [\"c\", [\"d\", \"e\", [\"f\", \"g\"], \"k\"], \"l\"], \"m\",  \"n\"]\n",
    "nl=[\"h\", \"i\", \"j\"]\n",
    "print(ls)\n",
    "a=ls[2][1][2]\n",
    "a.extend(nl)\n",
    "print(ls)"
   ]
  },
  {
   "cell_type": "code",
   "execution_count": 15,
   "metadata": {},
   "outputs": [
    {
     "name": "stdout",
     "output_type": "stream",
     "text": [
      "80\n"
     ]
    }
   ],
   "source": [
    "'''5.\tAccess the value of key “history”\n",
    "sampleDict = { \n",
    "   \"class\":{ \n",
    "      \"student\":{ \n",
    "         \"name\":\"Mike\",\n",
    "         \"marks\":{ \n",
    "            \"physics\":70,\n",
    "            \"history\":80\n",
    "         }\n",
    "      }\n",
    "   }\n",
    "}\n",
    "Expected output: 80\n",
    "'''\n",
    "\n",
    "sampleDict = { \n",
    "   \"class\":{ \n",
    "      \"student\":{ \n",
    "         \"name\":\"Mike\",\n",
    "         \"marks\":{ \n",
    "            \"physics\":70,\n",
    "            \"history\":80\n",
    "         }\n",
    "      }\n",
    "   }\n",
    "}\n",
    "\n",
    "print(sampleDict['class']['student']['marks']['history'])"
   ]
  },
  {
   "cell_type": "markdown",
   "metadata": {},
   "source": [
    "# DAY -> 7"
   ]
  },
  {
   "cell_type": "code",
   "execution_count": 21,
   "metadata": {},
   "outputs": [
    {
     "name": "stdout",
     "output_type": "stream",
     "text": [
      "EXAMPLE BANK PVT LTD\n",
      "\n",
      "Choose option to perform bank operation. \n",
      "1-Deposit  2-Withdraw  3-Exit\n",
      "\n",
      "Enter Option: 1\n",
      "\n",
      "Enter Customer ID: 2\n",
      "name prem\n",
      "balance 10000\n",
      "Enter amount to deposit: 5000\n",
      "Amount Depositted: 5000 \n",
      "Your new Balance is: 15000\n",
      "\n",
      "Enter Option: 2\n",
      "\n",
      "Enter Customer ID: 1\n",
      "name pranay\n",
      "balance 45000\n",
      "Enter amount to withdraw: 3000\n",
      "Amount Withdrawn: 3000 \n",
      "Your new Balance is: 42000\n",
      "\n",
      "Enter Option: 3\n",
      "Thank You. Bye!\n"
     ]
    }
   ],
   "source": [
    "'''1.\tWrite python program to perform bank operations using class and objects.\n",
    "       Conditions:\n",
    "a.\tBank name should be static.\n",
    "b.\tUsing menu driven program.\n",
    "1 .Deposit\n",
    "2. Withdraw\n",
    "3. Exit'''\n",
    "\n",
    "\n",
    "class bank:\n",
    "    bankName=\"example\"\n",
    "    \n",
    "    def deposit(self,amount,balance):\n",
    "        bal=balance+amount\n",
    "        return bal\n",
    "    \n",
    "    def withdraw(self,amount,balance):\n",
    "        bal=balance-amount\n",
    "        return bal\n",
    "    \n",
    "    def getCustomer(self,cust):\n",
    "        cid=int(input(\"\\nEnter Customer ID: \"))\n",
    "        for k,v in cust[cid].items():\n",
    "            print(k,v)\n",
    "        return cust[cid]['balance']\n",
    "    \n",
    "class main:           \n",
    "    def __init__(self):\n",
    "        b=bank()\n",
    "        cust={1:{'name':'pranay','balance':'45000'},2:{'name':'prem','balance':'10000'}}\n",
    "        print((b.bankName).upper(),'BANK PVT LTD')\n",
    "        #print('Customers List')        \n",
    "        print('\\nChoose option to perform bank operation. \\n1-Deposit  2-Withdraw  3-Exit')\n",
    "        while True:\n",
    "            opt=int(input(\"\\nEnter Option: \"))\n",
    "            if opt>3 or opt<1:\n",
    "                print('Invalid Option, Choose option to perform bank operation. \\n1-Deposit  2-Withdraw  3-Exit')\n",
    "            elif opt==1:\n",
    "                bal=b.getCustomer(cust)\n",
    "                amt=int(input(\"Enter amount to deposit: \"))\n",
    "                mBal=b.deposit(amt,int(bal))\n",
    "                print('Amount Depositted:',amt,'\\nYour new Balance is:',mBal)\n",
    "            elif opt==2:\n",
    "                bal=b.getCustomer(cust)\n",
    "                amt=int(input(\"Enter amount to withdraw: \"))\n",
    "                mBal=b.withdraw(amt,int(bal))\n",
    "                print('Amount Withdrawn:',amt,'\\nYour new Balance is:',mBal)\n",
    "            elif opt==3:\n",
    "                print('Thank You. Bye!')\n",
    "                break\n",
    "        \n",
    "        pass\n",
    "    \n",
    "if __name__=='__main__':\n",
    "    main()"
   ]
  },
  {
   "cell_type": "code",
   "execution_count": 22,
   "metadata": {},
   "outputs": [
    {
     "name": "stdout",
     "output_type": "stream",
     "text": [
      "Enter Radius: 68.75\n",
      "Area of circle with radius 68.75 is: 14841.40625\n",
      "Perimeter of circle with radius 68.75 is: 431.75\n"
     ]
    },
    {
     "data": {
      "text/plain": [
       "<__main__.circle at 0x1d07e59f8c8>"
      ]
     },
     "execution_count": 22,
     "metadata": {},
     "output_type": "execute_result"
    }
   ],
   "source": [
    "'''Write a Python class named Circle constructed by a radius and two\n",
    "methods which will compute the area and the perimeter of a circle.'''\n",
    "\n",
    "\n",
    "class circle:\n",
    "    \n",
    "    def area(self,r):\n",
    "        return (3.14*r*r)\n",
    "        \n",
    "    def perimeter(self,r):\n",
    "        return (2*3.14*r)\n",
    "    \n",
    "    def __init__(self):\n",
    "        radius=float(input(\"Enter Radius: \"))\n",
    "        a=self.area(radius)\n",
    "        p=self.perimeter(radius)\n",
    "        print(\"Area of circle with radius\",radius,\"is:\",a)\n",
    "        print(\"Perimeter of circle with radius\",radius,\"is:\",p)\n",
    "\n",
    "circle()\n",
    "\n",
    "        "
   ]
  },
  {
   "cell_type": "code",
   "execution_count": 23,
   "metadata": {},
   "outputs": [
    {
     "name": "stdout",
     "output_type": "stream",
     "text": [
      "Enter Length: 45.73\n",
      "Area of Square is 2091.2328999999995\n"
     ]
    },
    {
     "data": {
      "text/plain": [
       "<__main__.square at 0x1d07df39748>"
      ]
     },
     "execution_count": 23,
     "metadata": {},
     "output_type": "execute_result"
    }
   ],
   "source": [
    "'''Define a class named Shape and its subclass Square. The Square class has an init function which takes a length as argument. \n",
    "Both classes have a area function which can print the area of the shape where Shape's area is 0 by default.\n",
    "Hints: To override a method in super class, we can define a method with the same name in the super class.\n",
    "'''\n",
    "\n",
    "class shape:\n",
    "    def area(self):\n",
    "        print('Area of Shape is 0')\n",
    "        \n",
    "class square(shape):\n",
    "    def area(self,length):\n",
    "        area=length**2\n",
    "        print('Area of Square is',area)\n",
    "        \n",
    "    def __init__(self,length):\n",
    "        self.area(length)\n",
    "\n",
    "length=float(input(\"Enter Length: \"))\n",
    "square(length)"
   ]
  },
  {
   "cell_type": "code",
   "execution_count": 24,
   "metadata": {},
   "outputs": [
    {
     "name": "stdout",
     "output_type": "stream",
     "text": [
      "3\n"
     ]
    }
   ],
   "source": [
    "# Write a program to count how many reference variables in a program.\n",
    "\n",
    "import sys\n",
    "\n",
    "class asd:\n",
    "    pass\n",
    "\n",
    "a=asd()\n",
    "b=a\n",
    "print (sys.getrefcount(a))\n"
   ]
  },
  {
   "cell_type": "code",
   "execution_count": 25,
   "metadata": {},
   "outputs": [
    {
     "name": "stdout",
     "output_type": "stream",
     "text": [
      "Enter Number: 15\n",
      "Adding 15 with 100 and multiplying result with 10, we get: 1150\n"
     ]
    }
   ],
   "source": [
    "# write any program   to achieve composition in Python\n",
    "\n",
    "def add(num):\n",
    "    return num+100\n",
    "\n",
    "def multiply(num):\n",
    "    return num*10\n",
    "\n",
    "num=int(input(\"Enter Number: \"))\n",
    "print(\"Adding\",num,\"with 100 and multiplying result with 10, we get:\",multiply(add(num)))"
   ]
  },
  {
   "cell_type": "markdown",
   "metadata": {},
   "source": [
    "# DAY -> 8"
   ]
  },
  {
   "cell_type": "code",
   "execution_count": 9,
   "metadata": {},
   "outputs": [
    {
     "name": "stdout",
     "output_type": "stream",
     "text": [
      "Fruits Constructor with non keyword arguments\n",
      " ('orange', 'mango', 'banana', 'pineapple')\n",
      "Stud constructor with keyword arguments\n",
      " {'sid': 1, 'name': 'prem', 'age': 25, 'course': 'pg-dbda'}\n"
     ]
    }
   ],
   "source": [
    "# 1.\tWrite a program to implement Constructor with Variable Number of Arguments\n",
    "\n",
    "class fruits:\n",
    "    def __init__(self,*args):\n",
    "        print(\"Fruits Constructor with non keyword arguments\\n\",args)\n",
    "        \n",
    "class stud:\n",
    "    def __init__(self,**kwargs):\n",
    "        print('Stud constructor with keyword arguments\\n',kwargs)\n",
    "        \n",
    "if __name__=='__main__':\n",
    "    fruits('orange','mango','banana','pineapple')\n",
    "    stud(sid=1,name='prem',age=25,course='pg-dbda')\n"
   ]
  },
  {
   "cell_type": "code",
   "execution_count": 18,
   "metadata": {},
   "outputs": [
    {
     "name": "stdout",
     "output_type": "stream",
     "text": [
      "\n",
      "Enter Your Choice [1 - student registration, 2 - lend book to student, 3 - return book to library, 4 - display available books, 5 - display all books issued to students, 6 - exit] : 1\n",
      "\n",
      "Student Registration\n",
      "Enter Student ID: 4\n",
      "Enter Student Name: PranayGavhale\n",
      "1 Pranay\n",
      "2 Prem\n",
      "3 PremRatan\n",
      "4 PranayGavhale\n",
      "\n",
      "Enter Your Choice [1 - student registration, 2 - lend book to student, 3 - return book to library, 4 - display available books, 5 - display all books issued to students, 6 - exit] : 5\n",
      "\n",
      "Display All Books Issued To Students\n",
      "\n",
      "Enter Your Choice [1 - student registration, 2 - lend book to student, 3 - return book to library, 4 - display available books, 5 - display all books issued to students, 6 - exit] : 4\n",
      "\n",
      "Dispay Available Books\n",
      "1 bookPranay\n",
      "2 bookPrem\n",
      "\n",
      "Enter Your Choice [1 - student registration, 2 - lend book to student, 3 - return book to library, 4 - display available books, 5 - display all books issued to students, 6 - exit] : 2\n",
      "\n",
      "Lend Book to Student\n",
      "Enter Student ID: 4\n",
      "Enter Book ID: 1\n",
      "\n",
      "Enter Your Choice [1 - student registration, 2 - lend book to student, 3 - return book to library, 4 - display available books, 5 - display all books issued to students, 6 - exit] : 4\n",
      "\n",
      "Dispay Available Books\n",
      "2 bookPrem\n",
      "\n",
      "Enter Your Choice [1 - student registration, 2 - lend book to student, 3 - return book to library, 4 - display available books, 5 - display all books issued to students, 6 - exit] : 2\n",
      "\n",
      "Lend Book to Student\n",
      "Enter Student ID: 3\n",
      "Enter Book ID: 2\n",
      "\n",
      "Enter Your Choice [1 - student registration, 2 - lend book to student, 3 - return book to library, 4 - display available books, 5 - display all books issued to students, 6 - exit] : 4\n",
      "\n",
      "Dispay Available Books\n",
      "\n",
      "Enter Your Choice [1 - student registration, 2 - lend book to student, 3 - return book to library, 4 - display available books, 5 - display all books issued to students, 6 - exit] : 5\n",
      "\n",
      "Display All Books Issued To Students\n",
      "1 bookPranay 4 PranayGavhale\n",
      "2 bookPrem 3 PremRatan\n",
      "\n",
      "Enter Your Choice [1 - student registration, 2 - lend book to student, 3 - return book to library, 4 - display available books, 5 - display all books issued to students, 6 - exit] : 3\n",
      "\n",
      "Return Book to Library\n",
      "Enter Book ID: 2\n",
      "No book with bid 2 available in list\n",
      "\n",
      "Enter Your Choice [1 - student registration, 2 - lend book to student, 3 - return book to library, 4 - display available books, 5 - display all books issued to students, 6 - exit] : 3\n",
      "\n",
      "Return Book to Library\n",
      "Enter Book ID: 1\n",
      "\n",
      "Enter Your Choice [1 - student registration, 2 - lend book to student, 3 - return book to library, 4 - display available books, 5 - display all books issued to students, 6 - exit] : 3\n",
      "\n",
      "Return Book to Library\n",
      "Enter Book ID: 2\n",
      "\n",
      "Enter Your Choice [1 - student registration, 2 - lend book to student, 3 - return book to library, 4 - display available books, 5 - display all books issued to students, 6 - exit] : 5\n",
      "\n",
      "Display All Books Issued To Students\n",
      "\n",
      "Enter Your Choice [1 - student registration, 2 - lend book to student, 3 - return book to library, 4 - display available books, 5 - display all books issued to students, 6 - exit] : 4\n",
      "\n",
      "Dispay Available Books\n",
      "2 bookPrem\n",
      "1 bookPranay\n",
      "\n",
      "Enter Your Choice [1 - student registration, 2 - lend book to student, 3 - return book to library, 4 - display available books, 5 - display all books issued to students, 6 - exit] : 6\n",
      "\n",
      "Thank You. Bye!\n"
     ]
    }
   ],
   "source": [
    "'''Create a menu driven program for library management. It will include 6 options :-\n",
    "    1 - student registration\n",
    "    2 - lend book to student\n",
    "    3 - return book to library\n",
    "    4 - display available books\n",
    "    5 - display all books issued to students\n",
    "    6 - exit\n",
    "We will have 2 classes, i.e student and library. These class will have following mandatory methods. \n",
    "Student class will have methods registration, requestBook and returnBook\n",
    "Library class will have methods displayAllBooks, lendBook,addNewBook\n",
    "(If required, you can write additional methods as well.)'''\n",
    "\n",
    "\n",
    "class library:\n",
    "    def lendBook(self,sid,bid,studList,bookList,lendList):\n",
    "        sname=''\n",
    "        for i in studList:\n",
    "            if i['sid']==sid:\n",
    "                sname=sname+i['sname']\n",
    "        bname=''\n",
    "        for i in bookList:\n",
    "            if i['bid']==bid:\n",
    "                bname=bname+i['bname']\n",
    "                bookList.remove(i)\n",
    "                lendList.append({'sid':sid,'sname':sname,'bid':bid,'bname':bname})\n",
    "            else:\n",
    "                print('No book with bid',bid,'available in list')\n",
    "        return lendList\n",
    "    \n",
    "    def returnBook(self,bid,lendList,bookList):\n",
    "        for i in lendList:\n",
    "            if i['bid']==bid:\n",
    "                bname=i['bname']\n",
    "                bookList.append({'bid':bid,'bname':bname})\n",
    "                lendList.remove(i)  \n",
    "            else:\n",
    "                print('No book with bid',bid,'available in list')\n",
    "        return lendList\n",
    "    \n",
    "    \n",
    "    def displayAvailableBooks(self,bookList):\n",
    "        for i in bookList:\n",
    "            print(i['bid'],i['bname'])\n",
    "            \n",
    "    def displayIssuedBooks(self,lendList):\n",
    "        for i in lendList:\n",
    "            if len(lendList)==0:\n",
    "                print(\"No Books Issued\")\n",
    "            else:\n",
    "                print(i['bid'],i['bname'],i['sid'],i['sname'])\n",
    "\n",
    "class student:\n",
    "    def register(self,sid,sname,studList):\n",
    "        studList.append({'sid':sid,'sname':sname})\n",
    "        for i in studList:\n",
    "            print(i['sid'],i['sname'])\n",
    "        \n",
    "        \n",
    "class main:    \n",
    "    \n",
    "    def __init__(self):\n",
    "        studList=[{'sid':1,'sname':'Pranay'},{'sid':2,'sname':'Prem'},{'sid':3,'sname':'PremRatan'}]\n",
    "        bookList=[{'bid':1,'bname':'bookPranay'},{'bid':2,'bname':'bookPrem'}]\n",
    "        lendList=[]\n",
    "        s=student()\n",
    "        l=library()\n",
    "        while True:\n",
    "            n=int(input(\"\\nEnter Your Choice [1 - student registration, 2 - lend book to student, 3 - return book to library, 4 - display available books, 5 - display all books issued to students, 6 - exit] : \"))\n",
    "            if n==1:\n",
    "                print('\\nStudent Registration')\n",
    "                sid=int(input(\"Enter Student ID: \"))\n",
    "                sname=input(\"Enter Student Name: \")\n",
    "                s.register(sid,sname,studList)\n",
    "            elif n==2:\n",
    "                print('\\nLend Book to Student')\n",
    "                sid=int(input(\"Enter Student ID: \"))\n",
    "                bid=int(input(\"Enter Book ID: \"))\n",
    "                l.lendBook(sid,bid,studList,bookList,lendList)\n",
    "            elif n==3:\n",
    "                print('\\nReturn Book to Library')\n",
    "                bid=int(input(\"Enter Book ID: \"))\n",
    "                l.returnBook(bid,lendList,bookList)\n",
    "            elif n==4:\n",
    "                print('\\nDispay Available Books')\n",
    "                l.displayAvailableBooks(bookList)\n",
    "            elif n==5:\n",
    "                print('\\nDisplay All Books Issued To Students')\n",
    "                l.displayIssuedBooks(lendList)\n",
    "            elif n==6:\n",
    "                print('\\nThank You. Bye!')\n",
    "                break\n",
    "            else:\n",
    "                print('\\nInvalid Selection. Please Try Again')\n",
    "\n",
    "\n",
    "if __name__=='__main__':\n",
    "    main()"
   ]
  },
  {
   "cell_type": "code",
   "execution_count": 14,
   "metadata": {},
   "outputs": [
    {
     "name": "stdout",
     "output_type": "stream",
     "text": [
      "Pranay\n"
     ]
    }
   ],
   "source": [
    "# 3.\tWrite a program to implement multiple inheritance.\n",
    "\n",
    "class A:\n",
    "    def __init__(self):\n",
    "        super().__init__()\n",
    "        self.name='Prem'\n",
    "        \n",
    "    def getName(self):\n",
    "        return self.name\n",
    "        \n",
    "class B:\n",
    "    def __init__(self):\n",
    "        super().__init__()\n",
    "        self.name='Pranay'\n",
    "        \n",
    "    def getName(self):\n",
    "        return self.name\n",
    "        \n",
    "class C(B,A):\n",
    "    def __init__(self):\n",
    "        super().__init__()\n",
    "    def getName(self):\n",
    "        return self.name\n",
    "    \n",
    "c=C()\n",
    "print(c.getName())"
   ]
  },
  {
   "cell_type": "code",
   "execution_count": 15,
   "metadata": {},
   "outputs": [
    {
     "name": "stdout",
     "output_type": "stream",
     "text": [
      "(30, 40)\n"
     ]
    }
   ],
   "source": [
    "# 4.\tWrite a program to implement operator overloading in python.\n",
    "\n",
    "class marks:\n",
    "    def __init__(self,a,b):\n",
    "        self.a=a\n",
    "        self.b=b\n",
    "        \n",
    "    def __add__(self,other):\n",
    "        a=self.a+other.a\n",
    "        b=self.b+other.b\n",
    "        #c=a+b\n",
    "        return a,b\n",
    "\n",
    "if __name__=='__main__':\n",
    "    m=marks(10,15)\n",
    "    m1=marks(20,25)\n",
    "    print(marks.__add__(m,m1))"
   ]
  },
  {
   "cell_type": "code",
   "execution_count": 16,
   "metadata": {
    "scrolled": true
   },
   "outputs": [
    {
     "name": "stdout",
     "output_type": "stream",
     "text": [
      "Enter Number to find Square: 5\n",
      "25\n",
      "Enter Number to find Cube: 3\n",
      "27\n"
     ]
    }
   ],
   "source": [
    "# Write a Python program to square and cube every number in a given list of integers using Lambda. \n",
    "\n",
    "\n",
    "sq=lambda n:n**2\n",
    "cu=lambda n:n**3\n",
    "print(sq(int(input(\"Enter Number to find Square: \"))))\n",
    "print(cu(int(input(\"Enter Number to find Cube: \"))))"
   ]
  },
  {
   "cell_type": "markdown",
   "metadata": {},
   "source": [
    "# DAY -> 9"
   ]
  },
  {
   "cell_type": "code",
   "execution_count": 19,
   "metadata": {},
   "outputs": [
    {
     "name": "stdout",
     "output_type": "stream",
     "text": [
      "\n",
      "Value of 5 / 2 is --> 2.5\n",
      "Program Completed!!\n",
      "\n",
      "Caught some exception of type ZeroDivisionError\n",
      "Program Completed!!\n"
     ]
    }
   ],
   "source": [
    "# 1.\tWrite a function to compute divide by zero and use try/except to catch the exceptions.\n",
    "\n",
    "def getException(num1,num2):\n",
    "    try:\n",
    "        x=num1/num2\n",
    "        print('\\nValue of',num1,'/',num2,'is -->',x)\n",
    "    except Exception as e:\n",
    "        print(\"\\nCaught some exception of type\",type(e).__name__)\n",
    "    finally:\n",
    "        print(\"Program Completed!!\")\n",
    "        \n",
    "getException(5,2)\n",
    "getException(5,0)"
   ]
  },
  {
   "cell_type": "code",
   "execution_count": 1,
   "metadata": {},
   "outputs": [
    {
     "name": "stdout",
     "output_type": "stream",
     "text": [
      "\n",
      "Enter Phone Number: 98asdqwedfgxcv\n",
      "Invalid Phone Number\n",
      "\n",
      "Enter Phone Number: 9892909259\n",
      "Valid Phone Number\n"
     ]
    }
   ],
   "source": [
    "# 2.\tWrite python program to check  that given number is valid mobile number or not?\n",
    "\n",
    "import re\n",
    "\n",
    "def validatePhone(phone):\n",
    "    if len(phone)==10 and re.findall('\\d',phone):\n",
    "        print('Valid Phone Number')\n",
    "    else:\n",
    "        print('Invalid Phone Number')\n",
    "\n",
    "phone1=input(\"\\nEnter Phone Number: \")\n",
    "validatePhone(phone1)\n",
    "phone2=input('\\nEnter Phone Number: ')\n",
    "validatePhone(phone2)"
   ]
  },
  {
   "cell_type": "code",
   "execution_count": 1,
   "metadata": {},
   "outputs": [
    {
     "name": "stdout",
     "output_type": "stream",
     "text": [
      "Enter Email: tempMail@.com\n",
      "Invalid Mail ID\n",
      "Enter Email: tempMail_123@gmail.com\n",
      "Valid Mail ID\n"
     ]
    }
   ],
   "source": [
    "# 3.\tWrite python program to check  that given email address is valid   or not?\n",
    "\n",
    "import re\n",
    "\n",
    "def checkEmail(mail):\n",
    "    if re.search('^\\w+[@]+\\S+[.]+\\S{2,3}$',mail):\n",
    "        print(\"Valid Mail ID\")\n",
    "    else:\n",
    "        print('Invalid Mail ID')\n",
    "        \n",
    "mail=input(\"Enter Email: \")\n",
    "checkEmail(mail)\n",
    "mail=input(\"Enter Email: \")\n",
    "checkEmail(mail)"
   ]
  },
  {
   "cell_type": "code",
   "execution_count": 3,
   "metadata": {},
   "outputs": [
    {
     "name": "stdout",
     "output_type": "stream",
     "text": [
      "Enter Email: PQ 78 LK 3215\n",
      "Invalid Maharashtra State Registration Number\n",
      "\n",
      "Enter Email: MH 46 AS 7878\n",
      "Valid Maharashtra State Registration Number\n"
     ]
    }
   ],
   "source": [
    "# 4.\tWrite a python program to check given car registration number is valid Maharashtra state registration number or not?\n",
    "\n",
    "import re\n",
    "\n",
    "def checkCar(regNum):\n",
    "    if re.search('^MH',regNum):\n",
    "        print(\"Valid Maharashtra State Registration Number\")\n",
    "    else:\n",
    "        print(\"Invalid Maharashtra State Registration Number\")\n",
    "        \n",
    "regNum=input(\"Enter Email: \")\n",
    "checkCar(regNum)\n",
    "regNum=input(\"\\nEnter Email: \")\n",
    "checkCar(regNum)"
   ]
  },
  {
   "cell_type": "code",
   "execution_count": 11,
   "metadata": {},
   "outputs": [
    {
     "name": "stdout",
     "output_type": "stream",
     "text": [
      "8 + 4 = 12\n",
      "8 - 4 = 4\n",
      "8 * 4 = 32\n",
      "8 / 4 = 2.0\n"
     ]
    }
   ],
   "source": [
    "# 5.\tWrite a python program to decorate arithmetic operations.\n",
    "\n",
    "def arith(a,b,o):\n",
    "    if o=='+':\n",
    "        print(a,'+',b,'=',a+b)\n",
    "    elif o=='-':\n",
    "        print(a,'-',b,'=',a-b)\n",
    "    elif o=='*':\n",
    "        print(a,'*',b,'=',a*b)\n",
    "    elif o=='/':\n",
    "        print(a,'/',b,'=',a/b)\n",
    "        \n",
    "def arithDecorator(func):\n",
    "    def inner(a,b,o):\n",
    "        if a<b:\n",
    "            a,b=b,a\n",
    "        return func(a,b,o)\n",
    "    return inner\n",
    "\n",
    "arith=arithDecorator(arith)\n",
    "arith(4,8,'+')\n",
    "arith(4,8,'-')\n",
    "arith(4,8,'*')\n",
    "arith(4,8,'/')"
   ]
  },
  {
   "cell_type": "code",
   "execution_count": 12,
   "metadata": {},
   "outputs": [
    {
     "name": "stdout",
     "output_type": "stream",
     "text": [
      "[0, 1, 1, 2, 3, 5, 8, 13, 21, 34, 55, 89, 144, 233, 377, 610, 987, 1597, 2584, 4181, 6765, 10946, 17711, 28657, 46368, 75025, 121393, 196418, 317811, 514229, 832040, 1346269, 2178309, 3524578, 5702887, 9227465, 14930352, 24157817, 39088169, 63245986, 102334155, 165580141, 267914296, 433494437, 701408733, 1134903170, 1836311903, 2971215073, 4807526976, 7778742049, 12586269025, 20365011074, 32951280099, 53316291173, 86267571272, 139583862445, 225851433717, 365435296162, 591286729879, 956722026041, 1548008755920, 2504730781961, 4052739537881, 6557470319842, 10610209857723, 17167680177565, 27777890035288, 44945570212853, 72723460248141, 117669030460994, 190392490709135, 308061521170129, 498454011879264, 806515533049393, 1304969544928657, 2111485077978050, 3416454622906707, 5527939700884757, 8944394323791464, 14472334024676221, 23416728348467685, 37889062373143906, 61305790721611591, 99194853094755497, 160500643816367088, 259695496911122585, 420196140727489673, 679891637638612258, 1100087778366101931, 1779979416004714189, 2880067194370816120, 4660046610375530309, 7540113804746346429, 12200160415121876738, 19740274219868223167, 31940434634990099905, 51680708854858323072, 83621143489848422977, 135301852344706746049, 218922995834555169026]\n"
     ]
    }
   ],
   "source": [
    "# 6.\tWrite a python program to generate Fibonacci Numbers upto 100 using generator.\n",
    "\n",
    "def fib():\n",
    "    a,b=0,1\n",
    "    for _ in range(100):\n",
    "        yield a\n",
    "        a,b=b,a+b         \n",
    "\n",
    "f=fib()\n",
    "a=list(f)\n",
    "print(a)"
   ]
  },
  {
   "cell_type": "markdown",
   "metadata": {},
   "source": [
    "# DAY -> 10"
   ]
  },
  {
   "cell_type": "code",
   "execution_count": 19,
   "metadata": {},
   "outputs": [
    {
     "name": "stdout",
     "output_type": "stream",
     "text": [
      "Numpy Version---> 1.18.1\n",
      "blas_mkl_info:\n",
      "    libraries = ['mkl_rt']\n",
      "    library_dirs = ['C:/Users/Family/anaconda3\\\\Library\\\\lib']\n",
      "    define_macros = [('SCIPY_MKL_H', None), ('HAVE_CBLAS', None)]\n",
      "    include_dirs = ['C:\\\\Program Files (x86)\\\\IntelSWTools\\\\compilers_and_libraries_2019.0.117\\\\windows\\\\mkl', 'C:\\\\Program Files (x86)\\\\IntelSWTools\\\\compilers_and_libraries_2019.0.117\\\\windows\\\\mkl\\\\include', 'C:\\\\Program Files (x86)\\\\IntelSWTools\\\\compilers_and_libraries_2019.0.117\\\\windows\\\\mkl\\\\lib', 'C:/Users/Family/anaconda3\\\\Library\\\\include']\n",
      "blas_opt_info:\n",
      "    libraries = ['mkl_rt']\n",
      "    library_dirs = ['C:/Users/Family/anaconda3\\\\Library\\\\lib']\n",
      "    define_macros = [('SCIPY_MKL_H', None), ('HAVE_CBLAS', None)]\n",
      "    include_dirs = ['C:\\\\Program Files (x86)\\\\IntelSWTools\\\\compilers_and_libraries_2019.0.117\\\\windows\\\\mkl', 'C:\\\\Program Files (x86)\\\\IntelSWTools\\\\compilers_and_libraries_2019.0.117\\\\windows\\\\mkl\\\\include', 'C:\\\\Program Files (x86)\\\\IntelSWTools\\\\compilers_and_libraries_2019.0.117\\\\windows\\\\mkl\\\\lib', 'C:/Users/Family/anaconda3\\\\Library\\\\include']\n",
      "lapack_mkl_info:\n",
      "    libraries = ['mkl_rt']\n",
      "    library_dirs = ['C:/Users/Family/anaconda3\\\\Library\\\\lib']\n",
      "    define_macros = [('SCIPY_MKL_H', None), ('HAVE_CBLAS', None)]\n",
      "    include_dirs = ['C:\\\\Program Files (x86)\\\\IntelSWTools\\\\compilers_and_libraries_2019.0.117\\\\windows\\\\mkl', 'C:\\\\Program Files (x86)\\\\IntelSWTools\\\\compilers_and_libraries_2019.0.117\\\\windows\\\\mkl\\\\include', 'C:\\\\Program Files (x86)\\\\IntelSWTools\\\\compilers_and_libraries_2019.0.117\\\\windows\\\\mkl\\\\lib', 'C:/Users/Family/anaconda3\\\\Library\\\\include']\n",
      "lapack_opt_info:\n",
      "    libraries = ['mkl_rt']\n",
      "    library_dirs = ['C:/Users/Family/anaconda3\\\\Library\\\\lib']\n",
      "    define_macros = [('SCIPY_MKL_H', None), ('HAVE_CBLAS', None)]\n",
      "    include_dirs = ['C:\\\\Program Files (x86)\\\\IntelSWTools\\\\compilers_and_libraries_2019.0.117\\\\windows\\\\mkl', 'C:\\\\Program Files (x86)\\\\IntelSWTools\\\\compilers_and_libraries_2019.0.117\\\\windows\\\\mkl\\\\include', 'C:\\\\Program Files (x86)\\\\IntelSWTools\\\\compilers_and_libraries_2019.0.117\\\\windows\\\\mkl\\\\lib', 'C:/Users/Family/anaconda3\\\\Library\\\\include']\n",
      "None\n"
     ]
    }
   ],
   "source": [
    "# 1.\tWrite a NumPy program to get the numpy version and show numpy build configuration.\n",
    "\n",
    "import numpy as np\n",
    "\n",
    "print('Numpy Version--->',np.__version__)\n",
    "print(np.__config__.show())"
   ]
  },
  {
   "cell_type": "code",
   "execution_count": 56,
   "metadata": {},
   "outputs": [
    {
     "name": "stdout",
     "output_type": "stream",
     "text": [
      "(5+0j) --> is real\n",
      "(7+0j) --> is real\n",
      "(1+3j) --> is complex\n",
      "(3.14+0j) --> is real\n",
      "(5+4j) --> is complex\n",
      "\n",
      "False [5.1] is not scalar\n",
      "True 3.14 is scalar\n"
     ]
    }
   ],
   "source": [
    "'''2.\tWrite a NumPy program to test element-wise for complex number, real number of a given array. Also test whether a \n",
    "given number is a scalar type or not.'''\n",
    "\n",
    "import numpy as np\n",
    "\n",
    "def checkScalar(num):\n",
    "    if np.isscalar(num):\n",
    "        print(True,num,'is scalar')\n",
    "    else:\n",
    "        print(False,num,'is not scalar')\n",
    "\n",
    "a=np.array((5,7,(1+3j),3.14,(5+4j)))\n",
    "for i in a:\n",
    "    if np.iscomplex(i):\n",
    "         print(i,'--> is complex')\n",
    "    elif np.isreal(i):\n",
    "        print(i,'--> is real')\n",
    "print()\n",
    "checkScalar([5.1])\n",
    "checkScalar(3.14)\n"
   ]
  },
  {
   "cell_type": "code",
   "execution_count": 82,
   "metadata": {},
   "outputs": [
    {
     "name": "stdout",
     "output_type": "stream",
     "text": [
      "[-1  1  2  3  4  0] Elements has a zero\n",
      "[-1  1  2  3  4] No elements are zero\n"
     ]
    }
   ],
   "source": [
    "# 3.\tWrite a NumPy program to test whether none of the elements of a given array is zero.\n",
    "\n",
    "import numpy as np\n",
    "\n",
    "def checkZero(a):\n",
    "    if a.all()==True:\n",
    "        print(a,\"No elements are zero\")\n",
    "    else:\n",
    "        print(a,\"Elements has a zero\")\n",
    "\n",
    "a=np.array((-1,1,2,3,4,0))\n",
    "checkZero(a)\n",
    "a=np.array((-1,1,2,3,4))\n",
    "checkZero(a)"
   ]
  },
  {
   "cell_type": "code",
   "execution_count": 83,
   "metadata": {},
   "outputs": [
    {
     "name": "stdout",
     "output_type": "stream",
     "text": [
      "[0 0 0 0 0] All elements are Zero\n",
      "[-1  1  0  0  0] Not All elements are Zero\n"
     ]
    }
   ],
   "source": [
    "# 4.\tWrite a NumPy program to test whether none of the elements of a given array is zero.\n",
    "\n",
    "import numpy as np\n",
    "\n",
    "def checkNonZero(a):\n",
    "    if a.any()==True:\n",
    "        print(a,\"Not All elements are Zero\")\n",
    "    else:\n",
    "        print(a,\"All elements are Zero\")\n",
    "\n",
    "a=np.array((0,0,0,0,0))\n",
    "checkNonZero(a)\n",
    "a=np.array((-1,1,0,0,0))\n",
    "checkNonZero(a)"
   ]
  },
  {
   "cell_type": "code",
   "execution_count": 99,
   "metadata": {},
   "outputs": [
    {
     "name": "stdout",
     "output_type": "stream",
     "text": [
      "[ 0.  1.  2. nan  4.  5. nan  7.  8.  9.]\n",
      "0.0 False\n",
      "1.0 False\n",
      "2.0 False\n",
      "nan True\n",
      "4.0 False\n",
      "5.0 False\n",
      "nan True\n",
      "7.0 False\n",
      "8.0 False\n",
      "9.0 False\n"
     ]
    }
   ],
   "source": [
    "# 5.\tWrite a NumPy program to test element-wise for NaN of a given array.\n",
    "\n",
    "import numpy as np\n",
    "\n",
    "a=np.array([0,1,2,np.NaN,4,5,np.NaN,7,8,9])\n",
    "print(a)\n",
    "for i in a:\n",
    "    print(i,np.isnan(i))"
   ]
  },
  {
   "cell_type": "code",
   "execution_count": 104,
   "metadata": {},
   "outputs": [
    {
     "name": "stdout",
     "output_type": "stream",
     "text": [
      "120 is greater than 59\n",
      "23 is less than 78\n",
      "elements are equal\n",
      "38 is less than 97\n",
      "40 is greater than 26\n",
      "52 is less than 85\n"
     ]
    }
   ],
   "source": [
    "# 6\tWrite a NumPy program to create an element-wise comparison (greater, greater_equal, less and less_equal) of two given arrays\n",
    "\n",
    "import numpy as np\n",
    "\n",
    "a=np.array((120,23,55,38,40,52))\n",
    "b=np.array((59,78,55,97,26,85))\n",
    "for i in range(len(a)):\n",
    "    if a[i]>b[i]:\n",
    "        print(a[i],'is greater than',b[i])\n",
    "    elif a[i]<b[i]:\n",
    "        print(a[i],'is less than',b[i])\n",
    "    else:\n",
    "        print('elements are equal')"
   ]
  },
  {
   "cell_type": "code",
   "execution_count": 115,
   "metadata": {},
   "outputs": [
    {
     "name": "stdout",
     "output_type": "stream",
     "text": [
      "72 and 72.0 are Equal\n",
      "79 and 79.0 are Equal\n",
      "85 and 85.0 are Equal\n",
      "90 and 90.0 are Equal\n",
      "150 and 150.0 are Equal\n",
      "-135 and -135.0 are Equal\n",
      "120 and 120.0 are Equal\n",
      "-10 and -10.0 are Equal\n",
      "60 and 60.0 are Equal\n",
      "100 and 100.000001 are Not Equal\n",
      "\n",
      "72 and and 72.0 are Equal within tolerance\n",
      "79 and and 79.0 are Equal within tolerance\n",
      "85 and and 85.0 are Equal within tolerance\n",
      "90 and and 90.0 are Equal within tolerance\n",
      "150 and and 150.0 are Equal within tolerance\n",
      "-135 and and -135.0 are Equal within tolerance\n",
      "120 and and 120.0 are Equal within tolerance\n",
      "-10 and and -10.0 are Equal within tolerance\n",
      "60 and and 60.0 are Equal within tolerance\n",
      "100 and and 100.000001 are Equal within tolerance\n"
     ]
    }
   ],
   "source": [
    "'''7.\tWrite a NumPy program to create an element-wise comparison (equal, equal within a tolerance) of two given arrays.\n",
    "Input:\n",
    "x = np.array ([72, 79, 85, 90, 150, -135, 120, -10, 60, 100])\n",
    "y = np.array ([72, 79, 85, 90, 150, -135, 120, -10, 60, 100.000001])\n",
    "'''\n",
    "\n",
    "x = np.array ([72, 79, 85, 90, 150, -135, 120, -10, 60, 100])\n",
    "y = np.array ([72, 79, 85, 90, 150, -135, 120, -10, 60, 100.000001])\n",
    "\n",
    "for i in range(len(x)):\n",
    "    if np.equal(x[i],y[i]):\n",
    "        print(x[i],'and',y[i],\"are Equal\")\n",
    "    else:\n",
    "        print(x[i],'and',y[i],'are Not Equal')\n",
    "print()       \n",
    "for i in range(len(x)):\n",
    "    if np.allclose(x[i],y[i]):\n",
    "        print(x[i],'and','and',y[i],\"are Equal within tolerance\")\n",
    "    else:\n",
    "        print(x[i],'and',y[i],'are Not Equal within tolerance')"
   ]
  },
  {
   "cell_type": "code",
   "execution_count": 136,
   "metadata": {},
   "outputs": [
    {
     "name": "stdout",
     "output_type": "stream",
     "text": [
      "array [  1   7  13 105]\n",
      "itemsize 4 size 4 getsizeof 112\n",
      "16 bytes\n",
      "1 4\n",
      "7 4\n",
      "13 4\n",
      "105 4\n"
     ]
    }
   ],
   "source": [
    "# Write a NumPy program to create an array with the values 1, 7, 13, 105 and determine the size of the memory occupied by the array\n",
    "\n",
    "import numpy as np\n",
    "import sys\n",
    "\n",
    "#a=np.array((1, 7, 13, 105))\n",
    "#print('The size of array is',np.size(a))\n",
    "#print('Memory allocated by array is',sys.getsizeof(a),'bytes')\n",
    "n = np.array((1,7,13,105))\n",
    "print('array',n)\n",
    "print('itemsize',n.itemsize,'size',np.size(n),'getsizeof',sys.getsizeof(n))\n",
    "print(\"%d bytes\" % (n.size * n.itemsize))\n",
    "for i in n:\n",
    "    print(i,i.itemsize)"
   ]
  },
  {
   "cell_type": "code",
   "execution_count": 148,
   "metadata": {},
   "outputs": [
    {
     "name": "stdout",
     "output_type": "stream",
     "text": [
      "[[0. 0. 0. 0. 0. 0. 0. 0. 0. 0.]\n",
      " [1. 1. 1. 1. 1. 1. 1. 1. 1. 1.]\n",
      " [5. 5. 5. 5. 5. 5. 5. 5. 5. 5.]]\n"
     ]
    }
   ],
   "source": [
    "# 9.\tWrite a NumPy program to create an array of 10 zeros, 10 ones, 10 fives\n",
    "import numpy as np\n",
    "\n",
    "a=np.array([np.zeros(10),np.ones(10),np.ones(10)*5])\n",
    "print(a)"
   ]
  },
  {
   "cell_type": "code",
   "execution_count": 149,
   "metadata": {},
   "outputs": [
    {
     "name": "stdout",
     "output_type": "stream",
     "text": [
      "[30 31 32 33 34 35 36 37 38 39 40 41 42 43 44 45 46 47 48 49 50 51 52 53\n",
      " 54 55 56 57 58 59 60 61 62 63 64 65 66 67 68 69 70]\n"
     ]
    }
   ],
   "source": [
    "# 10.\tWrite a NumPy program to create an array of the integers from 30 to 70.\n",
    "\n",
    "import numpy as np\n",
    "\n",
    "a=np.arange(30,71)\n",
    "print(a)"
   ]
  },
  {
   "cell_type": "code",
   "execution_count": 150,
   "metadata": {},
   "outputs": [
    {
     "name": "stdout",
     "output_type": "stream",
     "text": [
      "[30 32 34 36 38 40 42 44 46 48 50 52 54 56 58 60 62 64 66 68 70]\n"
     ]
    }
   ],
   "source": [
    "# 11.\tWrite a NumPy program to create an array of all the even integers from 30 to 70.\n",
    "\n",
    "import numpy as np\n",
    "\n",
    "a=np.arange(30,71,2)\n",
    "print(a)"
   ]
  },
  {
   "cell_type": "code",
   "execution_count": 154,
   "metadata": {},
   "outputs": [
    {
     "name": "stdout",
     "output_type": "stream",
     "text": [
      "Original Array [1 2 3 4 5 6 7 8 9]\n",
      "3X3 Matrix\n",
      " [[1 2 3]\n",
      " [4 5 6]\n",
      " [7 8 9]]\n"
     ]
    }
   ],
   "source": [
    "# 12.\tWrite a NumPy program to create a 3x3 identity matrix.\n",
    "\n",
    "import numpy as np\n",
    "\n",
    "a=np.arange(1,10)\n",
    "print('Original Array',a)\n",
    "print('3X3 Matrix\\n',a.reshape(3,3))"
   ]
  },
  {
   "cell_type": "code",
   "execution_count": 157,
   "metadata": {},
   "outputs": [
    {
     "name": "stdout",
     "output_type": "stream",
     "text": [
      "[[0.98505452 0.12756358 0.04363858 0.28925115 0.68818462 0.97574507\n",
      "  0.84590462 0.33158192 0.88415552 0.38649661]]\n"
     ]
    }
   ],
   "source": [
    "# 13.\tWrite a NumPy program to generate a random number between 0 and 1.\n",
    "\n",
    "import numpy as np\n",
    "\n",
    "a=np.random.rand(1,10)\n",
    "print(a)"
   ]
  },
  {
   "cell_type": "code",
   "execution_count": 164,
   "metadata": {},
   "outputs": [
    {
     "name": "stdout",
     "output_type": "stream",
     "text": [
      "[10.45554701  7.71120794  3.67107193  8.36177273 -1.27090457 10.16956894\n",
      "  9.69339382 10.85262625 -1.04183414 10.64092866  8.1133788  14.42332694\n",
      " -0.16058401 12.08566631 17.78909827]\n"
     ]
    }
   ],
   "source": [
    "# 14.\tWrite a NumPy program to generate an array of 15 random numbers from a standard normal distribution.\n",
    "\n",
    "import numpy as np\n",
    "#help(np.random.normal)\n",
    "a=np.random.normal(10,5,15)\n",
    "print(a)"
   ]
  },
  {
   "cell_type": "code",
   "execution_count": 170,
   "metadata": {},
   "outputs": [
    {
     "name": "stdout",
     "output_type": "stream",
     "text": [
      "Orginal Array\n",
      " [15 16 17 18 19 20 21 22 23 24 25 26 27 28 29 30 31 32 33 34 35 36 37 38\n",
      " 39 40 41 42 43 44 45 46 47 48 49 50 51 52 53 54 55]\n",
      "First and Last Element Excluded\n",
      " [16 17 18 19 20 21 22 23 24 25 26 27 28 29 30 31 32 33 34 35 36 37 38 39\n",
      " 40 41 42 43 44 45 46 47 48 49 50 51 52 53 54]\n"
     ]
    }
   ],
   "source": [
    "# Write a NumPy program to create a vector with values ranging from 15 to 55 and print all values except the first and last.\n",
    "\n",
    "import numpy as np\n",
    "\n",
    "a=np.arange(15,56)\n",
    "print('Orginal Array\\n',a)\n",
    "print('First and Last Element Excluded\\n',a[1:-1])"
   ]
  }
 ],
 "metadata": {
  "kernelspec": {
   "display_name": "Python 3",
   "language": "python",
   "name": "python3"
  },
  "language_info": {
   "codemirror_mode": {
    "name": "ipython",
    "version": 3
   },
   "file_extension": ".py",
   "mimetype": "text/x-python",
   "name": "python",
   "nbconvert_exporter": "python",
   "pygments_lexer": "ipython3",
   "version": "3.7.6"
  }
 },
 "nbformat": 4,
 "nbformat_minor": 4
}
