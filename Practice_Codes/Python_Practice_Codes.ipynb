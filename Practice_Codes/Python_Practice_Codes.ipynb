{
 "cells": [
  {
   "cell_type": "markdown",
   "metadata": {},
   "source": [
    "# DAY -> 1\n"
   ]
  },
  {
   "cell_type": "code",
   "execution_count": 8,
   "metadata": {},
   "outputs": [
    {
     "name": "stdout",
     "output_type": "stream",
     "text": [
      "2002,2009,2016,2023,2037,2044,2051,2058,2072,2079,2086,2093,2107,2114,2121,2128,2142,2149,2156,2163,2177,2184,2191,2198,2212,2219,2226,2233,2247,2254,2261,2268,2282,2289,2296,2303,2317,2324,2331,2338,2352,2359,2366,2373,2387,2394,2401,2408,2422,2429,2436,2443,2457,2464,2471,2478,2492,2499,2506,2513,2527,2534,2541,2548,2562,2569,2576,2583,2597,2604,2611,2618,2632,2639,2646,2653,2667,2674,2681,2688,2702,2709,2716,2723,2737,2744,2751,2758,2772,2779,2786,2793,2807,2814,2821,2828,2842,2849,2856,2863,2877,2884,2891,2898,2912,2919,2926,2933,2947,2954,2961,2968,2982,2989,2996,3003,3017,3024,3031,3038,3052,3059,3066,3073,3087,3094,3101,3108,3122,3129,3136,3143,3157,3164,3171,3178,3192,3199\n"
     ]
    }
   ],
   "source": [
    "'''\n",
    "Write a program which will find all such numbers which are divisible by 7 but are not a multiple of 5,\n",
    "between 2000 and 3200 (both included). The numbers obtained should be printed in a comma-separated sequence on a single line.\n",
    "'''\n",
    "\n",
    "a=''\n",
    "for i in range(2000,3201):\n",
    "    if i%7==0 and i%5!=0:\n",
    "        a=a+str(i)+','\n",
    "print(a[:-1])"
   ]
  },
  {
   "cell_type": "code",
   "execution_count": 15,
   "metadata": {},
   "outputs": [
    {
     "name": "stdout",
     "output_type": "stream",
     "text": [
      "Enter Range: 8\n",
      "{1: 1, 2: 4, 3: 9, 4: 16, 5: 25, 6: 36, 7: 49, 8: 64}\n"
     ]
    }
   ],
   "source": [
    "'''\n",
    "With a given integral number n, write a program to generate a dictionary that contains (i, i*i) such that is an integral number between 1 and n (both included). and then the program should print the dictionary.\n",
    "Suppose the following input is supplied to the program: 8 Then, the output should be:\n",
    "{1: 1, 2: 4, 3: 9, 4: 16, 5: 25, 6: 36, 7: 49, 8: 64}\n",
    "'''\n",
    "\n",
    "n=int(input(\"Enter Range: \"))\n",
    "dic={}\n",
    "for i in range(1,n+1):\n",
    "    dic.__setitem__(i,i*i)\n",
    "print(dic)"
   ]
  },
  {
   "cell_type": "code",
   "execution_count": 22,
   "metadata": {},
   "outputs": [
    {
     "name": "stdout",
     "output_type": "stream",
     "text": [
      "Hello world\n",
      "Practice makes perfect\n",
      "\n",
      "HELLO WORLD\n",
      "PRACTICE MAKES PERFECT\n"
     ]
    }
   ],
   "source": [
    "'''\n",
    "Write a program that accepts sequence of lines as input and prints the lines after making all characters in the sentence capitalized.\n",
    "Suppose the following input is supplied to the program:\n",
    "Hello world\n",
    "Practice makes perfect\n",
    "Then, the output should be:\n",
    "HELLO WORLD\n",
    "PRACTICE MAKES PERFECT\n",
    "'''\n",
    "lines=[]\n",
    "while True:\n",
    "    l=input()\n",
    "    if l=='':\n",
    "        break\n",
    "    else:        \n",
    "        lines.append(l)\n",
    "for i in lines:\n",
    "    print(i.upper())"
   ]
  },
  {
   "cell_type": "code",
   "execution_count": 23,
   "metadata": {},
   "outputs": [
    {
     "name": "stdout",
     "output_type": "stream",
     "text": [
      "Enter a Number : 456\n",
      "Even\n"
     ]
    }
   ],
   "source": [
    "# Write a program to check wheather number is even or odd using if Else statement…\n",
    "\n",
    "num=int(input(\"Enter a Number : \"))\n",
    "if num%2==0:\n",
    "    print(\"Even\")\n",
    "else:\n",
    "    print(\"Odd\")"
   ]
  },
  {
   "cell_type": "code",
   "execution_count": 24,
   "metadata": {},
   "outputs": [
    {
     "name": "stdout",
     "output_type": "stream",
     "text": [
      "Enter Age : 12\n",
      "You are allowed… Welcome!!\n"
     ]
    }
   ],
   "source": [
    "'''\n",
    "WAP that grants access only to kids aged between 8-12 using  if  else statement\n",
    "Hint:: If aged between 8 to 12 then you are allowed… welcome!! Otherwise Sorry not allowed ..Bye!\n",
    "'''\n",
    "\n",
    "age=int(input(\"Enter Age : \"))\n",
    "if age>=8 and age<=12:\n",
    "    print(\"You are allowed… Welcome!!\")\n",
    "else:\n",
    "    print(\"Sorry not allowed ..Bye!\")"
   ]
  },
  {
   "cell_type": "markdown",
   "metadata": {},
   "source": [
    "# DAY -> 2"
   ]
  },
  {
   "cell_type": "code",
   "execution_count": 1,
   "metadata": {},
   "outputs": [
    {
     "name": "stdout",
     "output_type": "stream",
     "text": [
      "Enter a number: 5\n",
      "1 + 2 + 3 + 4 + 5 = 15\n"
     ]
    }
   ],
   "source": [
    "'''\n",
    "1.Python Program to Read a Number n And Print the Series “1+2+…..+n= “\n",
    "sample:\n",
    "Case 1: Enter a number: 4 -> 1 + 2 + 3 + 4 = 10 \n",
    "Case 2: Enter a number: 5 -> 1 + 2 + 3 + 4 + 5 = 15\n",
    "'''\n",
    "\n",
    "n=int(input(\"Enter a number: \"))\n",
    "a,s='',0\n",
    "for i in range(1,n+1):\n",
    "    s+=i\n",
    "    a=a+str(i)+' + '\n",
    "print(a[:-3],\"=\",s)"
   ]
  },
  {
   "cell_type": "code",
   "execution_count": 3,
   "metadata": {},
   "outputs": [
    {
     "name": "stdout",
     "output_type": "stream",
     "text": [
      "Number of even numbers : 4 Number of odd numbers : 5\n"
     ]
    }
   ],
   "source": [
    "'''\n",
    "Write a Python program to count the number of even and odd numbers from a series of numbers.\n",
    "Sample numbers : numbers = [1, 2, 3, 4, 5, 6, 7, 8, 9]\n",
    "Expected Output :\n",
    "Number of even numbers : 4 Number of odd numbers : 5\n",
    "'''\n",
    "\n",
    "n=[1, 2, 3, 4, 5, 6, 7, 8, 9]\n",
    "e,o=0,0\n",
    "for i in n:\n",
    "    if i%2==0:\n",
    "        e+=1\n",
    "    else:\n",
    "        o+=1\n",
    "print(\"Number of even numbers :\",e,\"Number of odd numbers :\",o)"
   ]
  },
  {
   "cell_type": "code",
   "execution_count": 4,
   "metadata": {},
   "outputs": [
    {
     "name": "stdout",
     "output_type": "stream",
     "text": [
      "Enter a number: 17\n",
      "17 X 1 = 17\n",
      "17 X 2 = 34\n",
      "17 X 3 = 51\n",
      "17 X 4 = 68\n",
      "17 X 5 = 85\n",
      "17 X 6 = 102\n",
      "17 X 7 = 119\n",
      "17 X 8 = 136\n",
      "17 X 9 = 153\n",
      "17 X 10 = 170\n"
     ]
    }
   ],
   "source": [
    "# 3.Write a Python program to create the multiplication table (from 1 to 10) of a number. \n",
    "\n",
    "n=int(input(\"Enter a number: \"))\n",
    "for i in range(1,11):\n",
    "    print(n,'X',i,'=',i*n)"
   ]
  },
  {
   "attachments": {
    "image.png": {
     "image/png": "[encoded data removed]"
    }
   },
   "cell_type": "markdown",
   "metadata": {},
   "source": [
    "Q 4 -> '''Given the triangle of consecutive odd  numbers\n",
    "\n",
    "![image.png](attachment:image.png)\n",
    "\n",
    "Above triangle is given Calculate Sum row wise \n",
    "Example we call function :- row_sum_odd_numbers(2)\n",
    "Result will be=3 + 5 = 8\n",
    "if user give 4 then ur output is 13 + 15 + 17+ 19 = 64\n",
    "'''"
   ]
  },
  {
   "cell_type": "code",
   "execution_count": 107,
   "metadata": {},
   "outputs": [
    {
     "name": "stdout",
     "output_type": "stream",
     "text": [
      "Enter a number: 6\n",
      "      1  \n",
      "     3      5  \n",
      "    7     9     11  \n",
      "   13    15    17    19  \n",
      "  21   23   25   27   29  \n",
      " 31  33  35  37  39  41  \n",
      "\n",
      "Enter Row Number: 5\n",
      "21 + 23 + 25 + 27 + 29  = 125\n"
     ]
    }
   ],
   "source": [
    "def row_sum_odd_numbers(r,d):\n",
    "    s=0\n",
    "    a=''\n",
    "    for i  in d.get(r):\n",
    "        a=a+str(i)+' + '\n",
    "        s+=i\n",
    "    print(a[:-2],\"=\",s)\n",
    "\n",
    "n=int(input(\"Enter a number: \"))\n",
    "a=1\n",
    "d={}\n",
    "for i in range(1,n+1):\n",
    "    ls=[]\n",
    "    for j in range(1,i+1):\n",
    "        print(' '*((n)-(i)),a,end=' ')\n",
    "        ls.append(a)\n",
    "        a+=2\n",
    "    d.__setitem__(i,ls)\n",
    "    print(' ')\n",
    "\n",
    "r=int(input(\"\\nEnter Row Number: \"))\n",
    "row_sum_odd_numbers(r,d)\n"
   ]
  },
  {
   "cell_type": "code",
   "execution_count": 111,
   "metadata": {},
   "outputs": [
    {
     "name": "stdout",
     "output_type": "stream",
     "text": [
      "Enter a number: 5\n",
      " \n",
      "1 \n",
      "22 \n",
      "333 \n",
      "4444 \n",
      "55555 \n"
     ]
    }
   ],
   "source": [
    "'''\n",
    "Write python program to print the pattern given below\n",
    "Note: Take input from user\n",
    "1\n",
    "2 2\n",
    "3 3 3\n",
    "4 4 4 4\n",
    "5 5 5 5 5\n",
    "'''\n",
    "\n",
    "n=int(input(\"Enter a number: \"))\n",
    "for i in range(n+1):\n",
    "    print((str(i))*i,end=' \\n')"
   ]
  },
  {
   "cell_type": "markdown",
   "metadata": {},
   "source": [
    "# DAY -> 3"
   ]
  },
  {
   "cell_type": "code",
   "execution_count": 112,
   "metadata": {},
   "outputs": [
    {
     "name": "stdout",
     "output_type": "stream",
     "text": [
      "Original List: [5, 15, 25, 35, 45, 55, 65, 75, 85, 95]\n",
      "Squared List: [25, 225, 625, 1225, 2025, 3025, 4225, 5625, 7225, 9025]\n"
     ]
    }
   ],
   "source": [
    "# You are given with a list of integer elements. Make a new list which will store square of elements of previous list.\n",
    "\n",
    "ls=[5,15,25,35,45,55,65,75,85,95]\n",
    "print(\"Original List:\",ls)\n",
    "ls1=[]\n",
    "for i in ls:\n",
    "      ls1.append(i**2)\n",
    "print(\"Squared List:\",ls1)"
   ]
  },
  {
   "cell_type": "code",
   "execution_count": 113,
   "metadata": {},
   "outputs": [
    {
     "name": "stdout",
     "output_type": "stream",
     "text": [
      "Original List: [5, 15, 25, 35, 45, 55, 65, 75, 85, 95]\n",
      "Int List:  [1, 2, 3] \n",
      "Float List:  [3.14, 89.75, 34.78] \n",
      "String List:  ['asdf', 'drth', 'irugh']\n"
     ]
    }
   ],
   "source": [
    "# From a list containing ints, strings and floats, make three lists to store them separately. \n",
    "\n",
    "mixLs=[1,2,3,'asdf','drth','irugh',3.14,89.75,34.78]\n",
    "print(\"Original List:\",ls)\n",
    "iLs,fLs,sLs=[],[],[]\n",
    "for i in mixLs:\n",
    "    if isinstance(i,int):\n",
    "        iLs.append(i)\n",
    "    elif isinstance(i,float):\n",
    "        fLs.append(i)\n",
    "    elif isinstance(i,str):\n",
    "        sLs.append(i)\n",
    "print(\"Int List: \",iLs,\"\\nFloat List: \",fLs,\"\\nString List: \",sLs)"
   ]
  },
  {
   "cell_type": "code",
   "execution_count": 132,
   "metadata": {},
   "outputs": [
    {
     "name": "stdout",
     "output_type": "stream",
     "text": [
      "1  \n",
      "1 2  \n",
      "1 2 3  \n",
      "1 2 3 4  \n",
      "1 2 3 4 5  \n"
     ]
    }
   ],
   "source": [
    "'''\n",
    "3.\tPrint the pattern\n",
    "1\n",
    "1 2 \n",
    "1 2 3\n",
    "1 2 3 4\n",
    "1 2 3 4 5\n",
    "'''\n",
    "\n",
    "n=5\n",
    "#int(input(\"Enter a number: \"))\n",
    "for i in range(1,n+1):\n",
    "    a=1\n",
    "    for j in range(1,i+1):\n",
    "        print((str(a)),end=' ')\n",
    "        a+=1\n",
    "    print(' ')"
   ]
  },
  {
   "cell_type": "code",
   "execution_count": 16,
   "metadata": {},
   "outputs": [
    {
     "name": "stdout",
     "output_type": "stream",
     "text": [
      "Matrix 1\n",
      " [[1 2 3]\n",
      " [4 5 6]\n",
      " [7 8 9]] \n",
      "Matrix 2\n",
      " [[11 12 13]\n",
      " [14 15 16]\n",
      " [17 18 19]]\n",
      "Matrix Addition Result\n",
      " [[12 14 16]\n",
      " [18 20 22]\n",
      " [24 26 28]]\n"
     ]
    }
   ],
   "source": [
    "# 4.\tAccept data in two 3*3  matrix and calculate the sum of the matrices.\n",
    "\n",
    "import numpy as np\n",
    "\n",
    "a=np.arange(1,10)\n",
    "b=np.arange(11,20)\n",
    "    \n",
    "print('Matrix 1\\n',a.reshape(3,3),'\\nMatrix 2\\n',b.reshape(3,3))\n",
    "print('Matrix Addition Result\\n',(a+b).reshape(3,3))"
   ]
  },
  {
   "cell_type": "code",
   "execution_count": 29,
   "metadata": {},
   "outputs": [
    {
     "name": "stdout",
     "output_type": "stream",
     "text": [
      "Enter a number: 1634\n",
      "1^4 + 6^4 + 3^4 + 4^4 = 1634\n",
      "narcissistic\n"
     ]
    }
   ],
   "source": [
    "'''\n",
    "5.\tWrite a Python program to check whether a given number is a narcissistic number or not\n",
    "For example, 371 is a narcissistic number; it has three digits, and if we cube each digits  33 + 73 + 13 the sum is 371. Other 3-digit narcissistic numbers are\n",
    "153 = 13 + 53 + 33\n",
    "There are also 4-digit narcissistic numbers, some of which are 1634, 8208, 9474 since\n",
    "1634 = 14+64+34+44\n",
    "'''\n",
    "\n",
    "n=input(\"Enter a number: \")\n",
    "s=0\n",
    "a=''\n",
    "for i in n:\n",
    "    s+=int(i)**(len(n))\n",
    "    a+=i+'^'+str(len(n))+' + '\n",
    "print(a[:-3],'=',s)\n",
    "if str(s)==n:\n",
    "    print(\"narcissistic\")\n",
    "else:\n",
    "    print(\"not narcissistic\")"
   ]
  },
  {
   "cell_type": "markdown",
   "metadata": {},
   "source": [
    "# DAY -> 4"
   ]
  },
  {
   "cell_type": "code",
   "execution_count": 31,
   "metadata": {},
   "outputs": [
    {
     "name": "stdout",
     "output_type": "stream",
     "text": [
      "Enter A: 100\n",
      "Enter B: 150\n",
      "Enter C: 20\n",
      "150\n"
     ]
    }
   ],
   "source": [
    "# 1.\tWrite a function to find max of three numbers.\n",
    "\n",
    "def max3(a,b,c):\n",
    "    ls=[a,b,c]\n",
    "    return max(ls)\n",
    "\n",
    "a,b,c=int(input(\"Enter A: \")),int(input(\"Enter B: \")),int(input(\"Enter C: \"))\n",
    "print(max3(a,b,c))"
   ]
  },
  {
   "cell_type": "code",
   "execution_count": 38,
   "metadata": {},
   "outputs": [
    {
     "name": "stdout",
     "output_type": "stream",
     "text": [
      "No. of variables in Function are: 3\n"
     ]
    }
   ],
   "source": [
    "# 2.\tWrite a Python program to detect the number of local variables declared in a function.\n",
    "\n",
    "def abc():\n",
    "    x = 1\n",
    "    y = 2\n",
    "    str1= \"Pranay\"\n",
    "    print(\"Python Practice Session\")\n",
    "\n",
    "print(\"No. of variables in Function are:\",abc.__code__.co_nlocals)"
   ]
  },
  {
   "cell_type": "code",
   "execution_count": 48,
   "metadata": {},
   "outputs": [
    {
     "name": "stdout",
     "output_type": "stream",
     "text": [
      "55\n"
     ]
    }
   ],
   "source": [
    "# Write a function to calculate the sum of numbers from 0 to 10 Expected output: 55\n",
    "\n",
    "def sumNum(ls):\n",
    "    return sum(ls)\n",
    "\n",
    "print(sumNum([i for i in range(1,11)]))"
   ]
  },
  {
   "cell_type": "code",
   "execution_count": 67,
   "metadata": {},
   "outputs": [
    {
     "name": "stdout",
     "output_type": "stream",
     "text": [
      "Enter Id: \n",
      "Enter Name: Pranay\n",
      "Enter VITA: \n",
      "Id: 1 , Name: Pranay , College: VITA\n"
     ]
    }
   ],
   "source": [
    "'''\n",
    "Create a function showStudent() in such a way that it should accept student id, name, and it’s college name  and if the id and \n",
    "college name is missing in function call it should show it as by default id is 1 and college name  is VITA.\n",
    "'''\n",
    "\n",
    "def showStudent(name,sid=1,clg='VITA'):\n",
    "    print('Id:',sid,', Name:',name,', College:',clg)\n",
    "\n",
    "i,n,c=input(\"Enter Id: \"),input(\"Enter Name: \"),input(\"Enter VITA: \")\n",
    "if i=='' and c=='':\n",
    "    showStudent(n)\n",
    "else:\n",
    "    showStudent(n,i,c)"
   ]
  },
  {
   "cell_type": "code",
   "execution_count": 71,
   "metadata": {},
   "outputs": [
    {
     "name": "stdout",
     "output_type": "stream",
     "text": [
      "Sample List [11, 22, 22, 33, 33, 33, 44, 55, 55, 66]\n",
      "Unique List [11, 22, 33, 44, 55, 66]\n"
     ]
    }
   ],
   "source": [
    "'''\n",
    "5.\tWrite a Python function that takes a list and returns a new list with unique elements of the first list.\n",
    "Sample List : [11,22,22,33,33,33,44,55,55,66]\n",
    "Unique List : [11, 22,33, 44, 55,66]\n",
    "'''\n",
    "def uLs(ls):\n",
    "    return sorted(set(ls))\n",
    "ls=[11,22,22,33,33,33,44,55,55,66]\n",
    "print(\"Sample List\",ls)\n",
    "print(\"Unique List\",uLs(ls))\n"
   ]
  },
  {
   "cell_type": "code",
   "execution_count": 1,
   "metadata": {},
   "outputs": [
    {
     "name": "stdout",
     "output_type": "stream",
     "text": [
      "Enter a number: 5424\n",
      "9\n"
     ]
    }
   ],
   "source": [
    "'''\n",
    "6.\tWrite a program to obtain the sum of the first and last digit of this number 2 user defined functions\n",
    "1st for first digit\n",
    "2nd for last digit\n",
    "Example:\n",
    " Input:  5424\n",
    "Output: 9\n",
    "'''\n",
    "def first(num):\n",
    "    return int(str(num)[0])\n",
    "def last(num):\n",
    "    return int(str(num)[-1])\n",
    "\n",
    "n=int(input(\"Enter a number: \"))\n",
    "print(first(n)+last(n))"
   ]
  }
 ],
 "metadata": {
  "kernelspec": {
   "display_name": "Python 3",
   "language": "python",
   "name": "python3"
  },
  "language_info": {
   "codemirror_mode": {
    "name": "ipython",
    "version": 3
   },
   "file_extension": ".py",
   "mimetype": "text/x-python",
   "name": "python",
   "nbconvert_exporter": "python",
   "pygments_lexer": "ipython3",
   "version": "3.7.6"
  }
 },
 "nbformat": 4,
 "nbformat_minor": 4
}
