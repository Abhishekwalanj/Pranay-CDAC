{
 "cells": [
  {
   "cell_type": "code",
   "execution_count": 2,
   "metadata": {},
   "outputs": [
    {
     "data": {
      "text/plain": [
       "'1.0.1'"
      ]
     },
     "execution_count": 2,
     "metadata": {},
     "output_type": "execute_result"
    }
   ],
   "source": [
    "# 1. How to import pandas and check the version?\n",
    "\n",
    "import pandas as pd\n",
    "\n",
    "pd.__version__\n"
   ]
  },
  {
   "cell_type": "code",
   "execution_count": 18,
   "metadata": {},
   "outputs": [],
   "source": [
    "import numpy as np"
   ]
  },
  {
   "cell_type": "code",
   "execution_count": 26,
   "metadata": {},
   "outputs": [
    {
     "name": "stdout",
     "output_type": "stream",
     "text": [
      "Series from List \n",
      " 0    10\n",
      "1    20\n",
      "2    30\n",
      "3    40\n",
      "4    50\n",
      "5    60\n",
      "dtype: int64\n",
      "Series from Numpy Array \n",
      " 0     10\n",
      "1     20\n",
      "2     30\n",
      "3     40\n",
      "4     50\n",
      "5     60\n",
      "6     70\n",
      "7     80\n",
      "8     90\n",
      "9    100\n",
      "dtype: int32\n",
      "Series from Dictionary \n",
      " 1      Jan\n",
      "2      Feb\n",
      "3      Mar\n",
      "4      Apr\n",
      "5      May\n",
      "6      Jun\n",
      "7      Jul\n",
      "8      Aug\n",
      "9     Sept\n",
      "10     Oct\n",
      "11     Nov\n",
      "12     Dec\n",
      "dtype: object\n"
     ]
    }
   ],
   "source": [
    "# 2. How to create a series from a list, numpy array and dict?\n",
    "import numpy as np\n",
    "\n",
    "# List\n",
    "lsData=[10,20,30,40,50,60]\n",
    "listSeries=pd.Series(lsData)\n",
    "print(\"Series from List \\n\",listSeries)\n",
    "\n",
    "# Numpy Array\n",
    "naData=np.arange(10,101,10)\n",
    "naSeries=pd.Series(naData)\n",
    "print(\"Series from Numpy Array \\n\",naSeries)\n",
    "\n",
    "# Numpy Dict\n",
    "dictData={1:\"Jan\",2:\"Feb\",3:\"Mar\",4:\"Apr\",5:'May',6:'Jun',\n",
    "          7:'Jul',8:'Aug',9:'Sept',10:'Oct',11:'Nov',12:'Dec'}\n",
    "dictSeries=pd.Series(dictData)\n",
    "print(\"Series from Dictionary \\n\",dictSeries)"
   ]
  },
  {
   "cell_type": "code",
   "execution_count": null,
   "metadata": {},
   "outputs": [],
   "source": [
    "# 3. How to convert the index of a series into a column of a dataframe?\n",
    "\n"
   ]
  },
  {
   "cell_type": "code",
   "execution_count": 28,
   "metadata": {},
   "outputs": [
    {
     "data": {
      "text/html": [
       "<div>\n",
       "<style scoped>\n",
       "    .dataframe tbody tr th:only-of-type {\n",
       "        vertical-align: middle;\n",
       "    }\n",
       "\n",
       "    .dataframe tbody tr th {\n",
       "        vertical-align: top;\n",
       "    }\n",
       "\n",
       "    .dataframe thead th {\n",
       "        text-align: right;\n",
       "    }\n",
       "</style>\n",
       "<table border=\"1\" class=\"dataframe\">\n",
       "  <thead>\n",
       "    <tr style=\"text-align: right;\">\n",
       "      <th></th>\n",
       "      <th>0</th>\n",
       "      <th>1</th>\n",
       "      <th>2</th>\n",
       "      <th>3</th>\n",
       "      <th>4</th>\n",
       "      <th>5</th>\n",
       "      <th>6</th>\n",
       "      <th>7</th>\n",
       "      <th>8</th>\n",
       "      <th>9</th>\n",
       "      <th>10</th>\n",
       "    </tr>\n",
       "  </thead>\n",
       "  <tbody>\n",
       "    <tr>\n",
       "      <th>0</th>\n",
       "      <td>10</td>\n",
       "      <td>11</td>\n",
       "      <td>12</td>\n",
       "      <td>13</td>\n",
       "      <td>14</td>\n",
       "      <td>15</td>\n",
       "      <td>16</td>\n",
       "      <td>17</td>\n",
       "      <td>18</td>\n",
       "      <td>19</td>\n",
       "      <td>20</td>\n",
       "    </tr>\n",
       "    <tr>\n",
       "      <th>1</th>\n",
       "      <td>50</td>\n",
       "      <td>51</td>\n",
       "      <td>52</td>\n",
       "      <td>53</td>\n",
       "      <td>54</td>\n",
       "      <td>55</td>\n",
       "      <td>56</td>\n",
       "      <td>57</td>\n",
       "      <td>58</td>\n",
       "      <td>59</td>\n",
       "      <td>60</td>\n",
       "    </tr>\n",
       "    <tr>\n",
       "      <th>2</th>\n",
       "      <td>0</td>\n",
       "      <td>10</td>\n",
       "      <td>20</td>\n",
       "      <td>30</td>\n",
       "      <td>40</td>\n",
       "      <td>50</td>\n",
       "      <td>60</td>\n",
       "      <td>70</td>\n",
       "      <td>80</td>\n",
       "      <td>90</td>\n",
       "      <td>100</td>\n",
       "    </tr>\n",
       "  </tbody>\n",
       "</table>\n",
       "</div>"
      ],
      "text/plain": [
       "    0   1   2   3   4   5   6   7   8   9   10\n",
       "0  10  11  12  13  14  15  16  17  18  19   20\n",
       "1  50  51  52  53  54  55  56  57  58  59   60\n",
       "2   0  10  20  30  40  50  60  70  80  90  100"
      ]
     },
     "execution_count": 28,
     "metadata": {},
     "output_type": "execute_result"
    }
   ],
   "source": [
    "# 4. How to combine many series to form a dataframe?\n",
    "\n",
    "col1=pd.Series(np.arange(10,21))\n",
    "col2=pd.Series(np.arange(50,61))\n",
    "col3=pd.Series(np.arange(0,101,10))\n",
    "\n",
    "colData=[col1,col2,col3]\n",
    "\n",
    "df=pd.DataFrame(colData)\n",
    "df"
   ]
  },
  {
   "cell_type": "code",
   "execution_count": 31,
   "metadata": {},
   "outputs": [
    {
     "data": {
      "text/plain": [
       "0       0\n",
       "1      10\n",
       "2      20\n",
       "3      30\n",
       "4      40\n",
       "5      50\n",
       "6      60\n",
       "7      70\n",
       "8      80\n",
       "9      90\n",
       "10    100\n",
       "Name: Name, dtype: int32"
      ]
     },
     "execution_count": 31,
     "metadata": {},
     "output_type": "execute_result"
    }
   ],
   "source": [
    "# 5. How to assign name to the series’ index?\n",
    "\n",
    "ds=pd.Series(np.arange(0,101,10),name='Name')\n",
    "ds"
   ]
  },
  {
   "cell_type": "code",
   "execution_count": 17,
   "metadata": {},
   "outputs": [
    {
     "data": {
      "text/plain": [
       "0    False\n",
       "1    False\n",
       "2    False\n",
       "3    False\n",
       "4    False\n",
       "5     True\n",
       "6     True\n",
       "7     True\n",
       "8     True\n",
       "9     True\n",
       "dtype: bool"
      ]
     },
     "execution_count": 17,
     "metadata": {},
     "output_type": "execute_result"
    }
   ],
   "source": [
    "# 6. How to get the items of series A not present in series B?\n",
    "\n",
    "s1=pd.Series([1,2,3,4,5,6,7,8,9,10])\n",
    "s2=pd.Series([11,12,13,14,15,6,7,8,9,10])\n",
    "\n",
    "s1==s2"
   ]
  },
  {
   "cell_type": "code",
   "execution_count": 18,
   "metadata": {},
   "outputs": [
    {
     "data": {
      "text/plain": [
       "0    False\n",
       "1    False\n",
       "2    False\n",
       "3    False\n",
       "4    False\n",
       "5     True\n",
       "6     True\n",
       "7     True\n",
       "8     True\n",
       "9     True\n",
       "dtype: bool"
      ]
     },
     "execution_count": 18,
     "metadata": {},
     "output_type": "execute_result"
    }
   ],
   "source": [
    "# 7. How to get the items not common to both series A and series B?\n",
    "\n",
    "s1=pd.Series([1,2,3,4,5,6,7,8,9,10])\n",
    "s2=pd.Series([11,12,13,14,15,6,7,8,9,10])\n",
    "\n",
    "s1==s2"
   ]
  },
  {
   "cell_type": "code",
   "execution_count": 28,
   "metadata": {},
   "outputs": [
    {
     "name": "stdout",
     "output_type": "stream",
     "text": [
      "minimum: 6\n",
      "25th percentile: 8.25\n",
      "median: 10.5\n",
      "75th percentile: 12.75\n",
      "max: 15\n"
     ]
    }
   ],
   "source": [
    "# 8. How to get the minimum, 25th percentile, median, 75th, and max of a numeric series?\n",
    "import numpy as np\n",
    "\n",
    "s=pd.Series([11,12,13,14,15,6,7,8,9,10])\n",
    "\n",
    "print('minimum:',s.min())\n",
    "print('25th percentile:',np.percentile(s,25))\n",
    "print('median:',s.median())\n",
    "print('75th percentile:',np.percentile(s,75))\n",
    "print('max:',s.max())"
   ]
  },
  {
   "cell_type": "code",
   "execution_count": 34,
   "metadata": {},
   "outputs": [
    {
     "name": "stdout",
     "output_type": "stream",
     "text": [
      "10    2\n",
      "9     2\n",
      "8     2\n",
      "7     2\n",
      "6     2\n",
      "15    1\n",
      "14    1\n",
      "13    1\n",
      "12    1\n",
      "11    1\n",
      "dtype: int64\n"
     ]
    }
   ],
   "source": [
    "# 9. How to get frequency counts of unique items of a series?\n",
    "\n",
    "s=pd.Series([11,12,13,14,15,6,7,8,9,10,6,7,8,9,10])\n",
    "\n",
    "print(s.value_counts())"
   ]
  },
  {
   "cell_type": "code",
   "execution_count": null,
   "metadata": {},
   "outputs": [],
   "source": [
    "# 10. How to keep only top 2 most frequent values as it is and replace everything else as ‘Other’?\n",
    "\n"
   ]
  },
  {
   "cell_type": "code",
   "execution_count": 38,
   "metadata": {},
   "outputs": [],
   "source": [
    "# 11. How to bin a numeric series to 10 groups of equal size?\n",
    "\n"
   ]
  },
  {
   "cell_type": "code",
   "execution_count": 48,
   "metadata": {},
   "outputs": [
    {
     "data": {
      "text/html": [
       "<div>\n",
       "<style scoped>\n",
       "    .dataframe tbody tr th:only-of-type {\n",
       "        vertical-align: middle;\n",
       "    }\n",
       "\n",
       "    .dataframe tbody tr th {\n",
       "        vertical-align: top;\n",
       "    }\n",
       "\n",
       "    .dataframe thead th {\n",
       "        text-align: right;\n",
       "    }\n",
       "</style>\n",
       "<table border=\"1\" class=\"dataframe\">\n",
       "  <thead>\n",
       "    <tr style=\"text-align: right;\">\n",
       "      <th></th>\n",
       "      <th>0</th>\n",
       "      <th>1</th>\n",
       "      <th>2</th>\n",
       "      <th>3</th>\n",
       "      <th>4</th>\n",
       "      <th>5</th>\n",
       "      <th>6</th>\n",
       "      <th>7</th>\n",
       "      <th>8</th>\n",
       "      <th>9</th>\n",
       "      <th>10</th>\n",
       "    </tr>\n",
       "  </thead>\n",
       "  <tbody>\n",
       "    <tr>\n",
       "      <th>0</th>\n",
       "      <td>10</td>\n",
       "      <td>11</td>\n",
       "      <td>12</td>\n",
       "      <td>13</td>\n",
       "      <td>14</td>\n",
       "      <td>15</td>\n",
       "      <td>16</td>\n",
       "      <td>17</td>\n",
       "      <td>18</td>\n",
       "      <td>19</td>\n",
       "      <td>20</td>\n",
       "    </tr>\n",
       "    <tr>\n",
       "      <th>1</th>\n",
       "      <td>100</td>\n",
       "      <td>110</td>\n",
       "      <td>120</td>\n",
       "      <td>130</td>\n",
       "      <td>140</td>\n",
       "      <td>150</td>\n",
       "      <td>160</td>\n",
       "      <td>170</td>\n",
       "      <td>180</td>\n",
       "      <td>190</td>\n",
       "      <td>200</td>\n",
       "    </tr>\n",
       "  </tbody>\n",
       "</table>\n",
       "</div>"
      ],
      "text/plain": [
       "     0    1    2    3    4    5    6    7    8    9   10\n",
       "0   10   11   12   13   14   15   16   17   18   19   20\n",
       "1  100  110  120  130  140  150  160  170  180  190  200"
      ]
     },
     "execution_count": 48,
     "metadata": {},
     "output_type": "execute_result"
    }
   ],
   "source": [
    "# 12. How to convert a numpy array to a dataframe of given shape? (L1)\n",
    "\n",
    "s=np.arange(10,21)\n",
    "s1=np.arange(100,210,10)\n",
    "ds=pd.DataFrame([s,s1])\n",
    "ds"
   ]
  },
  {
   "cell_type": "code",
   "execution_count": 66,
   "metadata": {},
   "outputs": [
    {
     "name": "stdout",
     "output_type": "stream",
     "text": [
      "     0\n",
      "0  -10\n",
      "1  -11\n",
      "2   12\n",
      "3  -13\n",
      "4  -14\n",
      "5   15\n",
      "6  -16\n",
      "7  -17\n",
      "8   18\n",
      "9  -19\n",
      "10 -20\n"
     ]
    }
   ],
   "source": [
    "# 13. How to find the positions of numbers that are multiples of 3 from a series?\n",
    "\n",
    "s=np.arange(10,21)\n",
    "ser=pd.Series(s)\n",
    "df=pd.DataFrame(s)\n",
    "m=(df%3==0)\n",
    "print(df.where(m,-df))"
   ]
  },
  {
   "cell_type": "code",
   "execution_count": 52,
   "metadata": {},
   "outputs": [
    {
     "data": {
      "text/plain": [
       "76"
      ]
     },
     "execution_count": 52,
     "metadata": {},
     "output_type": "execute_result"
    }
   ],
   "source": [
    "# 14. How to extract items at given positions from a series?\n",
    "\n",
    "ser=pd.Series([10,34,54,76,23,54,87,23])\n",
    "ser[3]"
   ]
  },
  {
   "cell_type": "code",
   "execution_count": 159,
   "metadata": {},
   "outputs": [
    {
     "data": {
      "text/html": [
       "<div>\n",
       "<style scoped>\n",
       "    .dataframe tbody tr th:only-of-type {\n",
       "        vertical-align: middle;\n",
       "    }\n",
       "\n",
       "    .dataframe tbody tr th {\n",
       "        vertical-align: top;\n",
       "    }\n",
       "\n",
       "    .dataframe thead th {\n",
       "        text-align: right;\n",
       "    }\n",
       "</style>\n",
       "<table border=\"1\" class=\"dataframe\">\n",
       "  <thead>\n",
       "    <tr style=\"text-align: right;\">\n",
       "      <th></th>\n",
       "      <th>0</th>\n",
       "      <th>1</th>\n",
       "      <th>2</th>\n",
       "      <th>3</th>\n",
       "      <th>4</th>\n",
       "      <th>5</th>\n",
       "      <th>6</th>\n",
       "      <th>7</th>\n",
       "    </tr>\n",
       "  </thead>\n",
       "  <tbody>\n",
       "    <tr>\n",
       "      <th>0</th>\n",
       "      <td>10</td>\n",
       "      <td>34</td>\n",
       "      <td>54</td>\n",
       "      <td>76</td>\n",
       "      <td>23</td>\n",
       "      <td>54</td>\n",
       "      <td>87</td>\n",
       "      <td>23</td>\n",
       "    </tr>\n",
       "    <tr>\n",
       "      <th>1</th>\n",
       "      <td>11</td>\n",
       "      <td>12</td>\n",
       "      <td>13</td>\n",
       "      <td>14</td>\n",
       "      <td>15</td>\n",
       "      <td>6</td>\n",
       "      <td>7</td>\n",
       "      <td>8</td>\n",
       "    </tr>\n",
       "  </tbody>\n",
       "</table>\n",
       "</div>"
      ],
      "text/plain": [
       "    0   1   2   3   4   5   6   7\n",
       "0  10  34  54  76  23  54  87  23\n",
       "1  11  12  13  14  15   6   7   8"
      ]
     },
     "execution_count": 159,
     "metadata": {},
     "output_type": "execute_result"
    }
   ],
   "source": [
    "# 15. How to stack two series vertically and horizontally ?\n",
    "ser=pd.Series([10,34,54,76,23,54,87,23])\n",
    "s=pd.Series([11,12,13,14,15,6,7,8])\n",
    "\n",
    "df=pd.DataFrame([ser,s])\n",
    "df"
   ]
  },
  {
   "cell_type": "code",
   "execution_count": 110,
   "metadata": {},
   "outputs": [
    {
     "data": {
      "text/plain": [
       "[1, 4, 6]"
      ]
     },
     "execution_count": 110,
     "metadata": {},
     "output_type": "execute_result"
    }
   ],
   "source": [
    "# 16. How to get the positions of items of series A in another series B?\n",
    "\n",
    "s1 = pd.Series([10,34,54,76,23,54,87])\n",
    "s2 = pd.Series([34,23,87])\n",
    "\n",
    "[pd.Index(s1).get_loc(i) for i in s2]"
   ]
  },
  {
   "cell_type": "code",
   "execution_count": 143,
   "metadata": {},
   "outputs": [
    {
     "data": {
      "text/plain": [
       "2318.625"
      ]
     },
     "execution_count": 143,
     "metadata": {},
     "output_type": "execute_result"
    }
   ],
   "source": [
    "# 17. How to compute the mean squared error on a truth and predicted series?\n",
    "# MSE= (mean(y-y')^2)/n\n",
    "\n",
    "truth = pd.Series([10,34,54,76,23,54,87,9])\n",
    "predicted = pd.Series(range(10))\n",
    "np.mean((truth-predicted) **2) \n"
   ]
  },
  {
   "cell_type": "code",
   "execution_count": 150,
   "metadata": {},
   "outputs": [
    {
     "name": "stdout",
     "output_type": "stream",
     "text": [
      "Asd\n",
      "Qwe\n",
      "Zxc\n"
     ]
    }
   ],
   "source": [
    "# 18. How to convert the first character of each element in a series to uppercase?\n",
    "\n",
    "s=pd.Series(['asd','qwe','zxc'])\n",
    "for i in s:\n",
    "    print(i.title())"
   ]
  },
  {
   "cell_type": "code",
   "execution_count": 154,
   "metadata": {},
   "outputs": [
    {
     "name": "stdout",
     "output_type": "stream",
     "text": [
      "3\n",
      "9\n",
      "11\n"
     ]
    }
   ],
   "source": [
    "# 19. How to calculate the number of characters in each word in a series?\n",
    "\n",
    "s=pd.Series(['asd','qweadsfsd','zxcsgbgfbfg'])\n",
    "for i in s:\n",
    "    print(len(i))\n",
    "        "
   ]
  },
  {
   "cell_type": "code",
   "execution_count": 163,
   "metadata": {},
   "outputs": [
    {
     "data": {
      "text/html": [
       "<div>\n",
       "<style scoped>\n",
       "    .dataframe tbody tr th:only-of-type {\n",
       "        vertical-align: middle;\n",
       "    }\n",
       "\n",
       "    .dataframe tbody tr th {\n",
       "        vertical-align: top;\n",
       "    }\n",
       "\n",
       "    .dataframe thead th {\n",
       "        text-align: right;\n",
       "    }\n",
       "</style>\n",
       "<table border=\"1\" class=\"dataframe\">\n",
       "  <thead>\n",
       "    <tr style=\"text-align: right;\">\n",
       "      <th></th>\n",
       "      <th>series</th>\n",
       "      <th>diff(s1-s)</th>\n",
       "    </tr>\n",
       "  </thead>\n",
       "  <tbody>\n",
       "    <tr>\n",
       "      <th>0</th>\n",
       "      <td>10</td>\n",
       "      <td>NaN</td>\n",
       "    </tr>\n",
       "    <tr>\n",
       "      <th>1</th>\n",
       "      <td>34</td>\n",
       "      <td>24.0</td>\n",
       "    </tr>\n",
       "    <tr>\n",
       "      <th>2</th>\n",
       "      <td>54</td>\n",
       "      <td>20.0</td>\n",
       "    </tr>\n",
       "    <tr>\n",
       "      <th>3</th>\n",
       "      <td>76</td>\n",
       "      <td>22.0</td>\n",
       "    </tr>\n",
       "    <tr>\n",
       "      <th>4</th>\n",
       "      <td>23</td>\n",
       "      <td>-53.0</td>\n",
       "    </tr>\n",
       "    <tr>\n",
       "      <th>5</th>\n",
       "      <td>54</td>\n",
       "      <td>31.0</td>\n",
       "    </tr>\n",
       "    <tr>\n",
       "      <th>6</th>\n",
       "      <td>87</td>\n",
       "      <td>33.0</td>\n",
       "    </tr>\n",
       "    <tr>\n",
       "      <th>7</th>\n",
       "      <td>9</td>\n",
       "      <td>-78.0</td>\n",
       "    </tr>\n",
       "  </tbody>\n",
       "</table>\n",
       "</div>"
      ],
      "text/plain": [
       "   series  diff(s1-s)\n",
       "0      10         NaN\n",
       "1      34        24.0\n",
       "2      54        20.0\n",
       "3      76        22.0\n",
       "4      23       -53.0\n",
       "5      54        31.0\n",
       "6      87        33.0\n",
       "7       9       -78.0"
      ]
     },
     "execution_count": 163,
     "metadata": {},
     "output_type": "execute_result"
    }
   ],
   "source": [
    "# 20. How to compute difference of differences between consequtive numbers of a series?\n",
    "\n",
    "s = pd.Series([10,34,54,76,23,54,87,9])\n",
    "df=pd.DataFrame({\"series\":s,\"diff(s1-s)\":s.diff()})\n",
    "df"
   ]
  },
  {
   "cell_type": "code",
   "execution_count": null,
   "metadata": {},
   "outputs": [],
   "source": [
    "# 21. How to convert a series of date-strings to a timeseries?\n"
   ]
  },
  {
   "cell_type": "code",
   "execution_count": null,
   "metadata": {},
   "outputs": [],
   "source": [
    "# 22. How to get the day of month, week number, day of year and day of week from a series of\n",
    "# date strings?\n",
    "\n"
   ]
  },
  {
   "cell_type": "code",
   "execution_count": null,
   "metadata": {},
   "outputs": [],
   "source": [
    "# 23. How to convert year-month string to dates corresponding to the 4th day of the month?\n"
   ]
  },
  {
   "cell_type": "code",
   "execution_count": null,
   "metadata": {},
   "outputs": [],
   "source": [
    "# 24. How to filter words that contain atleast 2 vowels from a series?\n"
   ]
  },
  {
   "cell_type": "code",
   "execution_count": 16,
   "metadata": {},
   "outputs": [
    {
     "data": {
      "text/plain": [
       "0            [asd@a.com]\n",
       "1                     []\n",
       "2    [fengejrn@sklnv.in]\n",
       "3                     []\n",
       "dtype: object"
      ]
     },
     "execution_count": 16,
     "metadata": {},
     "output_type": "execute_result"
    }
   ],
   "source": [
    "# 25. How to filter valid emails from a series?\n",
    "\n",
    "s = pd.Series(['asd@a.com', 'jdvkjvnan', 'fengejrn@sklnv.in', 'egtjjgbnod'])\n",
    "pattern ='[A-Za-z0-9._%+-]+@[A-Za-z0-9.-]+\\\\.[A-Za-z]{2,4}'\n",
    "\n",
    "s.str.findall(pattern)"
   ]
  },
  {
   "cell_type": "code",
   "execution_count": 42,
   "metadata": {},
   "outputs": [
    {
     "name": "stdout",
     "output_type": "stream",
     "text": [
      "0    asd\n",
      "1    czx\n",
      "2    asd\n",
      "3    czx\n",
      "4    bqw\n",
      "5    czx\n",
      "6    czx\n",
      "7    czx\n",
      "8    asd\n",
      "9    asd\n",
      "dtype: object\n"
     ]
    },
    {
     "data": {
      "text/plain": [
       "asd    5.75\n",
       "bqw    5.00\n",
       "czx    5.40\n",
       "dtype: float64"
      ]
     },
     "execution_count": 42,
     "metadata": {},
     "output_type": "execute_result"
    }
   ],
   "source": [
    "# 26. How to get the mean of a series grouped by another series?\n",
    "\n",
    "ls=pd.Series(np.random.choice(['asd','bqw','czx'],10))\n",
    "a=pd.Series(np.linspace(1,10,10))\n",
    "print(ls)\n",
    "a.groupby(ls).mean()\n"
   ]
  },
  {
   "cell_type": "code",
   "execution_count": null,
   "metadata": {},
   "outputs": [],
   "source": [
    "# 27. How to compute the euclidean distance between two series?\n"
   ]
  },
  {
   "cell_type": "code",
   "execution_count": null,
   "metadata": {},
   "outputs": [],
   "source": [
    "# 28. How to find all the local maxima (or peaks) in a numeric series?\n"
   ]
  },
  {
   "cell_type": "code",
   "execution_count": null,
   "metadata": {},
   "outputs": [],
   "source": [
    "# 29. How to replace missing spaces in a string with the least frequent character?\n"
   ]
  },
  {
   "cell_type": "code",
   "execution_count": null,
   "metadata": {},
   "outputs": [],
   "source": [
    "# 30. How to create a TimeSeries starting ‘2000-01-01’ and 10 weekends (saturdays) after that\n",
    "# having random numbers as values?\n"
   ]
  },
  {
   "cell_type": "code",
   "execution_count": null,
   "metadata": {},
   "outputs": [],
   "source": [
    "# 31. How to fill an intermittent time series so all missing dates show up with values of previous\n",
    "# non-missing date?\n"
   ]
  },
  {
   "cell_type": "code",
   "execution_count": null,
   "metadata": {},
   "outputs": [],
   "source": [
    "# 32. How to compute the autocorrelations of a numeric series?"
   ]
  }
 ],
 "metadata": {
  "kernelspec": {
   "display_name": "Python 3",
   "language": "python",
   "name": "python3"
  },
  "language_info": {
   "codemirror_mode": {
    "name": "ipython",
    "version": 3
   },
   "file_extension": ".py",
   "mimetype": "text/x-python",
   "name": "python",
   "nbconvert_exporter": "python",
   "pygments_lexer": "ipython3",
   "version": "3.7.6"
  }
 },
 "nbformat": 4,
 "nbformat_minor": 4
}
