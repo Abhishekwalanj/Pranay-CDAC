{
 "cells": [
  {
   "cell_type": "markdown",
   "metadata": {},
   "source": [
    "# Python Practical Test 1_Feb 20"
   ]
  },
  {
   "cell_type": "markdown",
   "metadata": {},
   "source": [
    "## PRN - 200244525024\n",
    "## Name - Pranay P. Gavhale\n",
    "## Course - DBDA"
   ]
  },
  {
   "cell_type": "code",
   "execution_count": 85,
   "metadata": {},
   "outputs": [
    {
     "name": "stdout",
     "output_type": "stream",
     "text": [
      "Enter any number to count its digits: 75869\n",
      "count is 5\n"
     ]
    }
   ],
   "source": [
    "# Q1.1 Given a number count the total number of digits in a number\n",
    "# For example: The number is 75869, so the output should be 5\n",
    "\n",
    "num=int(input(\"Enter any number to count its digits: \"))\n",
    "c=0\n",
    "while num>0:\n",
    "    num=num//10\n",
    "    c+=1\n",
    "print(\"count is\",c)"
   ]
  },
  {
   "cell_type": "code",
   "execution_count": 86,
   "metadata": {},
   "outputs": [
    {
     "name": "stdout",
     "output_type": "stream",
     "text": [
      "Enter length of your list: 5\n",
      "Enter number to append in list: 10\n",
      "Enter number to append in list: 20\n",
      "Enter number to append in list: 30\n",
      "Enter number to append in list: 40\n",
      "Enter number to append in list: 50\n",
      "50\n",
      "40\n",
      "30\n",
      "20\n",
      "10\n"
     ]
    }
   ],
   "source": [
    "# Q1.2 Reverse the list using for loop e.g list1 = [10, 20, 30, 40, 50]\n",
    "# Expected output: 50,40,30,20,10 \n",
    "\n",
    "num=int(input(\"Enter length of your list: \"))\n",
    "lst=[]\n",
    "for i in range(0,num):\n",
    "    n=int(input(\"Enter number to append in list: \"))\n",
    "    lst.append(n)\n",
    "    \n",
    "#ls = [10, 20, 30, 40, 50]\n",
    "for i in lst[::-1]:\n",
    "    print(i)"
   ]
  },
  {
   "cell_type": "code",
   "execution_count": 87,
   "metadata": {},
   "outputs": [
    {
     "name": "stdout",
     "output_type": "stream",
     "text": [
      "Enter main string: Chrisdem\n",
      "Enter string to insert in between main string: IamNewString\n",
      "ChriIamNewStringsdem\n"
     ]
    }
   ],
   "source": [
    "# Q2. Given 2 strings, s1 and s2, create a new string by appending s2 in the middle of s1\n",
    "# Expected Outcome: appendMiddle(\"Chrisdem\", IamNewString) → \"ChrIamNewStringisdem\"\n",
    "\n",
    "def appendMiddle(s1,s2):\n",
    "    l=len(s1)/2\n",
    "    a=s1[0:int(l)]\n",
    "    b=s1[int(l):len(s1)+1]\n",
    "    s3=a+s2+b\n",
    "    return s3\n",
    "\n",
    "s1=input(\"Enter main string: \")\n",
    "s2=input(\"Enter string to insert in between main string: \")\n",
    "print(appendMiddle(s1,s2))"
   ]
  },
  {
   "cell_type": "code",
   "execution_count": 88,
   "metadata": {},
   "outputs": [
    {
     "name": "stdout",
     "output_type": "stream",
     "text": [
      "Enter string: PyNaTive\n",
      " \n",
      "yaivePNT\n"
     ]
    }
   ],
   "source": [
    "# Q3. Arrange String characters such that lowercase letters should come first. Given input String of combination of the \n",
    "# lower and upper case arrange characters in such a way that all lowercase letters should come first.\n",
    "# Expected Output: input_String = PyNaTive \n",
    "# arranging characters giving precedence to lowercase letters aeiNPTvy\n",
    "# arranging characters giving precedence to lowercase letters yaivePNT\n",
    "\n",
    "st=input(\"Enter string: \")\n",
    "a,b=\"\",\"\"\n",
    "print(a,b)\n",
    "for i in st:\n",
    "    if i==i.lower():\n",
    "        a=a+i\n",
    "    if i==i.upper():\n",
    "        b=b+i\n",
    "newSt=a+b\n",
    "print(newSt)     "
   ]
  },
  {
   "cell_type": "code",
   "execution_count": 89,
   "metadata": {},
   "outputs": [
    {
     "name": "stdout",
     "output_type": "stream",
     "text": [
      "Enter string: English = 78 Science = 83 Math = 68 History = 65\n",
      "sum 294 Percentage is 73.5\n"
     ]
    }
   ],
   "source": [
    "# 4. Given a string, return the sum and average of the digits that appear in the string, ignoring all other characters\n",
    "# For Example: sumAndAverage(\"English = 78 Science = 83 Math = 68 History = 65\") = sum 294 Percentage is 73.5\n",
    "\n",
    "import re\n",
    "\n",
    "def sumAndAverage(s):\n",
    "    num=int,re.findall(\"\\d+\",s)\n",
    "    s=0\n",
    "    total=0\n",
    "    for i in num[1]:\n",
    "        n=int(i)\n",
    "        s+=n\n",
    "        total+=100    \n",
    "    percent=(s/total)*100\n",
    "    print('sum', s, 'Percentage is', percent)\n",
    "\n",
    "s=input(\"Enter string: \")\n",
    "sumAndAverage(s)"
   ]
  },
  {
   "cell_type": "code",
   "execution_count": 91,
   "metadata": {},
   "outputs": [
    {
     "name": "stdout",
     "output_type": "stream",
     "text": [
      "Enter length of first list: 7\n",
      "Enter number to append in list 1: 3\n",
      "Enter number to append in list 1: 6\n",
      "Enter number to append in list 1: 9\n",
      "Enter number to append in list 1: 12\n",
      "Enter number to append in list 1: 15\n",
      "Enter number to append in list 1: 18\n",
      "Enter number to append in list 1: 21\n",
      "List One: [3, 6, 9, 12, 15, 18, 21]\n",
      "Enter length of second list: 7\n",
      "Enter number to append in list 2: 4\n",
      "Enter number to append in list 2: 8\n",
      "Enter number to append in list 2: 12\n",
      "Enter number to append in list 2: 16\n",
      "Enter number to append in list 2: 20\n",
      "Enter number to append in list 2: 24\n",
      "Enter number to append in list 2: 28\n",
      "List Two: [4, 8, 12, 16, 20, 24, 28]\n",
      "Element at odd-index positions from list one :  [6, 12, 18]\n",
      "Element at even-index positions from list two :  [4, 12, 20, 28]\n",
      " Printing Final third list : [6, 12, 18, 4, 12, 20, 28]\n"
     ]
    }
   ],
   "source": [
    "# 5. Given a two list. Create a third list by picking an odd-index element from the first list and even index elements from \n",
    "# second. For Example: listOne = [3, 6, 9, 12, 15, 18, 21] listTwo = [4, 8, 12, 16, 20, 24, 28]\n",
    "# Expected Output:\n",
    "# Element at odd-index positions from list one : [6, 12, 18]\n",
    "# Element at even-index positions from list two : [4, 12, 20, 28]\n",
    "# Printing Final third list : [6, 12, 18, 4, 12, 20, 28]\n",
    "\n",
    "#listOne = [3, 6, 9, 12, 15, 18, 21] \n",
    "#listTwo = [4, 8, 12, 16, 20, 24, 28]\n",
    "\n",
    "num1=int(input(\"Enter length of first list: \"))\n",
    "listOne=[]\n",
    "for i in range(0,num1):\n",
    "    n=int(input(\"Enter number to append in list 1: \"))\n",
    "    listOne.append(n)\n",
    "print(\"List One:\",listOne)\n",
    "num2=int(input(\"Enter length of second list: \"))\n",
    "listTwo=[]\n",
    "for i in range(0,num2):\n",
    "    n=int(input(\"Enter number to append in list 2: \"))\n",
    "    listTwo.append(n)     \n",
    "print(\"List Two:\",listTwo)\n",
    "l1,l2=[],[]\n",
    "for i in range(0,len(listOne)):\n",
    "    if i%2!=0:\n",
    "        l1.append(listOne[i])\n",
    "#print(l1)\n",
    "for i in range(0,len(listTwo)):\n",
    "    if i%2==0:\n",
    "        l2.append(listTwo[i])\n",
    "#print(l2)\n",
    "\n",
    "print(\"Element at odd-index positions from list one : \", l1)\n",
    "print(\"Element at even-index positions from list two : \", l2)\n",
    "\n",
    "listThree=l1+l2\n",
    "print(\" Printing Final third list :\",listThree)"
   ]
  },
  {
   "cell_type": "code",
   "execution_count": null,
   "metadata": {},
   "outputs": [],
   "source": []
  }
 ],
 "metadata": {
  "kernelspec": {
   "display_name": "Python 3",
   "language": "python",
   "name": "python3"
  },
  "language_info": {
   "codemirror_mode": {
    "name": "ipython",
    "version": 3
   },
   "file_extension": ".py",
   "mimetype": "text/x-python",
   "name": "python",
   "nbconvert_exporter": "python",
   "pygments_lexer": "ipython3",
   "version": "3.7.6"
  }
 },
 "nbformat": 4,
 "nbformat_minor": 4
}
