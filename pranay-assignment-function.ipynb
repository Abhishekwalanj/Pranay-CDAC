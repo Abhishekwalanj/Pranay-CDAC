{
 "cells": [
  {
   "cell_type": "code",
   "execution_count": 2,
   "metadata": {},
   "outputs": [
    {
     "data": {
      "text/plain": [
       "20"
      ]
     },
     "execution_count": 2,
     "metadata": {},
     "output_type": "execute_result"
    }
   ],
   "source": [
    "# 1. Write a Python function to find the Max of three numbers.\n",
    "\n",
    "def max_num(a,b,c):\n",
    "    return max(a,b,c)\n",
    "\n",
    "max_num(10,max(20,3),15)"
   ]
  },
  {
   "cell_type": "code",
   "execution_count": 40,
   "metadata": {},
   "outputs": [
    {
     "name": "stdout",
     "output_type": "stream",
     "text": [
      "20\n"
     ]
    }
   ],
   "source": [
    "# 2. Write a Python function to sum all the numbers in a list.\n",
    "\n",
    "def list_sum(data): \n",
    "    print(sum(data))\n",
    "        \n",
    "ls=[8,2,3,0,7]\n",
    "list_sum(ls)"
   ]
  },
  {
   "cell_type": "code",
   "execution_count": 38,
   "metadata": {},
   "outputs": [
    {
     "name": "stdout",
     "output_type": "stream",
     "text": [
      "<class 'list'>\n",
      "120\n",
      "None\n"
     ]
    }
   ],
   "source": [
    "# 3. Write a Python function to multiply all the numbers in a list.\n",
    "\n",
    "def list_prod(data):\n",
    "    print(type(data))\n",
    "    m=1\n",
    "    \n",
    "    for i in data:\n",
    "        m*=i\n",
    "    print(m)\n",
    "        \n",
    "list1=[1,2,3,4,5]    \n",
    "print(list_prod(list1))\n"
   ]
  },
  {
   "cell_type": "code",
   "execution_count": 43,
   "metadata": {},
   "outputs": [
    {
     "name": "stdout",
     "output_type": "stream",
     "text": [
      "e m   s i   s i h t   o l l e H "
     ]
    }
   ],
   "source": [
    "# 4. Write a Python program to reverse a string.\n",
    "\n",
    "stra=\"Hello this is me\"\n",
    "\n",
    "for i in stra[::-1]:\n",
    "    print(i,end=\" \")\n"
   ]
  },
  {
   "cell_type": "code",
   "execution_count": 72,
   "metadata": {},
   "outputs": [
    {
     "name": "stdout",
     "output_type": "stream",
     "text": [
      "num= 5\n",
      "120\n"
     ]
    }
   ],
   "source": [
    "# 5. Write a Python function to calculate the factorial of a number (a non-negative integer). The function\n",
    "# accepts the number as an argument.\n",
    "\n",
    "def fact(num):\n",
    "    print(\"num=\",num)\n",
    "    factn=1\n",
    "    for i in range(1,num+1):\n",
    "        factn=factn*i        \n",
    "    print(factn)   \n",
    "    \n",
    "fact(5)"
   ]
  },
  {
   "cell_type": "code",
   "execution_count": 80,
   "metadata": {},
   "outputs": [
    {
     "name": "stdout",
     "output_type": "stream",
     "text": [
      "number present in given range\n"
     ]
    }
   ],
   "source": [
    "# 6. Write a Python function to check whether a number is in a given range.\n",
    "\n",
    "def rang(s,e,num):\n",
    "    for i in range(s,e):\n",
    "        if num==i:\n",
    "            print(\"number present in given range\")\n",
    "\n",
    "rang(1,10,5)"
   ]
  },
  {
   "cell_type": "code",
   "execution_count": 85,
   "metadata": {},
   "outputs": [
    {
     "name": "stdout",
     "output_type": "stream",
     "text": [
      "lower case letter = 12\n",
      "upper case letter = 3\n"
     ]
    }
   ],
   "source": [
    "# 7. Write a Python function that accepts a string and calculate the number of upper case letters and lower case letters.\n",
    "\n",
    "def uplow(stra):\n",
    "    count_lower=0\n",
    "    count_upper=0\n",
    "    for i in stra:\n",
    "        if i.islower():\n",
    "            count_lower+=1\n",
    "        if i.isupper():\n",
    "            count_upper+=1    \n",
    "    print(\"lower case letter =\",count_lower)\n",
    "    print(\"upper case letter =\",count_upper)\n",
    "    \n",
    "uplow(\"The quick Brow Fox\")   \n",
    "        "
   ]
  },
  {
   "cell_type": "code",
   "execution_count": 91,
   "metadata": {},
   "outputs": [
    {
     "name": "stdout",
     "output_type": "stream",
     "text": [
      "[1, 2, 3, 4, 5]\n",
      "<class 'list'>\n"
     ]
    }
   ],
   "source": [
    "# 8. Write a Python function that takes a list and returns a new list with unique elements of the first list.\n",
    "\n",
    "def uni(elements):\n",
    "    s={0}\n",
    "    for i in elements:\n",
    "        s.add(i)\n",
    "    s.remove(0)\n",
    "    l=[]\n",
    "    for i in s:\n",
    "        l.append(i)\n",
    "    print(l)\n",
    "    print(type(l))\n",
    "\n",
    "ls=[1,2,3,3,3,3,4,5]\n",
    "uni(ls)"
   ]
  },
  {
   "cell_type": "code",
   "execution_count": 183,
   "metadata": {},
   "outputs": [
    {
     "name": "stdout",
     "output_type": "stream",
     "text": [
      "[1, 2, 3, 4, 5]\n"
     ]
    }
   ],
   "source": [
    "# 8. Write a Python function that takes a list and returns a new list with unique elements of the first list.\n",
    "\n",
    "def list(l):\n",
    "    x=[]\n",
    "    for i in l:\n",
    "        if i not in x:\n",
    "            x.append(i)\n",
    "    return x\n",
    "\n",
    "print(list([1,2,3,3,3,3,4,5]))"
   ]
  },
  {
   "cell_type": "code",
   "execution_count": 145,
   "metadata": {},
   "outputs": [
    {
     "name": "stdout",
     "output_type": "stream",
     "text": [
      "num not equal to prime\n"
     ]
    }
   ],
   "source": [
    "# 9. Write a Python function that takes a number as a parameter and check the number is prime or not.\n",
    "\n",
    "def prime(num):\n",
    "    if num>1:\n",
    "        for i in range(2,num):\n",
    "            if num%i==0:\n",
    "                print(\"num not equal to prime\")\n",
    "                break\n",
    "        else:\n",
    "            print(\"num equal to prime\")\n",
    "        \n",
    "\n",
    "prime(100)"
   ]
  },
  {
   "cell_type": "code",
   "execution_count": 149,
   "metadata": {},
   "outputs": [
    {
     "name": "stdout",
     "output_type": "stream",
     "text": [
      "2 4 6 8 0 "
     ]
    }
   ],
   "source": [
    "#10 Write a Python program to print the even numbers from a given list.\n",
    "\n",
    "def even(ls):\n",
    "    for i in ls:\n",
    "        if i%2==0:\n",
    "            print(i,end=\" \")\n",
    "\n",
    "l=[1,2,3,4,5,6,7,8,9,0]\n",
    "even(l)\n"
   ]
  },
  {
   "cell_type": "code",
   "execution_count": null,
   "metadata": {},
   "outputs": [],
   "source": [
    "# 11 Write a Python function to check whether a number is perfect or not.\n",
    "\n"
   ]
  },
  {
   "cell_type": "code",
   "execution_count": 197,
   "metadata": {},
   "outputs": [
    {
     "name": "stdout",
     "output_type": "stream",
     "text": [
      "dsa\n",
      "not pallindrome\n"
     ]
    }
   ],
   "source": [
    "# 12. Write a Python function that checks whether a passed string is palindrome or not.\n",
    "\n",
    "def pld(stra):\n",
    "    strb=''\n",
    "    for i in stra:\n",
    "        strb=i+strb\n",
    "        \n",
    "    print(strb)\n",
    "    if stra==strb:\n",
    "        print(\"pallindrome\")\n",
    "    else:\n",
    "        print(\"not pallindrome\")       \n",
    "    \n",
    "pld('asd')\n"
   ]
  },
  {
   "cell_type": "code",
   "execution_count": 198,
   "metadata": {},
   "outputs": [],
   "source": [
    "# 13. Write a Python function that prints out the first n rows of Pascal's triangle.\n"
   ]
  },
  {
   "cell_type": "code",
   "execution_count": 208,
   "metadata": {},
   "outputs": [
    {
     "name": "stdout",
     "output_type": "stream",
     "text": [
      "panagram\n",
      "not panagram\n"
     ]
    }
   ],
   "source": [
    "# 14. Write a Python function to check whether a string is a pangram or not.\n",
    "\n",
    "def panagram(str):\n",
    "    aplha='abcdefghijklmnopqrstuvwxyz'\n",
    "    for i in aplha:\n",
    "        if i not in str.lower():\n",
    "            print(\"not panagram\")\n",
    "            break\n",
    "    else:\n",
    "        print(\"panagram\")\n",
    "            \n",
    "panagram(\"The quick brown fox jumps over the lazy dog\")\n",
    "panagram(\"this is me\")"
   ]
  },
  {
   "cell_type": "code",
   "execution_count": 230,
   "metadata": {},
   "outputs": [
    {
     "name": "stdout",
     "output_type": "stream",
     "text": [
      "black-green-red-white-yellow\n"
     ]
    }
   ],
   "source": [
    "# 15. Write a Python program that accepts a hyphen-separated sequence of words as input and prints the\n",
    "# words in a hyphen-separated sequence after sorting them alphabetically.\n",
    "\n",
    "def sep(str):\n",
    "    stra=[i for i in str.split(\"-\")]\n",
    "    print('-'.join(sorted(stra)))\n",
    "        \n",
    "sep(\"green-red-yellow-black-white\")\n"
   ]
  },
  {
   "cell_type": "code",
   "execution_count": 235,
   "metadata": {},
   "outputs": [
    {
     "name": "stdout",
     "output_type": "stream",
     "text": [
      "[1, 4, 9, 16, 25, 36, 49, 64, 81, 100, 121, 144, 169, 196, 225, 256, 289, 324, 361, 400, 441, 484, 529, 576, 625, 676, 729, 784, 841, 900]\n"
     ]
    }
   ],
   "source": [
    "# 16. Write a Python function to create and print a list where the values are square of numbers between 1 and 30\n",
    "\n",
    "def sq():\n",
    "    ls=[]\n",
    "    for i in range(1,31):\n",
    "        ls.append(i**2)\n",
    "    print(ls)\n",
    "\n",
    "sq()"
   ]
  },
  {
   "cell_type": "code",
   "execution_count": 237,
   "metadata": {},
   "outputs": [
    {
     "name": "stdout",
     "output_type": "stream",
     "text": [
      "<b><i><u>This statement is decorative</u></i></b>\n"
     ]
    }
   ],
   "source": [
    "# 17. Write a Python program to make a chain of function decorators (bold, italic, underline etc.) in Python.\n",
    "\n",
    "def bold(str):\n",
    "    def wrapped():\n",
    "        return \"<b>\"+str()+\"</b>\"\n",
    "    return wrapped\n",
    "\n",
    "def italics(str):\n",
    "    def wrapped():\n",
    "        return \"<i>\"+str()+\"</i>\"\n",
    "    return wrapped\n",
    "\n",
    "def underline(str):\n",
    "    def wrapped():\n",
    "        return \"<u>\"+str()+\"</u>\"\n",
    "    return wrapped\n",
    "\n",
    "@bold\n",
    "@italics\n",
    "@underline\n",
    "def words():\n",
    "    return \"This statement is decorative\"\n",
    "\n",
    "print(words())\n",
    "\n"
   ]
  },
  {
   "cell_type": "code",
   "execution_count": 240,
   "metadata": {},
   "outputs": [
    {
     "name": "stdout",
     "output_type": "stream",
     "text": [
      "30\n"
     ]
    }
   ],
   "source": [
    "# 18. Write a Python program to execute a string containing Python code.\n",
    "\n",
    "str=\"\"\"\n",
    "a=10\n",
    "b=20\n",
    "print(a+b)\n",
    "\"\"\"\n",
    "exec(str)"
   ]
  },
  {
   "cell_type": "code",
   "execution_count": 246,
   "metadata": {},
   "outputs": [
    {
     "name": "stdout",
     "output_type": "stream",
     "text": [
      "9\n"
     ]
    }
   ],
   "source": [
    "# 19. Write a Python program to access a function inside a function.\n",
    "\n",
    "def test(a):\n",
    "    def add(b):\n",
    "        nonlocal a\n",
    "        a+=1\n",
    "        return a+b\n",
    "    return add\n",
    "\n",
    "asd=test(4)\n",
    "print(asd(4))\n",
    "\n"
   ]
  },
  {
   "cell_type": "code",
   "execution_count": 248,
   "metadata": {},
   "outputs": [
    {
     "name": "stdout",
     "output_type": "stream",
     "text": [
      "3\n"
     ]
    }
   ],
   "source": [
    "# 20. Write a Python program to detect the number of local variables declared in a function.\n",
    "\n",
    "def local_vars():\n",
    "    a=10\n",
    "    b=2.42\n",
    "    c=\"asd\"\n",
    "    \n",
    "print(local_vars.__code__.co_nlocals)\n"
   ]
  }
 ],
 "metadata": {
  "kernelspec": {
   "display_name": "Python 3",
   "language": "python",
   "name": "python3"
  },
  "language_info": {
   "codemirror_mode": {
    "name": "ipython",
    "version": 3
   },
   "file_extension": ".py",
   "mimetype": "text/x-python",
   "name": "python",
   "nbconvert_exporter": "python",
   "pygments_lexer": "ipython3",
   "version": "3.7.6"
  }
 },
 "nbformat": 4,
 "nbformat_minor": 4
}
