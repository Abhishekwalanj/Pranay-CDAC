{
 "cells": [
  {
   "cell_type": "code",
   "execution_count": 2,
   "metadata": {},
   "outputs": [
    {
     "name": "stdout",
     "output_type": "stream",
     "text": [
      "[1505, 1540, 1575, 1610, 1645, 1680, 1715, 1750, 1785, 1820, 1855, 1890, 1925, 1960, 1995, 2030, 2065, 2100, 2135, 2170, 2205, 2240, 2275, 2310, 2345, 2380, 2415, 2450, 2485, 2520, 2555, 2590, 2625, 2660, 2695]\n"
     ]
    }
   ],
   "source": [
    "# 1. Write a Python program to find those numbers which are divisible by 7 and multiple of 5, between 1500 and 2700 (both included)\n",
    "ls=[]\n",
    "for i in range(1500,2701):\n",
    "    if i%7==0 and i%5==0:\n",
    "        ls.append(i)\n",
    "print(ls)"
   ]
  },
  {
   "cell_type": "code",
   "execution_count": 19,
   "metadata": {},
   "outputs": [
    {
     "name": "stdout",
     "output_type": "stream",
     "text": [
      "Original Temps: Celcius-> 60 Fahrenheit-> 45\n",
      "60°C is 140 in Fahrenheit. 45°F is 7 in Celsius\n"
     ]
    }
   ],
   "source": [
    "# 2. Write a Python program to convert temperatures to and from celsius, fahrenheit. \n",
    "# [ Formula : c/5 = f-32/9 [ where c = temperature in celsius and f = temperature in fahrenheit ]\n",
    "# Expected Output : 60°C is 140 in Fahrenheit 45°F is 7 in Celsius\n",
    "\n",
    "c,f=60,45\n",
    "print(\"Original Temps: Celcius->\",c,\"Fahrenheit->\",f)\n",
    "fahr=(c//5)*9+32\n",
    "cel=(f-32)*5//9\n",
    "print(\"60°C is\",fahr,\"in Fahrenheit. 45°F is\",cel,\"in Celsius\")"
   ]
  },
  {
   "cell_type": "code",
   "execution_count": 28,
   "metadata": {},
   "outputs": [
    {
     "name": "stdout",
     "output_type": "stream",
     "text": [
      "Enter a number between 1 to 9: 5\n",
      "2\n",
      "Enter a number between 1 to 9: 4\n",
      "8\n",
      "Enter a number between 1 to 9: 6\n",
      "4\n",
      "Enter a number between 1 to 9: 1\n",
      "9\n",
      "Enter a number between 1 to 9: 9\n",
      "2\n",
      "Enter a number between 1 to 9: 4\n",
      "4\n",
      "Well guessed!\n"
     ]
    }
   ],
   "source": [
    "# 3. Write a Python program to guess a number between 1 to 9. \n",
    "# Note : User is prompted to enter a guess. If the user guesses wrong then the prompt appears again until the guess is correct, \n",
    "# on successful guess, user will get a \"Well guessed!\" message, and the program will exit.\n",
    "\n",
    "import random\n",
    "while True:\n",
    "    guess=int(input(\"Enter a number between 1 to 9: \"))\n",
    "    a=random.randint(1,9)\n",
    "    print(a)\n",
    "    if a==guess:\n",
    "        print(\"Well guessed!\")\n",
    "        break"
   ]
  },
  {
   "cell_type": "code",
   "execution_count": 1,
   "metadata": {},
   "outputs": [
    {
     "name": "stdout",
     "output_type": "stream",
     "text": [
      "* \n",
      "* * \n",
      "* * * \n",
      "* * * * \n",
      "* * * * * \n",
      "* * * * \n",
      "* * * \n",
      "* * \n",
      "* \n"
     ]
    }
   ],
   "source": [
    "# 4. Write a Python program to construct the following pattern, using a nested for loop.\n",
    "'''\n",
    "* \n",
    "* * \n",
    "* * * \n",
    "* * * * \n",
    "* * * * * \n",
    "* * * * \n",
    "* * * \n",
    "* * \n",
    "*\n",
    "'''\n",
    "n=5\n",
    "for i in range(1,n+1):\n",
    "    print(\"* \"*i)\n",
    "for i in range(n-1,0,-1):\n",
    "    print(\"* \"*i)"
   ]
  },
  {
   "cell_type": "code",
   "execution_count": 5,
   "metadata": {},
   "outputs": [
    {
     "name": "stdout",
     "output_type": "stream",
     "text": [
      "Enter a word: PRANAY\n",
      "YANARP\n"
     ]
    }
   ],
   "source": [
    "# 5. Write a Python program that accepts a word from the user and reverse it. \n",
    "\n",
    "word=input(\"Enter a word: \")\n",
    "neWord=''\n",
    "for i in word[::-1]:\n",
    "    neWord+=i\n",
    "print(neWord)"
   ]
  },
  {
   "cell_type": "code",
   "execution_count": 8,
   "metadata": {},
   "outputs": [
    {
     "name": "stdout",
     "output_type": "stream",
     "text": [
      "Even numbers: 4 Odd Numbers: 5\n"
     ]
    }
   ],
   "source": [
    "'''6. Write a Python program to count the number of even and odd numbers from a series of numbers. \n",
    "Sample numbers : numbers = (1, 2, 3, 4, 5, 6, 7, 8, 9) \n",
    "Expected Output :\n",
    "Number of even numbers : 5\n",
    "Number of odd numbers : 4\n",
    "'''\n",
    "\n",
    "numbers = (1, 2, 3, 4, 5, 6, 7, 8, 9)\n",
    "e=o=0\n",
    "for i in numbers:\n",
    "    if i%2==0:\n",
    "        e+=1\n",
    "    else:\n",
    "        o+=1\n",
    "print(\"Even numbers:\",e,\"Odd Numbers:\",o)"
   ]
  },
  {
   "cell_type": "code",
   "execution_count": 11,
   "metadata": {},
   "outputs": [
    {
     "name": "stdout",
     "output_type": "stream",
     "text": [
      "1452 ---> <class 'int'>\n",
      "11.23 ---> <class 'float'>\n",
      "(1+2j) ---> <class 'complex'>\n",
      "True ---> <class 'bool'>\n",
      "w3resource ---> <class 'str'>\n",
      "(0, -1) ---> <class 'tuple'>\n",
      "[5, 12] ---> <class 'list'>\n",
      "{'class': 'V', 'section': 'A'} ---> <class 'dict'>\n"
     ]
    }
   ],
   "source": [
    "'''7. Write a Python program that prints each item and its corresponding type from the following list.\n",
    "Sample List : datalist = [1452, 11.23, 1+2j, True, 'w3resource', (0, -1), [5, 12], {\"class\":'V', \"section\":'A'}]\n",
    "'''\n",
    "datalist = [1452, 11.23, 1+2j, True, 'w3resource', (0, -1), [5, 12], {\"class\":'V', \"section\":'A'}]\n",
    "for i in datalist:\n",
    "    print(i,\"--->\",type(i))"
   ]
  },
  {
   "cell_type": "code",
   "execution_count": 18,
   "metadata": {},
   "outputs": [
    {
     "name": "stdout",
     "output_type": "stream",
     "text": [
      "0 1 2 4 5 "
     ]
    }
   ],
   "source": [
    "'''8. Write a Python program that prints all the numbers from 0 to 6 except 3 and 6.\n",
    "Note : Use 'continue' statement.\n",
    "Expected Output : 0 1 2 4 5\n",
    "'''\n",
    "\n",
    "for i in range(0,7):\n",
    "    if i==3 or i==6:\n",
    "        continue\n",
    "    else:\n",
    "        print(i,end=' ')\n",
    "        "
   ]
  },
  {
   "cell_type": "code",
   "execution_count": 32,
   "metadata": {},
   "outputs": [
    {
     "name": "stdout",
     "output_type": "stream",
     "text": [
      "1 1 2 3 5 8 13 21 34 "
     ]
    }
   ],
   "source": [
    "'''9. Write a Python program to get the Fibonacci series between 0 to 50. \n",
    "Note : The Fibonacci Sequence is the series of numbers :\n",
    "0, 1, 1, 2, 3, 5, 8, 13, 21, ....\n",
    "Every next number is found by adding up the two numbers before it.\n",
    "Expected Output : 1 1 2 3 5 8 13 21 34\n",
    "'''\n",
    "\n",
    "a,b=0,1\n",
    "while b<51:\n",
    "    a,b=b,a+b\n",
    "    print(a,end=\" \")\n"
   ]
  },
  {
   "cell_type": "code",
   "execution_count": 36,
   "metadata": {},
   "outputs": [
    {
     "name": "stdout",
     "output_type": "stream",
     "text": [
      "FizzBuzz---> [15, 30, 45] \n",
      "Fizz---> [3, 6, 9, 12, 18, 21, 24, 27, 33, 36, 39, 42, 48] \n",
      "Buzz---> [5, 10, 20, 25, 35, 40, 50]\n"
     ]
    }
   ],
   "source": [
    "'''10. Write a Python program which iterates the integers from 1 to 50. For multiples of three print \"Fizz\" instead of the \n",
    "number and for the multiples of five print \"Buzz\". For numbers which are multiples of both three and five print \"FizzBuzz\".\n",
    "Sample Output : fizzbuzz 1 2 fizz 4 buzz\n",
    "'''\n",
    "fb=[]\n",
    "f=[]\n",
    "b=[]\n",
    "for i in range(1,51):\n",
    "    if i%3==0 and i%5==0:\n",
    "        fb.append(i)\n",
    "    elif i%3==0:\n",
    "        f.append(i)\n",
    "    elif i%5==0:\n",
    "        b.append(i)\n",
    "print('FizzBuzz--->',fb,'\\nFizz--->',f,'\\nBuzz--->',b)"
   ]
  },
  {
   "cell_type": "code",
   "execution_count": 66,
   "metadata": {},
   "outputs": [
    {
     "name": "stdout",
     "output_type": "stream",
     "text": [
      "Enter m: 3\n",
      "Enter n: 4\n",
      "Rows = 3 Columns = 4\n",
      "[[0, 0, 0, 0], [0, 1, 2, 3], [0, 2, 4, 6]]\n"
     ]
    }
   ],
   "source": [
    "'''11. Write a Python program which takes two digits m (row) and n (column) as input and generates a two-dimensional array. \n",
    "The element value in the i-th row and j-th column of the array should be i*j. \n",
    "Note :\n",
    "i = 0,1.., m-1\n",
    "j = 0,1, n-1.\n",
    "Test Data : Rows = 3, Columns = 4\n",
    "Expected Result : [[0, 0, 0, 0], [0, 1, 2, 3], [0, 2, 4, 6]]\n",
    "'''\n",
    "\n",
    "m=int(input(\"Enter m: \"))\n",
    "n=int(input(\"Enter n: \"))\n",
    "print('Rows =',m,'Columns =',n)\n",
    "ls2=[]\n",
    "for i in range(0,m):\n",
    "    ls=[]\n",
    "    for j in range(0,n):\n",
    "        ls.append(j*i) \n",
    "    ls2.append(ls)\n",
    "print(ls2)"
   ]
  },
  {
   "cell_type": "code",
   "execution_count": null,
   "metadata": {},
   "outputs": [],
   "source": [
    "'''12. Write a Python program that accepts a sequence of lines (blank line to terminate) as input and prints the lines as \n",
    "output (all characters in lower case). '''\n",
    "\n",
    "lines=[]\n",
    "print(\"Enter lines. To break, enter nothing.\")\n",
    "while True:\n",
    "    l=input(\"- \")\n",
    "    if l=='':\n",
    "        break\n",
    "    else:\n",
    "        lines.append(l.lower())\n",
    "\n",
    "for i in lines:\n",
    "    print(i,end=' ')\n",
    "#print(lines)"
   ]
  },
  {
   "cell_type": "code",
   "execution_count": null,
   "metadata": {},
   "outputs": [],
   "source": []
  }
 ],
 "metadata": {
  "kernelspec": {
   "display_name": "Python 3",
   "language": "python",
   "name": "python3"
  },
  "language_info": {
   "codemirror_mode": {
    "name": "ipython",
    "version": 3
   },
   "file_extension": ".py",
   "mimetype": "text/x-python",
   "name": "python",
   "nbconvert_exporter": "python",
   "pygments_lexer": "ipython3",
   "version": "3.7.6"
  }
 },
 "nbformat": 4,
 "nbformat_minor": 4
}
