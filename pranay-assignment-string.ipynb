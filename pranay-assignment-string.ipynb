{
 "cells": [
  {
   "cell_type": "code",
   "execution_count": 1,
   "metadata": {},
   "outputs": [
    {
     "data": {
      "text/plain": [
       "8"
      ]
     },
     "execution_count": 1,
     "metadata": {},
     "output_type": "execute_result"
    }
   ],
   "source": [
    "# 1. Write a Python program to calculate the length of a string. \n",
    "\n",
    "a=\"sbvdkfbv\"\n",
    "len(a)"
   ]
  },
  {
   "cell_type": "code",
   "execution_count": 32,
   "metadata": {},
   "outputs": [
    {
     "name": "stdout",
     "output_type": "stream",
     "text": [
      "Using set:\n",
      "o 3\n",
      "g 2\n",
      ". 1\n",
      "e 1\n",
      "c 1\n",
      "m 1\n",
      "l 1\n",
      "Using dictionary:\n"
     ]
    },
    {
     "data": {
      "text/plain": [
       "{'g': 2, 'o': 3, 'l': 1, 'e': 1, '.': 1, 'c': 1, 'm': 1}"
      ]
     },
     "execution_count": 32,
     "metadata": {},
     "output_type": "execute_result"
    }
   ],
   "source": [
    "# 2. Write a Python program to count the number of characters (character frequency)\n",
    "# in a string. Sample String : google.com'\n",
    "# Expected Result : {'o': 3, 'g': 2, '.': 1, 'e': 1, 'l': 1, 'm': 1, 'c': 1}\n",
    "\n",
    "a='google.com'\n",
    "s={0}\n",
    "for i in a:\n",
    "    s.add(i)\n",
    "s.remove(0)\n",
    "print(\"Using set:\")\n",
    "for i in s:\n",
    "    print(i,a.count(i))\n",
    "d={}\n",
    "for i in a:\n",
    "    keys=d.keys()\n",
    "    if i in keys:\n",
    "        d[i]+=1\n",
    "    else:\n",
    "        d[i]=1\n",
    "print(\"Using dictionary:\")\n",
    "d"
   ]
  },
  {
   "cell_type": "code",
   "execution_count": 43,
   "metadata": {},
   "outputs": [
    {
     "name": "stdout",
     "output_type": "stream",
     "text": [
      "jdfbgdbg string---> jdbg\n",
      "as string---> asas\n",
      "a string--->\n"
     ]
    }
   ],
   "source": [
    "# 3. Write a Python program to get a string made of the first 2 and the last 2 chars from a given a string. \n",
    "# If the string length is less than 2, return instead of the empty string. \n",
    "\n",
    "def newStr(a):\n",
    "    if len(a)<2:\n",
    "        print(a,\"string--->\")\n",
    "    else:\n",
    "        print(a,\"string--->\",a[0:2]+a[-2:])\n",
    "        \n",
    "s='jdfbgdbg'\n",
    "s1='as'\n",
    "s2='a'\n",
    "\n",
    "newStr(s)\n",
    "newStr(s1)\n",
    "newStr(s2)\n"
   ]
  },
  {
   "cell_type": "code",
   "execution_count": 6,
   "metadata": {},
   "outputs": [
    {
     "name": "stdout",
     "output_type": "stream",
     "text": [
      "ruba$o$o$\n"
     ]
    }
   ],
   "source": [
    "# 4. Write a Python program to get a string from a given string where all occurrences of its first char \n",
    "# have been changed to '$', except the first char itself. \n",
    "\n",
    "s='rubaroror'\n",
    "a=s[0]\n",
    "s=s.replace(a,'$')\n",
    "s=a+s[1:]\n",
    "print(s)"
   ]
  },
  {
   "cell_type": "code",
   "execution_count": 11,
   "metadata": {},
   "outputs": [
    {
     "name": "stdout",
     "output_type": "stream",
     "text": [
      "asd qwe\n"
     ]
    }
   ],
   "source": [
    "# . Write a Python program to get a single string from two given strings, separated by a space and swap \n",
    "# the first two characters of each string. \n",
    "\n",
    "s1='asd'\n",
    "s2=\"qwe\"\n",
    "s=s1+\" \"+s2\n",
    "print(s)"
   ]
  },
  {
   "cell_type": "code",
   "execution_count": 18,
   "metadata": {},
   "outputs": [
    {
     "name": "stdout",
     "output_type": "stream",
     "text": [
      "as\n",
      "asding\n",
      "asdly\n"
     ]
    }
   ],
   "source": [
    "# 6. Write a Python program to add 'ing' at the end of a given string (length should be at least 3).\n",
    "# If the given string already ends with 'ing' then add 'ly' instead. \n",
    "# If the string length of the given string is less than 3, leave it unchanged. \n",
    "\n",
    "def ingly(s):\n",
    "    if len(s)>2:\n",
    "        if s[-3:]=='ing':\n",
    "            s=s.replace('ing','ly')\n",
    "        else:\n",
    "            s+='ing'\n",
    "    print(s)\n",
    "\n",
    "ingly('as')\n",
    "ingly('asd')\n",
    "ingly('asding')\n",
    "\n"
   ]
  },
  {
   "cell_type": "code",
   "execution_count": 19,
   "metadata": {},
   "outputs": [],
   "source": [
    "# 7. Write a Python program to find the first appearance of the substring 'not' and 'poor' from a given string, if \n",
    "# 'not' follows the 'poor', replace the whole 'not'...'poor' substring with 'good'. Return the resulting string. \n",
    "\n"
   ]
  },
  {
   "cell_type": "code",
   "execution_count": 44,
   "metadata": {},
   "outputs": [
    {
     "name": "stdout",
     "output_type": "stream",
     "text": [
      "jkvbsdfvdbjbs\n"
     ]
    }
   ],
   "source": [
    "# 8. Write a Python function that takes a list of words and returns the length of the longest one. \n",
    "\n",
    "def sl(s):\n",
    "    m=0\n",
    "    a=''\n",
    "    for i in s:\n",
    "        if len(i)>m:\n",
    "            m=len(i)\n",
    "            a=i\n",
    "    return a\n",
    "\n",
    "s=['ad','asdf','ertegffc','jkvbsdfvdbjbs','ndkf']\n",
    "print(sl(s))"
   ]
  },
  {
   "cell_type": "code",
   "execution_count": 72,
   "metadata": {},
   "outputs": [
    {
     "name": "stdout",
     "output_type": "stream",
     "text": [
      "dnvld\n"
     ]
    }
   ],
   "source": [
    "# 9. Write a Python program to remove the nth index character from a nonempty string. \n",
    "\n",
    "s='dnvldf'\n",
    "i=5\n",
    "s1=s[:i]\n",
    "s2=s[i+1:]\n",
    "print(s1+s2)"
   ]
  },
  {
   "cell_type": "code",
   "execution_count": 80,
   "metadata": {},
   "outputs": [
    {
     "name": "stdout",
     "output_type": "stream",
     "text": [
      "csdqwezxa\n"
     ]
    }
   ],
   "source": [
    "# 10. Write a Python program to change a given string to a new string where the first and last chars have been \n",
    "# exchanged.\n",
    "\n",
    "a='asdqwezxc'\n",
    "f=a[0]\n",
    "l=a[-1]\n",
    "s=l+a[1:-1]+f\n",
    "print(s)"
   ]
  },
  {
   "cell_type": "code",
   "execution_count": 105,
   "metadata": {},
   "outputs": [
    {
     "name": "stdout",
     "output_type": "stream",
     "text": [
      "asd\n"
     ]
    }
   ],
   "source": [
    "# 11. Write a Python program to remove the characters which have odd index values of a given string. \n",
    "\n",
    "s='a1s3d5'\n",
    "m=''\n",
    "for i in range(0,len(s)):\n",
    "    if i%2==0:\n",
    "        m+=s[i]\n",
    "print(m)\n"
   ]
  },
  {
   "cell_type": "code",
   "execution_count": 131,
   "metadata": {},
   "outputs": [
    {
     "name": "stdout",
     "output_type": "stream",
     "text": [
      "original----> ['this', 'is', 'me', 'me', 'is', 'not', 'good']\n",
      "splitted----> {'not', 'is', 'this', 'good', 'me'}\n",
      "not ----> 1\n",
      "is ----> 3\n",
      "this ----> 1\n",
      "good ----> 1\n",
      "me ----> 2\n"
     ]
    }
   ],
   "source": [
    "# 12. Write a Python program to count the occurrences of each word in a given sentence. \n",
    "\n",
    "s='this is me me is not good'\n",
    "a=s.split()\n",
    "print('original---->',a)\n",
    "sa={''}\n",
    "for i in a:\n",
    "    sa.add(i)\n",
    "\n",
    "sa.remove('')\n",
    "print('splitted---->',sa)\n",
    "\n",
    "for i in sa:\n",
    "    print(i,'---->',s.count(i))"
   ]
  },
  {
   "cell_type": "code",
   "execution_count": 138,
   "metadata": {},
   "outputs": [
    {
     "name": "stdin",
     "output_type": "stream",
     "text": [
      "Enter a String:  asd\n"
     ]
    },
    {
     "name": "stdout",
     "output_type": "stream",
     "text": [
      "asd\n",
      "lower---> asd upper---> ASD\n"
     ]
    }
   ],
   "source": [
    "# 13. Write a Python script that takes input from the user and displays that input back in upper and lower cases. \n",
    "\n",
    "s=input('Enter a String: ')\n",
    "print(s)    \n",
    "print('lower--->',s.lower(),'upper--->',s.upper())\n"
   ]
  },
  {
   "cell_type": "code",
   "execution_count": null,
   "metadata": {},
   "outputs": [],
   "source": []
  }
 ],
 "metadata": {
  "kernelspec": {
   "display_name": "Python 3",
   "language": "python",
   "name": "python3"
  },
  "language_info": {
   "codemirror_mode": {
    "name": "ipython",
    "version": 3
   },
   "file_extension": ".py",
   "mimetype": "text/x-python",
   "name": "python",
   "nbconvert_exporter": "python",
   "pygments_lexer": "ipython3",
   "version": "3.7.6"
  }
 },
 "nbformat": 4,
 "nbformat_minor": 4
}
